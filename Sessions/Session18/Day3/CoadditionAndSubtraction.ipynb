{
 "cells": [
  {
   "cell_type": "markdown",
   "metadata": {},
   "source": [
    "# Coaddition and Subtraction\n",
    "\n",
    "Version 0.2\n",
    "\n",
    "By Yusra AlSayyad (Princeton University)\n",
    "\n",
    "This notebook provides some problems for ground-based coaddition and subtraction.\n",
    "\n",
    "We add and subtract images for different purposes: addition to get the benefits of longer exposures and subtraction to reveal what has changed.  However, in order to perform either operation, the following  image characteristics need to be normalized:\n",
    "* Astrometric calibration (i.e. WCS)\n",
    "* Photometric calibration (i.e. Zeropoint)\n",
    "* Background level\n",
    "* Point Spread Function (PSF) (optional for coaddition)\n",
    "\n",
    "For these problems, we'll assume that we have images that have already been normalized for WCS, zeropoint, and background variations.\n",
    "\n",
    "### Problem 1) Expected depth of a coadd\n",
    "\n",
    "In order of magnitude calculations, you may hear people throw around the statement that the depth of a coadd increases by a factor of $\\sqrt{N}$  for N single-epoch images. Where does this come from? Under what conditions is this a good approximation?\n",
    "\n",
    "We are going to use our same star + noise 1-D simulation from  `IntroductionToBasicStellarPhotometry.ipynb` and `FindingSources.ipynb`:"
   ]
  },
  {
   "cell_type": "code",
   "execution_count": 1,
   "metadata": {},
   "outputs": [],
   "source": [
    "import matplotlib.pyplot as plt\n",
    "import numpy as np\n",
    "from matplotlib.ticker import MultipleLocator\n",
    "from scipy.stats import norm"
   ]
  },
  {
   "cell_type": "code",
   "execution_count": 2,
   "metadata": {},
   "outputs": [],
   "source": [
    "def pixel_plot(pix, counts, fig=None, ax=None): \n",
    "    '''Make a pixelated 1D plot'''\n",
    "    if fig is None and ax is None:\n",
    "        fig, ax = plt.subplots()\n",
    "    \n",
    "    ax.step(pix, counts, \n",
    "            where='post')\n",
    "    \n",
    "    ax.set_xlabel('pixel number')\n",
    "    ax.set_ylabel('relative counts')\n",
    "    ax.xaxis.set_minor_locator(MultipleLocator(1))\n",
    "    ax.xaxis.set_major_locator(MultipleLocator(5))\n",
    "    fig.tight_layout()\n",
    "    return fig, ax\n",
    "\n",
    "# It is sufficient to copy and paste from\n",
    "# your introductionToBasicStellarPhotometry noteboook\n",
    "\n",
    "def phi(x, mu, fwhm):\n",
    "    \"\"\"Evalute the 1d PSF N(mu, sigma^2) along x\n",
    "    \n",
    "    Parameters\n",
    "    ----------\n",
    "    x : array-like of shape (n_pixels,)\n",
    "        detector pixel number\n",
    "    mu : float\n",
    "        mean position of the 1D star\n",
    "    fwhm : float\n",
    "        Full-width half-maximum of the stellar profile on the detector\n",
    "    \n",
    "    Returns\n",
    "    -------\n",
    "    flux : array-like of shape (n_pixels,)\n",
    "        Flux in each pixel of the input array\n",
    "    \"\"\"\n",
    "    sigma = fwhm/2.3548\n",
    "    flux = 1/(sigma * (2*np.pi)**0.5) * np.exp(-(0.5 * ((x- mu)/sigma )**2))\n",
    "\n",
    "    return flux\n",
    "\n",
    "\n",
    "# Define your image simulation function to\n",
    "# It is sufficient to copy and paste from\n",
    "# your introductionToBasicStellarPhotometry noteboook\n",
    "# Note that the background S should now be supplied as \n",
    "# an array of length (x) or a constant. \n",
    "\n",
    "def simulate(x, mu, fwhm, S, F):\n",
    "    \"\"\"simulate a noisy stellar signal\n",
    "    \n",
    "    Parameters\n",
    "    ----------\n",
    "    x : array-like\n",
    "        detector pixel number\n",
    "    mu : float\n",
    "        mean position of the 1D star\n",
    "    fwhm : float\n",
    "        Full-width half-maximum of the stellar profile on the detector\n",
    "    S : float or array-like of len(x)\n",
    "        Sky background for each pixel\n",
    "    F : float\n",
    "        Total stellar flux\n",
    "    \n",
    "    Returns\n",
    "    -------\n",
    "    noisy_counts : array-like (same shape as x)\n",
    "        the (noisy) number of counts in each pixel\n",
    "    \"\"\"\n",
    "    flux = phi(x, mu, fwhm)\n",
    "    signal = flux*F + S\n",
    "    signal_plus_noise = signal + np.random.normal(signal, np.sqrt(signal))\n",
    "    \n",
    "    noisy_counts = signal_plus_noise - flux*F\n",
    "\n",
    "    return noisy_counts"
   ]
  },
  {
   "cell_type": "markdown",
   "metadata": {},
   "source": [
    "### Problem 1.1) Make a simple mean coadd\n",
    "\n",
    "Simulate N observations of a star, and coadd them by taking the mean of the N observations. (We can only do this because they are already astrometrically and photometrically aligned and have the same background value.)"
   ]
  },
  {
   "cell_type": "code",
   "execution_count": 4,
   "metadata": {},
   "outputs": [
    {
     "data": {
      "text/plain": [
       "(<Figure size 432x288 with 1 Axes>,\n",
       " <Axes: xlabel='pixel number', ylabel='relative counts'>)"
      ]
     },
     "execution_count": 4,
     "metadata": {},
     "output_type": "execute_result"
    },
    {
     "data": {
      "image/png": "[encoded data removed]",
      "text/plain": [
       "<Figure size 432x288 with 1 Axes>"
      ]
     },
     "metadata": {
      "needs_background": "light"
     },
     "output_type": "display_data"
    }
   ],
   "source": [
    "MU = 35\n",
    "S = 100\n",
    "F = 100\n",
    "FWHM = 5\n",
    "\n",
    "x = np.arange(100)\n",
    "\n",
    "# simulate a single observation of the star and plot:\n",
    "y = simulate(x, MU, FWHM, S, F)\n",
    "pixel_plot(x, y)"
   ]
  },
  {
   "cell_type": "code",
   "execution_count": 10,
   "metadata": {},
   "outputs": [],
   "source": [
    "# Write a simulateN function that returns an array of size (N, x)\n",
    "# representing N realizations of your simulated star\n",
    "# This will stand in as a stack of multiple observations of one star\n",
    "\n",
    "def simulateN(x, mu, fwhm, S, F, N):\n",
    "    \"\"\"simulate a noisy stellar signal\n",
    "    \n",
    "    Parameters\n",
    "    ----------\n",
    "    x : array-like\n",
    "        detector pixel number\n",
    "    mu : float\n",
    "        mean position of the 1D star\n",
    "    fwhm : float\n",
    "        Full-width half-maximum of the stellar profile on the detector\n",
    "    S : float or array-like of len(x)\n",
    "        Sky background for each pixel\n",
    "    F : float\n",
    "        Total stellar flux\n",
    "    N: int\n",
    "        Number of images to simulate\n",
    "        \n",
    "    Returns\n",
    "    -------\n",
    "    noisy_counts : array-like of shape (N, x)\n",
    "        the (noisy) number of counts in each pixel\n",
    "    \"\"\"\n",
    "    noisy_counts_arr = []\n",
    "    for i in range(N):\n",
    "    \n",
    "        flux = phi(x, mu, fwhm)\n",
    "        signal = flux*F + S\n",
    "        signal_plus_noise = signal + np.random.normal(signal, np.sqrt(signal))\n",
    "    \n",
    "        noisy_counts = signal_plus_noise - flux*F\n",
    "        noisy_counts_arr.append(noisy_counts)\n",
    "    noisy_counts_arr = np.array(noisy_counts_arr)\n",
    "    return noisy_counts_arr\n"
   ]
  },
  {
   "cell_type": "code",
   "execution_count": 62,
   "metadata": {},
   "outputs": [
    {
     "name": "stdout",
     "output_type": "stream",
     "text": [
      "(50, 100)\n",
      "100\n"
     ]
    },
    {
     "data": {
      "text/plain": [
       "(<Figure size 432x288 with 1 Axes>,\n",
       " <Axes: xlabel='pixel number', ylabel='relative counts'>)"
      ]
     },
     "execution_count": 62,
     "metadata": {},
     "output_type": "execute_result"
    },
    {
     "data": {
      "image/png": "[encoded data removed]",
      "text/plain": [
       "<Figure size 432x288 with 1 Axes>"
      ]
     },
     "metadata": {
      "needs_background": "light"
     },
     "output_type": "display_data"
    }
   ],
   "source": [
    "# simulate N=50 images with the same star\n",
    "x = np.arange(100)\n",
    "N = 50\n",
    "stack = simulateN(x, MU, FWHM, S, F, N)\n",
    "print(stack.shape)\n",
    "\n",
    "# where stack is an array of size (50, 100) representing a pile of 50 images with 100 pixels\n",
    "\n",
    "# coadd by taking the mean and plot the result\n",
    "coadd = np.mean(stack, axis = 0)\n",
    "pixel_plot(x, coadd)\n",
    "\n",
    "# Try a few different N to see how it affects the S/N of your result\n"
   ]
  },
  {
   "cell_type": "code",
   "execution_count": 58,
   "metadata": {},
   "outputs": [
    {
     "data": {
      "text/plain": [
       "(<Figure size 432x288 with 1 Axes>,\n",
       " <Axes: xlabel='pixel number', ylabel='relative counts'>)"
      ]
     },
     "execution_count": 58,
     "metadata": {},
     "output_type": "execute_result"
    },
    {
     "data": {
      "image/png": "[encoded data removed]",
      "text/plain": [
       "<Figure size 432x288 with 1 Axes>"
      ]
     },
     "metadata": {
      "needs_background": "light"
     },
     "output_type": "display_data"
    }
   ],
   "source": [
    "# Plot the coadds of N=[1, 10, and 100] on the same plot:\n",
    "stack1 = simulateN(x, MU, FWHM, S, F, 1)\n",
    "stack10 = simulateN(x, MU, FWHM, S, F, 10)\n",
    "stack100 = simulateN(x, MU, FWHM, S, F, 100)\n",
    "\n",
    "\n",
    "coadd1 = np.mean(stack1, axis = 0)\n",
    "coadd10 = np.mean(stack10, axis = 0)\n",
    "coadd100 = np.mean(stack100, axis = 0)\n",
    "\n",
    "fig, ax = plt.subplots()\n",
    "pixel_plot(x, coadd1, fig=fig, ax=ax)\n",
    "pixel_plot(x, coadd10, fig=fig, ax=ax)\n",
    "pixel_plot(x, coadd100, fig=fig, ax=ax)"
   ]
  },
  {
   "cell_type": "markdown",
   "metadata": {},
   "source": [
    "### Problem 1.2)  SNR vs N\n",
    "\n",
    "Now compute the observed SNR of the simulated star on each coadd and compare to the expected SNR in the idealized case. The often repeated mnemonic for SNR inscrease as a function of number of images, $N$, is that noise decreses like $\\sqrt{N}$. This is of course idealized case where the noise in each observation is identical.\n",
    "\n",
    "Using your `simulateN` function, simulate a series of mean coadds with increasing N.\n",
    "\n",
    "* First, plot the empirical noise/uncertainty/stdev as a function of N. and overplot the expected uncertainty given the input sky level. You can use an area you know isn't touched by the star. \n",
    "* Next, plot the empirical SNR of the star (measured flux/fluxErr) as a function of N. Overplot the expected SNR. You can assume you know the sky level. \n",
    "\n",
    "Your expected scaling with N should roughly track your empirical estimate. "
   ]
  },
  {
   "cell_type": "code",
   "execution_count": 36,
   "metadata": {},
   "outputs": [],
   "source": [
    "# complete\n",
    "\n",
    "# hint. One way to start this\n",
    "std_arr = []\n",
    "flux_arr = []\n",
    "flux_err_arr = []\n",
    "Ns = np.arange(1, 1000, 5)\n",
    "\n",
    "for N in range(len(Ns)):\n",
    "    y = simulateN(x, MU, FWHM, S, F, Ns[N])\n",
    "    std = np.std(y)\n",
    "    flux = np.sum(y-S)\n",
    "    flux_err = std/np.sqrt(Ns[N])\n",
    "    std_arr.append(std)\n",
    "    flux_arr.append(flux)\n",
    "    flux_err_arr.append(flux_err)\n",
    "    \n",
    "std_arr = np.array(std_arr)\n",
    "flux_arr = np.array(flux_arr)\n",
    "flux_err_arr = np.array(flux_err_arr)\n"
   ]
  },
  {
   "cell_type": "code",
   "execution_count": 41,
   "metadata": {},
   "outputs": [
    {
     "data": {
      "text/plain": [
       "<matplotlib.legend.Legend at 0x7fb376ad3ee0>"
      ]
     },
     "execution_count": 41,
     "metadata": {},
     "output_type": "execute_result"
    },
    {
     "data": {
      "image/png": "[encoded data removed]",
      "text/plain": [
       "<Figure size 432x288 with 1 Axes>"
      ]
     },
     "metadata": {
      "needs_background": "light"
     },
     "output_type": "display_data"
    }
   ],
   "source": [
    "plt.plot(Ns, std_arr,  label=\"coadd\")\n",
    "plt.plot(Ns, 1/np.sqrt(Ns), label=\"expected\")\n",
    "plt.xlabel('N')\n",
    "plt.ylabel('pixel noise')\n",
    "plt.legend()"
   ]
  },
  {
   "cell_type": "code",
   "execution_count": 81,
   "metadata": {},
   "outputs": [
    {
     "data": {
      "text/plain": [
       "<matplotlib.legend.Legend at 0x7fb3783724c0>"
      ]
     },
     "execution_count": 81,
     "metadata": {},
     "output_type": "execute_result"
    },
    {
     "data": {
      "image/png": "[encoded data removed]",
      "text/plain": [
       "<Figure size 432x288 with 1 Axes>"
      ]
     },
     "metadata": {
      "needs_background": "light"
     },
     "output_type": "display_data"
    }
   ],
   "source": [
    "plt.plot(Ns, flux_arr/flux_err_arr, 'k.',  label=\"coadd\")\n",
    "plt.plot(Ns, Ns, 'm.', label=\"expected\")\n",
    "plt.xlabel('N')\n",
    "plt.ylabel('PSF Flux SNR')\n",
    "plt.legend()"
   ]
  },
  {
   "cell_type": "markdown",
   "metadata": {},
   "source": [
    "## Problem 2) PSFs and Image weights in coadds \n",
    "\n",
    "Problem (1) pretends that the input images are identical in quality, however this is never the case in practice. In practice, adding another image does not necessarily increase the SNR. For example, imagine you have two exposures, but in one the dome light was accidentally left on. A coadd with these two images weighted equally will have a worse SNR than the first image alone. Therefore the images should be aggregated with a weighted mean, so that images of poor quality don't degrade the quality of the coadd. What weights to we pick?\n",
    "\n",
    "Weights can be chosen to either minimize the variance on the coadd or maximize the SNR of point sources on the coadd. "
   ]
  },
  {
   "cell_type": "markdown",
   "metadata": {},
   "source": [
    "#### Some background:\n",
    "\n",
    "Assuming that all noise sources are independent, the SNR of the measurement of flux from a star is:\n",
    "\\begin{equation}\n",
    "SNR \\propto {{N_{\\rm photons}}\\over{ \\sigma_{\\rm sky}} \\sqrt{A} },\n",
    "\\end{equation}\n",
    "where $N_{\\rm photons}$ is the number of photons detected from the star,\n",
    "$A$ is the area in pixels covered by the star.\n",
    "The per-pixel sky noise  $\\sigma_{sky}$ includes all sources of noise: dark current, read noise and sky-background, and it coded in the variance plane of the image. For the epoch $i$,  $\\sigma^2_{i, {\\rm sky}}$ is the average of the variance plane.\n",
    "\n",
    "The $N_{\\rm photons}$ is proportional to transparency $T$, and the area that the stellar photons cover is determined by the seeing: $A \\propto {\\rm FWHM}^2$.\n",
    " \n",
    "Therefore, a **coadd optimized for point-source detection** would, to weight each image by the SNR$^2$, use the following as weights which prefers good-seeing epochs taken when the sky is transparent and dark.\n",
    "\\begin{align}\n",
    "w_i & = {\\rm SNR}^2 \\propto {{T_i^2}\\over{{\\rm FWHM_i}^2 \\sigma_i^2}}.\n",
    "\\end{align} \n",
    " \n",
    "\n",
    "The usual inverse-variance weighting which produces the **minimum-variance co-add**, is given by, \n",
    "\\begin{align}\n",
    "w_i & =T_i^2/\\sigma_i^2\n",
    "\\end{align} \n",
    "\n",
    "In practice, the factor of $T_i^2$ is incorporated into the variance when flux-scaling the single-epoch images to a common zeropoint. This step multiplies the image by a scale-factor, which increases the variance of the image by the square of the scale factor. The scale factor is inversely proportional to the transparency, so that\n",
    "$\\sigma_{scaled}= \\sigma/T$. \n",
    "\n",
    "For this problem assume the images are all on the same zeropoint (like problem 1) i.e. T=1. "
   ]
  },
  {
   "cell_type": "markdown",
   "metadata": {},
   "source": [
    "### Problem 2.1  Weighting images in Variable Sky\n",
    "\n",
    "Now simulate 50 observations of stars with Sky `S` ranging from 100 to 1000. Remember to subtract this background off before stacking this time! Plot the plain (unweighted) mean coadd vs. the minimum variance coadd. Weights should add up to 1. What's the empirical noise estimate of the coadd?"
   ]
  },
  {
   "cell_type": "code",
   "execution_count": 74,
   "metadata": {},
   "outputs": [],
   "source": [
    "Ss = np.linspace(100, 1000, 50)\n",
    "N = 50\n",
    "mean_coadd, variance_coadd = [], []\n",
    "for s in range(len(Ss)):\n",
    "    y = simulateN(x, MU, FWHM, Ss[s], F, N)\n",
    "    y = y - S\n",
    "    coadd_mean = np.mean(y, axis = 0)\n",
    "    std = np.std(y, axis = 1)\n",
    "    weight = 1/(std**2)\n",
    "    coadd_variance = np.average(y, axis = 0, weights = weight)\n",
    "    mean_coadd.append(coadd_mean)\n",
    "    variance_coadd.append(coadd_variance)\n",
    "variance_coadd = np.array(variance_coadd)\n",
    "mean_coadd = np.array(mean_coadd)"
   ]
  },
  {
   "cell_type": "code",
   "execution_count": 75,
   "metadata": {},
   "outputs": [
    {
     "data": {
      "text/plain": [
       "[<matplotlib.lines.Line2D at 0x7fb378d3c550>,\n",
       " <matplotlib.lines.Line2D at 0x7fb378d3c5b0>,\n",
       " <matplotlib.lines.Line2D at 0x7fb378d3c5e0>,\n",
       " <matplotlib.lines.Line2D at 0x7fb378d3c6d0>,\n",
       " <matplotlib.lines.Line2D at 0x7fb378d3c7c0>,\n",
       " <matplotlib.lines.Line2D at 0x7fb378d3c8b0>,\n",
       " <matplotlib.lines.Line2D at 0x7fb378d3c9a0>,\n",
       " <matplotlib.lines.Line2D at 0x7fb378d3ca90>,\n",
       " <matplotlib.lines.Line2D at 0x7fb378d3cb80>,\n",
       " <matplotlib.lines.Line2D at 0x7fb378d3cc70>,\n",
       " <matplotlib.lines.Line2D at 0x7fb378d3cd60>,\n",
       " <matplotlib.lines.Line2D at 0x7fb378d3c580>,\n",
       " <matplotlib.lines.Line2D at 0x7fb378d3ce50>,\n",
       " <matplotlib.lines.Line2D at 0x7fb378d44040>,\n",
       " <matplotlib.lines.Line2D at 0x7fb378d44130>,\n",
       " <matplotlib.lines.Line2D at 0x7fb378d44220>,\n",
       " <matplotlib.lines.Line2D at 0x7fb378d44310>,\n",
       " <matplotlib.lines.Line2D at 0x7fb378d44400>,\n",
       " <matplotlib.lines.Line2D at 0x7fb378d444f0>,\n",
       " <matplotlib.lines.Line2D at 0x7fb378d445e0>,\n",
       " <matplotlib.lines.Line2D at 0x7fb378d446d0>,\n",
       " <matplotlib.lines.Line2D at 0x7fb378d447c0>,\n",
       " <matplotlib.lines.Line2D at 0x7fb378d448b0>,\n",
       " <matplotlib.lines.Line2D at 0x7fb378d449a0>,\n",
       " <matplotlib.lines.Line2D at 0x7fb378d44a90>,\n",
       " <matplotlib.lines.Line2D at 0x7fb378d44b80>,\n",
       " <matplotlib.lines.Line2D at 0x7fb378d44c70>,\n",
       " <matplotlib.lines.Line2D at 0x7fb378d44d60>,\n",
       " <matplotlib.lines.Line2D at 0x7fb378d44e50>,\n",
       " <matplotlib.lines.Line2D at 0x7fb378d44f40>,\n",
       " <matplotlib.lines.Line2D at 0x7fb378d49070>,\n",
       " <matplotlib.lines.Line2D at 0x7fb378d49160>,\n",
       " <matplotlib.lines.Line2D at 0x7fb378d49250>,\n",
       " <matplotlib.lines.Line2D at 0x7fb378d49340>,\n",
       " <matplotlib.lines.Line2D at 0x7fb378d49430>,\n",
       " <matplotlib.lines.Line2D at 0x7fb378d49520>,\n",
       " <matplotlib.lines.Line2D at 0x7fb378d49610>,\n",
       " <matplotlib.lines.Line2D at 0x7fb378d49700>,\n",
       " <matplotlib.lines.Line2D at 0x7fb378d497f0>,\n",
       " <matplotlib.lines.Line2D at 0x7fb378d498e0>,\n",
       " <matplotlib.lines.Line2D at 0x7fb378d499d0>,\n",
       " <matplotlib.lines.Line2D at 0x7fb378d49ac0>,\n",
       " <matplotlib.lines.Line2D at 0x7fb378d49bb0>,\n",
       " <matplotlib.lines.Line2D at 0x7fb378d49ca0>,\n",
       " <matplotlib.lines.Line2D at 0x7fb378d49d90>,\n",
       " <matplotlib.lines.Line2D at 0x7fb378d49e80>,\n",
       " <matplotlib.lines.Line2D at 0x7fb378d49f70>,\n",
       " <matplotlib.lines.Line2D at 0x7fb378d500a0>,\n",
       " <matplotlib.lines.Line2D at 0x7fb378d50190>,\n",
       " <matplotlib.lines.Line2D at 0x7fb378d50280>,\n",
       " <matplotlib.lines.Line2D at 0x7fb378d50370>,\n",
       " <matplotlib.lines.Line2D at 0x7fb378d50460>,\n",
       " <matplotlib.lines.Line2D at 0x7fb378d50550>,\n",
       " <matplotlib.lines.Line2D at 0x7fb378d50640>,\n",
       " <matplotlib.lines.Line2D at 0x7fb378d50730>,\n",
       " <matplotlib.lines.Line2D at 0x7fb378d50820>,\n",
       " <matplotlib.lines.Line2D at 0x7fb378d50910>,\n",
       " <matplotlib.lines.Line2D at 0x7fb378d50a00>,\n",
       " <matplotlib.lines.Line2D at 0x7fb378d50af0>,\n",
       " <matplotlib.lines.Line2D at 0x7fb378d50be0>,\n",
       " <matplotlib.lines.Line2D at 0x7fb378d50cd0>,\n",
       " <matplotlib.lines.Line2D at 0x7fb378d50dc0>,\n",
       " <matplotlib.lines.Line2D at 0x7fb378d50eb0>,\n",
       " <matplotlib.lines.Line2D at 0x7fb378d50fa0>,\n",
       " <matplotlib.lines.Line2D at 0x7fb378f110d0>,\n",
       " <matplotlib.lines.Line2D at 0x7fb378f111c0>,\n",
       " <matplotlib.lines.Line2D at 0x7fb378f112b0>,\n",
       " <matplotlib.lines.Line2D at 0x7fb378f113a0>,\n",
       " <matplotlib.lines.Line2D at 0x7fb378f11490>,\n",
       " <matplotlib.lines.Line2D at 0x7fb378f11580>,\n",
       " <matplotlib.lines.Line2D at 0x7fb378f11670>,\n",
       " <matplotlib.lines.Line2D at 0x7fb378f11760>,\n",
       " <matplotlib.lines.Line2D at 0x7fb378f11850>,\n",
       " <matplotlib.lines.Line2D at 0x7fb378f11940>,\n",
       " <matplotlib.lines.Line2D at 0x7fb378f11a30>,\n",
       " <matplotlib.lines.Line2D at 0x7fb378f11b20>,\n",
       " <matplotlib.lines.Line2D at 0x7fb378f11c10>,\n",
       " <matplotlib.lines.Line2D at 0x7fb378f11d00>,\n",
       " <matplotlib.lines.Line2D at 0x7fb378f11df0>,\n",
       " <matplotlib.lines.Line2D at 0x7fb378f11ee0>,\n",
       " <matplotlib.lines.Line2D at 0x7fb378f11fd0>,\n",
       " <matplotlib.lines.Line2D at 0x7fb378f1b100>,\n",
       " <matplotlib.lines.Line2D at 0x7fb378f1b1f0>,\n",
       " <matplotlib.lines.Line2D at 0x7fb378f1b2e0>,\n",
       " <matplotlib.lines.Line2D at 0x7fb378f1b3d0>,\n",
       " <matplotlib.lines.Line2D at 0x7fb378f1b4c0>,\n",
       " <matplotlib.lines.Line2D at 0x7fb378f1b5b0>,\n",
       " <matplotlib.lines.Line2D at 0x7fb378f1b6a0>,\n",
       " <matplotlib.lines.Line2D at 0x7fb378f1b790>,\n",
       " <matplotlib.lines.Line2D at 0x7fb378f1b880>,\n",
       " <matplotlib.lines.Line2D at 0x7fb378f1b970>,\n",
       " <matplotlib.lines.Line2D at 0x7fb378f1ba60>,\n",
       " <matplotlib.lines.Line2D at 0x7fb378f1bb50>,\n",
       " <matplotlib.lines.Line2D at 0x7fb378f1bc40>,\n",
       " <matplotlib.lines.Line2D at 0x7fb378f1bd30>,\n",
       " <matplotlib.lines.Line2D at 0x7fb378f1be20>,\n",
       " <matplotlib.lines.Line2D at 0x7fb378f1bf10>,\n",
       " <matplotlib.lines.Line2D at 0x7fb378f20040>,\n",
       " <matplotlib.lines.Line2D at 0x7fb378f20130>,\n",
       " <matplotlib.lines.Line2D at 0x7fb378f20220>]"
      ]
     },
     "execution_count": 75,
     "metadata": {},
     "output_type": "execute_result"
    },
    {
     "data": {
      "image/png": "[encoded data removed]",
      "text/plain": [
       "<Figure size 432x288 with 1 Axes>"
      ]
     },
     "metadata": {
      "needs_background": "light"
     },
     "output_type": "display_data"
    }
   ],
   "source": [
    "plt.plot(mean_coadd, variance_coadd)"
   ]
  },
  {
   "cell_type": "markdown",
   "metadata": {},
   "source": [
    "### Problem 2.2  Weighting images in Variable Seeing\n",
    "\n",
    "Simulate 50 observations with FWHM's ranging from 2-10 pixels. Keep the flux amplitude `F`, and sky noise `S` both fixed. \n",
    "Generate two coadds, (1) with the weights that minimize variance and (2) with the weights that maximize point source SNR. Weights should add up to 1. Plot both coadds."
   ]
  },
  {
   "cell_type": "code",
   "execution_count": 78,
   "metadata": {},
   "outputs": [],
   "source": [
    "FWHMs = np.linspace(2, 10, 50)\n",
    "S = 100\n",
    "mean_coadd, variance_coadd = [], []\n",
    "for s in range(len(FWHMs)):\n",
    "    y = simulateN(x, MU, FWHMs[s], S, F, N)\n",
    "    y = y - S\n",
    "    coadd_mean = np.mean(y, axis = 0)\n",
    "    std = np.std(y, axis = 1)\n",
    "    weight = 1/(std**2)\n",
    "    coadd_variance = np.average(y, axis = 0, weights = weight)\n",
    "    mean_coadd.append(coadd_mean)\n",
    "    variance_coadd.append(coadd_variance)\n",
    "variance_coadd = np.array(variance_coadd)\n",
    "mean_coadd = np.array(mean_coadd)"
   ]
  },
  {
   "cell_type": "code",
   "execution_count": 79,
   "metadata": {},
   "outputs": [
    {
     "data": {
      "text/plain": [
       "[<matplotlib.lines.Line2D at 0x7fb37821d9a0>,\n",
       " <matplotlib.lines.Line2D at 0x7fb37821da00>,\n",
       " <matplotlib.lines.Line2D at 0x7fb37821da30>,\n",
       " <matplotlib.lines.Line2D at 0x7fb37821db20>,\n",
       " <matplotlib.lines.Line2D at 0x7fb37821dc10>,\n",
       " <matplotlib.lines.Line2D at 0x7fb37821dd00>,\n",
       " <matplotlib.lines.Line2D at 0x7fb37821ddf0>,\n",
       " <matplotlib.lines.Line2D at 0x7fb37821dee0>,\n",
       " <matplotlib.lines.Line2D at 0x7fb37821dfd0>,\n",
       " <matplotlib.lines.Line2D at 0x7fb37822a100>,\n",
       " <matplotlib.lines.Line2D at 0x7fb37821d9d0>,\n",
       " <matplotlib.lines.Line2D at 0x7fb37822a1f0>,\n",
       " <matplotlib.lines.Line2D at 0x7fb37822a2e0>,\n",
       " <matplotlib.lines.Line2D at 0x7fb37822a490>,\n",
       " <matplotlib.lines.Line2D at 0x7fb37822a580>,\n",
       " <matplotlib.lines.Line2D at 0x7fb37822a670>,\n",
       " <matplotlib.lines.Line2D at 0x7fb37822a760>,\n",
       " <matplotlib.lines.Line2D at 0x7fb37822a850>,\n",
       " <matplotlib.lines.Line2D at 0x7fb37822a940>,\n",
       " <matplotlib.lines.Line2D at 0x7fb37822aa30>,\n",
       " <matplotlib.lines.Line2D at 0x7fb37822ab20>,\n",
       " <matplotlib.lines.Line2D at 0x7fb37822ac10>,\n",
       " <matplotlib.lines.Line2D at 0x7fb37822ad00>,\n",
       " <matplotlib.lines.Line2D at 0x7fb37822adf0>,\n",
       " <matplotlib.lines.Line2D at 0x7fb37822aee0>,\n",
       " <matplotlib.lines.Line2D at 0x7fb37822afd0>,\n",
       " <matplotlib.lines.Line2D at 0x7fb37822c100>,\n",
       " <matplotlib.lines.Line2D at 0x7fb37822c1f0>,\n",
       " <matplotlib.lines.Line2D at 0x7fb37822c2e0>,\n",
       " <matplotlib.lines.Line2D at 0x7fb37822c3d0>,\n",
       " <matplotlib.lines.Line2D at 0x7fb37822c4c0>,\n",
       " <matplotlib.lines.Line2D at 0x7fb37822c5b0>,\n",
       " <matplotlib.lines.Line2D at 0x7fb37822c6a0>,\n",
       " <matplotlib.lines.Line2D at 0x7fb37822c790>,\n",
       " <matplotlib.lines.Line2D at 0x7fb37822c880>,\n",
       " <matplotlib.lines.Line2D at 0x7fb37822c970>,\n",
       " <matplotlib.lines.Line2D at 0x7fb37822ca60>,\n",
       " <matplotlib.lines.Line2D at 0x7fb37822cb50>,\n",
       " <matplotlib.lines.Line2D at 0x7fb37822cc40>,\n",
       " <matplotlib.lines.Line2D at 0x7fb37822cd30>,\n",
       " <matplotlib.lines.Line2D at 0x7fb37822ce20>,\n",
       " <matplotlib.lines.Line2D at 0x7fb37822cf10>,\n",
       " <matplotlib.lines.Line2D at 0x7fb378235040>,\n",
       " <matplotlib.lines.Line2D at 0x7fb378235130>,\n",
       " <matplotlib.lines.Line2D at 0x7fb378235220>,\n",
       " <matplotlib.lines.Line2D at 0x7fb378235310>,\n",
       " <matplotlib.lines.Line2D at 0x7fb378235400>,\n",
       " <matplotlib.lines.Line2D at 0x7fb3782354f0>,\n",
       " <matplotlib.lines.Line2D at 0x7fb3782355e0>,\n",
       " <matplotlib.lines.Line2D at 0x7fb3782356d0>,\n",
       " <matplotlib.lines.Line2D at 0x7fb3782357c0>,\n",
       " <matplotlib.lines.Line2D at 0x7fb3782358b0>,\n",
       " <matplotlib.lines.Line2D at 0x7fb3782359a0>,\n",
       " <matplotlib.lines.Line2D at 0x7fb378235a90>,\n",
       " <matplotlib.lines.Line2D at 0x7fb378235b80>,\n",
       " <matplotlib.lines.Line2D at 0x7fb378235c70>,\n",
       " <matplotlib.lines.Line2D at 0x7fb378235d60>,\n",
       " <matplotlib.lines.Line2D at 0x7fb378235e50>,\n",
       " <matplotlib.lines.Line2D at 0x7fb378235f40>,\n",
       " <matplotlib.lines.Line2D at 0x7fb37823d070>,\n",
       " <matplotlib.lines.Line2D at 0x7fb37823d160>,\n",
       " <matplotlib.lines.Line2D at 0x7fb37823d250>,\n",
       " <matplotlib.lines.Line2D at 0x7fb37823d340>,\n",
       " <matplotlib.lines.Line2D at 0x7fb37823d430>,\n",
       " <matplotlib.lines.Line2D at 0x7fb37823d520>,\n",
       " <matplotlib.lines.Line2D at 0x7fb37823d610>,\n",
       " <matplotlib.lines.Line2D at 0x7fb37823d700>,\n",
       " <matplotlib.lines.Line2D at 0x7fb37823d7f0>,\n",
       " <matplotlib.lines.Line2D at 0x7fb37823d8e0>,\n",
       " <matplotlib.lines.Line2D at 0x7fb37823d9d0>,\n",
       " <matplotlib.lines.Line2D at 0x7fb37823dac0>,\n",
       " <matplotlib.lines.Line2D at 0x7fb37823dbb0>,\n",
       " <matplotlib.lines.Line2D at 0x7fb37823dca0>,\n",
       " <matplotlib.lines.Line2D at 0x7fb37823dd90>,\n",
       " <matplotlib.lines.Line2D at 0x7fb37823de80>,\n",
       " <matplotlib.lines.Line2D at 0x7fb37823df70>,\n",
       " <matplotlib.lines.Line2D at 0x7fb3782450a0>,\n",
       " <matplotlib.lines.Line2D at 0x7fb378245190>,\n",
       " <matplotlib.lines.Line2D at 0x7fb378245280>,\n",
       " <matplotlib.lines.Line2D at 0x7fb378245370>,\n",
       " <matplotlib.lines.Line2D at 0x7fb378245460>,\n",
       " <matplotlib.lines.Line2D at 0x7fb378245550>,\n",
       " <matplotlib.lines.Line2D at 0x7fb378245640>,\n",
       " <matplotlib.lines.Line2D at 0x7fb378245730>,\n",
       " <matplotlib.lines.Line2D at 0x7fb378245820>,\n",
       " <matplotlib.lines.Line2D at 0x7fb378245910>,\n",
       " <matplotlib.lines.Line2D at 0x7fb378245a00>,\n",
       " <matplotlib.lines.Line2D at 0x7fb378245af0>,\n",
       " <matplotlib.lines.Line2D at 0x7fb378245be0>,\n",
       " <matplotlib.lines.Line2D at 0x7fb378245cd0>,\n",
       " <matplotlib.lines.Line2D at 0x7fb378245dc0>,\n",
       " <matplotlib.lines.Line2D at 0x7fb378245eb0>,\n",
       " <matplotlib.lines.Line2D at 0x7fb378245fa0>,\n",
       " <matplotlib.lines.Line2D at 0x7fb37824e0d0>,\n",
       " <matplotlib.lines.Line2D at 0x7fb37824e1c0>,\n",
       " <matplotlib.lines.Line2D at 0x7fb37824e2b0>,\n",
       " <matplotlib.lines.Line2D at 0x7fb37824e3a0>,\n",
       " <matplotlib.lines.Line2D at 0x7fb37824e490>,\n",
       " <matplotlib.lines.Line2D at 0x7fb37824e580>,\n",
       " <matplotlib.lines.Line2D at 0x7fb37824e670>]"
      ]
     },
     "execution_count": 79,
     "metadata": {},
     "output_type": "execute_result"
    },
    {
     "data": {
      "image/png": "[encoded data removed]",
      "text/plain": [
       "<Figure size 432x288 with 1 Axes>"
      ]
     },
     "metadata": {
      "needs_background": "light"
     },
     "output_type": "display_data"
    }
   ],
   "source": [
    "plt.plot(mean_coadd, variance_coadd)"
   ]
  },
  {
   "cell_type": "markdown",
   "metadata": {},
   "source": [
    "### Problem 2.3 Image variance vs per pixel variance (Challenge Problem)\n",
    "\n",
    "Why do we use per image variances instead of per pixel variances? Let's see! Start tracking the per-pixel variance when you simulate the star. Make a coadd of 200 observations with FWHM's ranging from 2 to 20 pixels.  Make a coadd weighted by the per-pixel inverse variance. How does the profile of the star look in this coadd compared to an unweighted coadd and compared to the coadd with the $w_i  = \\frac{1}{{\\rm FWHM_i}^2 \\sigma_i^2}$? (You may have to plot the difference to see the change). "
   ]
  },
  {
   "cell_type": "code",
   "execution_count": null,
   "metadata": {},
   "outputs": [],
   "source": [
    "# complete"
   ]
  },
  {
   "cell_type": "markdown",
   "metadata": {},
   "source": [
    "## Problem 3) Dipoles in Image Subtraction\n",
    "\n",
    "In the lesson, we said that just because you see a dipole in a difference image, does not mean that the astrometric registration is terrible. For this problem, we'll forgo the pixelated simulated star from the previous problems and operate with Gaussian profiles. "
   ]
  },
  {
   "cell_type": "code",
   "execution_count": null,
   "metadata": {},
   "outputs": [],
   "source": [
    "# Create two Gaussian 1-D profiles with\n",
    "\n",
    "ASTROM_OFFSET = 0.1  # units of e.g. pixels\n",
    "FLUX_SCALE = 1. # units of e.g nanojansky\n",
    "PSF = 1  # rms pixels\n",
    "\n",
    "x = np.linspace(-5, 5)\n",
    "y1 = FLUX_SCALE * norm.pdf(x, ASTROM_OFFSET, PSF)\n",
    "y2 = FLUX_SCALE * norm.pdf(x, -ASTROM_OFFSET, PSF)\n",
    "plt.plot(x, y1, label='profile 1')\n",
    "plt.plot(x, y2, label='profile 2')\n",
    "plt.xlabel('x (pixel)')\n",
    "plt.ylabel('y (flux)')\n",
    "plt.legend()\n"
   ]
  },
  {
   "cell_type": "markdown",
   "metadata": {},
   "source": [
    "### Problem 3.1) Plot the difference of these two profiles:"
   ]
  },
  {
   "cell_type": "code",
   "execution_count": null,
   "metadata": {},
   "outputs": [],
   "source": [
    "# complete"
   ]
  },
  {
   "cell_type": "markdown",
   "metadata": {},
   "source": [
    "### Problem 3.2)  What if we have amazing astrometric registration\n",
    "and shrink the astrometric offset by a factor of a thousand. Is there a star sufficiently bright to produce the same dipole? What is its `FLUX SCALE`?"
   ]
  },
  {
   "cell_type": "code",
   "execution_count": null,
   "metadata": {},
   "outputs": [],
   "source": [
    "ASTROM_OFFSET = 0.0001 \n",
    "PSF = 1. \n",
    "\n",
    "# complete \n",
    "\n",
    "# Plot both dipoles (for the offset=0.1 and the offset=0.0001 in the same figure.\n",
    "# Same or different subplots up to you. "
   ]
  },
  {
   "cell_type": "markdown",
   "metadata": {},
   "source": [
    "### Problem 3.3) Distance between peaks. \n",
    "\n",
    "Does the distance between the dipole's positive and negative peaks depend on the astrometric offset? If not, what *does* it depend on?  You can answer this by vizualizing the dipoles vs offsets. But for a **challenge, measure the distance between peaks** and plot them as a function of astrometric offset or another factor. "
   ]
  },
  {
   "cell_type": "code",
   "execution_count": null,
   "metadata": {},
   "outputs": [],
   "source": [
    "# complete "
   ]
  },
  {
   "cell_type": "markdown",
   "metadata": {},
   "source": [
    "### Problem  3.4) \n",
    "In the problem setup we assumed that the astrometric error was < the PSF width. Is this assumption likely to hold in an image you'd get from a wide-field imager like Rubin's?"
   ]
  }
 ],
 "metadata": {
  "kernelspec": {
   "display_name": "astro",
   "language": "python",
   "name": "astro"
  },
  "language_info": {
   "codemirror_mode": {
    "name": "ipython",
    "version": 3
   },
   "file_extension": ".py",
   "mimetype": "text/x-python",
   "name": "python",
   "nbconvert_exporter": "python",
   "pygments_lexer": "ipython3",
   "version": "3.8.0"
  }
 },
 "nbformat": 4,
 "nbformat_minor": 2
}
