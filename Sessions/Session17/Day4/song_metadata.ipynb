{
 "cells": [
  {
   "cell_type": "code",
   "execution_count": 1,
   "id": "7dd83c75",
   "metadata": {},
   "outputs": [],
   "source": [
    "import numpy as np\n",
    "import pandas as pd\n",
    "import matplotlib.pyplot as plt\n",
    "#from pydub import AudioSegment\n",
    "from scipy.io import wavfile\n",
    "import plotly.graph_objects as go\n",
    "from plotly.subplots import make_subplots\n",
    "import plotly.express as px"
   ]
  },
  {
   "cell_type": "code",
   "execution_count": 16,
   "id": "28dbf5bd",
   "metadata": {},
   "outputs": [],
   "source": [
    "names = [\"Hotel California\", \"Someone Like You\", \"Take Me Home, Country Roads\",\n",
    "         \"Hey There Delilah\", \"Rewrite The Stars\", \"Shallow\", \"Smells Like Teen Spirit\",\n",
    "         \"Just the Two of Us\", \"What A Wonderful World\", \"Stand by Me\", \"I'm Yours\",\n",
    "         \"Chasing Cars\", \"Let Her Go\", \"Love Story\", \"I Will Always Love You\",\n",
    "         \"The Scientist\", \"Don't Stop Me Now\", \"Pumped Up Kicks\",\n",
    "         \"Don't Go Breaking My Heart\", \"Hey, Soul Sister\", \"Can't Take My Eyes Off You\",\n",
    "         \"American Pie\", \"Dynamite\", \"She Will Be Loved\", \"Sorry\",\n",
    "         \"Boulevard of Broken Dreams\", \"Toxic\", \"Bohemian Rhapsody\",\n",
    "         \"I Don't Want to Miss a Thing\", \"Every Breath You Take\", \"This Is Me\", \"Let It Go\",\n",
    "         \"Wannabe\", \"Livin' On A Prayer\", \"Beautiful Girls\", \"Just the Way You Are\",\n",
    "         \"Nothing's Gonna Change My Love for You\", \"All Star\", \"Wrecking Ball\",\n",
    "         \"Say My Name\", \"Sweet Caroline\", \"Because of You\", \"As Long As You Love Me\",\n",
    "         \"Africa\", \"I Want It That Way\", \"Under Pressure\", \"Bleeding Love\", \"Use Somebody\",\n",
    "         \"Bad Day\", \"With You\"]\n",
    "\n",
    "artists = [\"Eagles\", \"Adele\", \"John Denver\", \"Plain White T's\", \"Zac Efron\", \"Lady Gaga\",\n",
    "           \"Nirvana\", \"Grover Washington Jr.\", \"Louis Armstrong\", \"Ben E. King\",\n",
    "           \"Jason Mraz\", \"Snow Patrol\", \"Passenger\", \"Taylor Swift\", \"Whitney Houston\",\n",
    "           \"Coldplay\", \"Queen\", \"Foster The People\", \"Elton John\", \"Train\", \"Andy Williams\",\n",
    "           \"Don McLean\", \"Taio Cruz\", \"Maroon 5\", \"Justin Bieber\", \"Green Day\",\n",
    "           \"Britney Spears\", \"Queen\", \"Aerosmith\", \"The Police\", \"Demi Lovato\",\n",
    "           \"Idina Menzel\", \"Spice Girls\", \"Bon Jovi\", \"Sean Kingston\", \"Bruno Mars\",\n",
    "           \"George Benson\", \"Smash Mouth\", \"Miley Cyrus\", \"Destiny's Child\", \"Neil Diamond\",\n",
    "           \"Kelly Clarkson\", \"Justin Bieber\", \"TOTO\", \"Backstreet Boys\", \"Queen\",\n",
    "           \"Leona Lewis\", \"Kings of Leon\", \"Daniel Powter\", \"Chris Brown\"]\n",
    "\n",
    "features = [0,0,0,0, \"Zendaya\", \"Bradley Cooper\",0, \"Bill Withers\",0,0,0,0,0,0,0,0,0,0,\n",
    "            \"Kiki Dee\",0,0,0,0,0,0,0,0,0,0,0, \"Joe Jonas\",0,0,0,0,0,0,0,0,0,0,0, \"Big Sean\",\n",
    "            0,0, \"David Bowie\", 0,0,0,0]\n",
    "\n",
    "years = [1977, 2011, 1971, 2006, 2018, 2018, 1991, 1981, 1967, 1961, 2008, 2006, 2012, 2008,\n",
    "         1992, 2002, 1979, 2010, 1976, 2009, 1968, 1971, 2010, 2004, 2015, 2004, 2004, 1975,\n",
    "         1998, 1983, 2008, 2014, 1996, 1986, 2007, 2010, 1985, 1999, 2013, 1999, 1967, 2004,\n",
    "         2012, 1982, 1999, 1981, 2007, 2008, 2005, 2007]\n",
    "\n",
    "genres = [\"Rock\", \"Pop\", \"Country\", \"Pop\", \"Soundtrack\", \"Soundtrack\", \"Rock\", \"R&B\", \"R&B\",\n",
    "          \"R&B\", \"Pop\", \"Rock\", \"Rock\", \"Country\", \"R&B\", \"Rock\", \"Rock\", \"Rock\", \"Pop\",\n",
    "          \"Pop\", \"Pop\", \"Rock\", \"Pop\", \"Rock\", \"Pop\", \"Rock\", \"Pop\", \"Rock\", \"Rock\", \"Rock\",\n",
    "          \"Soundtrack\", \"Soundtrack\", \"Pop\", \"Rock\", \"R&B\", \"Pop\", \"R&B\", \"Rock\", \"Pop\",\n",
    "          \"R&B\", \"Rock\", \"Pop\", \"Pop\", \"Rock\", \"Pop\", \"Rock\", \"Pop\", \"Rock\", \"Pop\", \"R&B\"]\n",
    "\n",
    "countries = ['US', 'UK', 'US', 'US', 'US', 'US', 'US', 'US', 'US', 'US', 'US', 'UK', 'US',\n",
    "             'US', 'US', 'UK', 'UK', 'US', 'UK', 'US', 'US', 'US', 'US', 'US', 'Canada',\n",
    "             'US', 'US', 'UK', 'US', 'UK', 'US', 'US', 'UK', 'Jamaica', 'US', 'US', 'US',\n",
    "             'US', 'US', 'US', 'US', 'US', 'Canada', 'US', 'US', 'UK', 'UK', 'US',\n",
    "             'Canada', 'US']\n",
    "\n",
    "lengths = [391.37625, 287.1118367, 195.5004167, 232.5710833, 216.1777778, 215.817875, 297.7959184, 236.4139792,\n",
    "           138.727625, 177.5513958, 245.481375, 221.0075417, 254.1656236, 234.1035828, 270.4428125, 309.2549792, \n",
    "           209.5833107,253.1787755, 266.1466667, 215.2954195, 193.3866667, 512.1393197, 202.6637642, 267.1689792, \n",
    "           199.3549375, 260.76, 198.8693333, 354, 322.8386458, 228.345034, 187.2457143, 231.8860833, 175.078458, \n",
    "           249.359093, 241.1160208, 220.0206875, 241.0133333, 201.9207256, 221.4603333, 267.5333333, 200.2953288, \n",
    "           221.0075283, 229.9820417, 295.938322, 213.0895238, 233.6653061, 260.8297708, 232.8613333, 233.7552834, \n",
    "           251.9249167]\n",
    "\n",
    "scores = [381, 363, 360, 360, 360, 359, 359, 350, 355, 354, 351, 345, 342, 342, 339, 338,\n",
    "          338, 336, 334, 328, 328, 326, 326, 323, 320, 318, 318, 318, 316, 313, 311, 306,\n",
    "          306, 304, 302, 301, 296, 294, 293, 293, 289, 288, 287, 287, 287, 283, 282, 281,\n",
    "          281, 278]\n",
    "\n",
    "tops = [10, 10 , 10, 10, 10, 10, 10, 10, 10, 10, 20, 20, 20, 20, 20, 20, 20, 20, 20, 20, 30, 30, 30, 30, 30, 30,\n",
    "        30, 30, 30, 30, 40, 40, 40, 40, 40, 40, 40, 40, 40, 40, 50, 50, 50, 50, 50,  50, 50, 50, 50, 50 ]\n",
    "\n",
    "URL = ['nan', 'nan', 'nan', 'nan', 'nan', 'nan', 'nan', 'nan', 'nan', 'nan', \n",
    "       'nan', 'nan', 'nan', 'nan', 'nan', 'nan', 'nan', 'nan', 'nan', 'nan',\n",
    "       'nan', 'nan', 'nan','nan', 'nan', 'nan', 'nan',\n",
    "       'https://drive.google.com/drive/folders/11hWr2K8c2b8R9yxvMWxu93IG-n-e5vyx','nan', 'nan', 'nan','nan', 'nan',\n",
    "      'nan', 'nan', 'nan','nan', 'nan', 'nan', 'nan', 'nan','nan', 'nan','nan', 'nan', 'nan','nan', 'nan','nan', 'nan']\n"
   ]
  },
  {
   "cell_type": "code",
   "execution_count": 17,
   "id": "4bc048eb",
   "metadata": {},
   "outputs": [
    {
     "data": {
      "text/html": [
       "<div>\n",
       "<style scoped>\n",
       "    .dataframe tbody tr th:only-of-type {\n",
       "        vertical-align: middle;\n",
       "    }\n",
       "\n",
       "    .dataframe tbody tr th {\n",
       "        vertical-align: top;\n",
       "    }\n",
       "\n",
       "    .dataframe thead th {\n",
       "        text-align: right;\n",
       "    }\n",
       "</style>\n",
       "<table border=\"1\" class=\"dataframe\">\n",
       "  <thead>\n",
       "    <tr style=\"text-align: right;\">\n",
       "      <th></th>\n",
       "      <th>Title</th>\n",
       "      <th>Artist</th>\n",
       "      <th>Feature</th>\n",
       "      <th>Year</th>\n",
       "      <th>Genre</th>\n",
       "      <th>Origin</th>\n",
       "      <th>Length</th>\n",
       "      <th>Score</th>\n",
       "      <th>Top</th>\n",
       "      <th>url</th>\n",
       "    </tr>\n",
       "  </thead>\n",
       "  <tbody>\n",
       "    <tr>\n",
       "      <th>0</th>\n",
       "      <td>Hotel California</td>\n",
       "      <td>Eagles</td>\n",
       "      <td>0</td>\n",
       "      <td>1977</td>\n",
       "      <td>Rock</td>\n",
       "      <td>US</td>\n",
       "      <td>391.376250</td>\n",
       "      <td>381</td>\n",
       "      <td>10</td>\n",
       "      <td>nan</td>\n",
       "    </tr>\n",
       "    <tr>\n",
       "      <th>1</th>\n",
       "      <td>Someone Like You</td>\n",
       "      <td>Adele</td>\n",
       "      <td>0</td>\n",
       "      <td>2011</td>\n",
       "      <td>Pop</td>\n",
       "      <td>UK</td>\n",
       "      <td>287.111837</td>\n",
       "      <td>363</td>\n",
       "      <td>10</td>\n",
       "      <td>nan</td>\n",
       "    </tr>\n",
       "    <tr>\n",
       "      <th>2</th>\n",
       "      <td>Take Me Home, Country Roads</td>\n",
       "      <td>John Denver</td>\n",
       "      <td>0</td>\n",
       "      <td>1971</td>\n",
       "      <td>Country</td>\n",
       "      <td>US</td>\n",
       "      <td>195.500417</td>\n",
       "      <td>360</td>\n",
       "      <td>10</td>\n",
       "      <td>nan</td>\n",
       "    </tr>\n",
       "    <tr>\n",
       "      <th>3</th>\n",
       "      <td>Hey There Delilah</td>\n",
       "      <td>Plain White T's</td>\n",
       "      <td>0</td>\n",
       "      <td>2006</td>\n",
       "      <td>Pop</td>\n",
       "      <td>US</td>\n",
       "      <td>232.571083</td>\n",
       "      <td>360</td>\n",
       "      <td>10</td>\n",
       "      <td>nan</td>\n",
       "    </tr>\n",
       "    <tr>\n",
       "      <th>4</th>\n",
       "      <td>Rewrite The Stars</td>\n",
       "      <td>Zac Efron</td>\n",
       "      <td>Zendaya</td>\n",
       "      <td>2018</td>\n",
       "      <td>Soundtrack</td>\n",
       "      <td>US</td>\n",
       "      <td>216.177778</td>\n",
       "      <td>360</td>\n",
       "      <td>10</td>\n",
       "      <td>nan</td>\n",
       "    </tr>\n",
       "    <tr>\n",
       "      <th>5</th>\n",
       "      <td>Shallow</td>\n",
       "      <td>Lady Gaga</td>\n",
       "      <td>Bradley Cooper</td>\n",
       "      <td>2018</td>\n",
       "      <td>Soundtrack</td>\n",
       "      <td>US</td>\n",
       "      <td>215.817875</td>\n",
       "      <td>359</td>\n",
       "      <td>10</td>\n",
       "      <td>nan</td>\n",
       "    </tr>\n",
       "    <tr>\n",
       "      <th>6</th>\n",
       "      <td>Smells Like Teen Spirit</td>\n",
       "      <td>Nirvana</td>\n",
       "      <td>0</td>\n",
       "      <td>1991</td>\n",
       "      <td>Rock</td>\n",
       "      <td>US</td>\n",
       "      <td>297.795918</td>\n",
       "      <td>359</td>\n",
       "      <td>10</td>\n",
       "      <td>nan</td>\n",
       "    </tr>\n",
       "    <tr>\n",
       "      <th>7</th>\n",
       "      <td>Just the Two of Us</td>\n",
       "      <td>Grover Washington Jr.</td>\n",
       "      <td>Bill Withers</td>\n",
       "      <td>1981</td>\n",
       "      <td>R&amp;B</td>\n",
       "      <td>US</td>\n",
       "      <td>236.413979</td>\n",
       "      <td>350</td>\n",
       "      <td>10</td>\n",
       "      <td>nan</td>\n",
       "    </tr>\n",
       "    <tr>\n",
       "      <th>8</th>\n",
       "      <td>What A Wonderful World</td>\n",
       "      <td>Louis Armstrong</td>\n",
       "      <td>0</td>\n",
       "      <td>1967</td>\n",
       "      <td>R&amp;B</td>\n",
       "      <td>US</td>\n",
       "      <td>138.727625</td>\n",
       "      <td>355</td>\n",
       "      <td>10</td>\n",
       "      <td>nan</td>\n",
       "    </tr>\n",
       "    <tr>\n",
       "      <th>9</th>\n",
       "      <td>Stand by Me</td>\n",
       "      <td>Ben E. King</td>\n",
       "      <td>0</td>\n",
       "      <td>1961</td>\n",
       "      <td>R&amp;B</td>\n",
       "      <td>US</td>\n",
       "      <td>177.551396</td>\n",
       "      <td>354</td>\n",
       "      <td>10</td>\n",
       "      <td>nan</td>\n",
       "    </tr>\n",
       "    <tr>\n",
       "      <th>10</th>\n",
       "      <td>I'm Yours</td>\n",
       "      <td>Jason Mraz</td>\n",
       "      <td>0</td>\n",
       "      <td>2008</td>\n",
       "      <td>Pop</td>\n",
       "      <td>US</td>\n",
       "      <td>245.481375</td>\n",
       "      <td>351</td>\n",
       "      <td>20</td>\n",
       "      <td>nan</td>\n",
       "    </tr>\n",
       "    <tr>\n",
       "      <th>11</th>\n",
       "      <td>Chasing Cars</td>\n",
       "      <td>Snow Patrol</td>\n",
       "      <td>0</td>\n",
       "      <td>2006</td>\n",
       "      <td>Rock</td>\n",
       "      <td>UK</td>\n",
       "      <td>221.007542</td>\n",
       "      <td>345</td>\n",
       "      <td>20</td>\n",
       "      <td>nan</td>\n",
       "    </tr>\n",
       "    <tr>\n",
       "      <th>12</th>\n",
       "      <td>Let Her Go</td>\n",
       "      <td>Passenger</td>\n",
       "      <td>0</td>\n",
       "      <td>2012</td>\n",
       "      <td>Rock</td>\n",
       "      <td>US</td>\n",
       "      <td>254.165624</td>\n",
       "      <td>342</td>\n",
       "      <td>20</td>\n",
       "      <td>nan</td>\n",
       "    </tr>\n",
       "    <tr>\n",
       "      <th>13</th>\n",
       "      <td>Love Story</td>\n",
       "      <td>Taylor Swift</td>\n",
       "      <td>0</td>\n",
       "      <td>2008</td>\n",
       "      <td>Country</td>\n",
       "      <td>US</td>\n",
       "      <td>234.103583</td>\n",
       "      <td>342</td>\n",
       "      <td>20</td>\n",
       "      <td>nan</td>\n",
       "    </tr>\n",
       "    <tr>\n",
       "      <th>14</th>\n",
       "      <td>I Will Always Love You</td>\n",
       "      <td>Whitney Houston</td>\n",
       "      <td>0</td>\n",
       "      <td>1992</td>\n",
       "      <td>R&amp;B</td>\n",
       "      <td>US</td>\n",
       "      <td>270.442813</td>\n",
       "      <td>339</td>\n",
       "      <td>20</td>\n",
       "      <td>nan</td>\n",
       "    </tr>\n",
       "    <tr>\n",
       "      <th>15</th>\n",
       "      <td>The Scientist</td>\n",
       "      <td>Coldplay</td>\n",
       "      <td>0</td>\n",
       "      <td>2002</td>\n",
       "      <td>Rock</td>\n",
       "      <td>UK</td>\n",
       "      <td>309.254979</td>\n",
       "      <td>338</td>\n",
       "      <td>20</td>\n",
       "      <td>nan</td>\n",
       "    </tr>\n",
       "    <tr>\n",
       "      <th>16</th>\n",
       "      <td>Don't Stop Me Now</td>\n",
       "      <td>Queen</td>\n",
       "      <td>0</td>\n",
       "      <td>1979</td>\n",
       "      <td>Rock</td>\n",
       "      <td>UK</td>\n",
       "      <td>209.583311</td>\n",
       "      <td>338</td>\n",
       "      <td>20</td>\n",
       "      <td>nan</td>\n",
       "    </tr>\n",
       "    <tr>\n",
       "      <th>17</th>\n",
       "      <td>Pumped Up Kicks</td>\n",
       "      <td>Foster The People</td>\n",
       "      <td>0</td>\n",
       "      <td>2010</td>\n",
       "      <td>Rock</td>\n",
       "      <td>US</td>\n",
       "      <td>253.178776</td>\n",
       "      <td>336</td>\n",
       "      <td>20</td>\n",
       "      <td>nan</td>\n",
       "    </tr>\n",
       "    <tr>\n",
       "      <th>18</th>\n",
       "      <td>Don't Go Breaking My Heart</td>\n",
       "      <td>Elton John</td>\n",
       "      <td>Kiki Dee</td>\n",
       "      <td>1976</td>\n",
       "      <td>Pop</td>\n",
       "      <td>UK</td>\n",
       "      <td>266.146667</td>\n",
       "      <td>334</td>\n",
       "      <td>20</td>\n",
       "      <td>nan</td>\n",
       "    </tr>\n",
       "    <tr>\n",
       "      <th>19</th>\n",
       "      <td>Hey, Soul Sister</td>\n",
       "      <td>Train</td>\n",
       "      <td>0</td>\n",
       "      <td>2009</td>\n",
       "      <td>Pop</td>\n",
       "      <td>US</td>\n",
       "      <td>215.295420</td>\n",
       "      <td>328</td>\n",
       "      <td>20</td>\n",
       "      <td>nan</td>\n",
       "    </tr>\n",
       "    <tr>\n",
       "      <th>20</th>\n",
       "      <td>Can't Take My Eyes Off You</td>\n",
       "      <td>Andy Williams</td>\n",
       "      <td>0</td>\n",
       "      <td>1968</td>\n",
       "      <td>Pop</td>\n",
       "      <td>US</td>\n",
       "      <td>193.386667</td>\n",
       "      <td>328</td>\n",
       "      <td>30</td>\n",
       "      <td>nan</td>\n",
       "    </tr>\n",
       "    <tr>\n",
       "      <th>21</th>\n",
       "      <td>American Pie</td>\n",
       "      <td>Don McLean</td>\n",
       "      <td>0</td>\n",
       "      <td>1971</td>\n",
       "      <td>Rock</td>\n",
       "      <td>US</td>\n",
       "      <td>512.139320</td>\n",
       "      <td>326</td>\n",
       "      <td>30</td>\n",
       "      <td>nan</td>\n",
       "    </tr>\n",
       "    <tr>\n",
       "      <th>22</th>\n",
       "      <td>Dynamite</td>\n",
       "      <td>Taio Cruz</td>\n",
       "      <td>0</td>\n",
       "      <td>2010</td>\n",
       "      <td>Pop</td>\n",
       "      <td>US</td>\n",
       "      <td>202.663764</td>\n",
       "      <td>326</td>\n",
       "      <td>30</td>\n",
       "      <td>nan</td>\n",
       "    </tr>\n",
       "    <tr>\n",
       "      <th>23</th>\n",
       "      <td>She Will Be Loved</td>\n",
       "      <td>Maroon 5</td>\n",
       "      <td>0</td>\n",
       "      <td>2004</td>\n",
       "      <td>Rock</td>\n",
       "      <td>US</td>\n",
       "      <td>267.168979</td>\n",
       "      <td>323</td>\n",
       "      <td>30</td>\n",
       "      <td>nan</td>\n",
       "    </tr>\n",
       "    <tr>\n",
       "      <th>24</th>\n",
       "      <td>Sorry</td>\n",
       "      <td>Justin Bieber</td>\n",
       "      <td>0</td>\n",
       "      <td>2015</td>\n",
       "      <td>Pop</td>\n",
       "      <td>Canada</td>\n",
       "      <td>199.354938</td>\n",
       "      <td>320</td>\n",
       "      <td>30</td>\n",
       "      <td>nan</td>\n",
       "    </tr>\n",
       "    <tr>\n",
       "      <th>25</th>\n",
       "      <td>Boulevard of Broken Dreams</td>\n",
       "      <td>Green Day</td>\n",
       "      <td>0</td>\n",
       "      <td>2004</td>\n",
       "      <td>Rock</td>\n",
       "      <td>US</td>\n",
       "      <td>260.760000</td>\n",
       "      <td>318</td>\n",
       "      <td>30</td>\n",
       "      <td>nan</td>\n",
       "    </tr>\n",
       "    <tr>\n",
       "      <th>26</th>\n",
       "      <td>Toxic</td>\n",
       "      <td>Britney Spears</td>\n",
       "      <td>0</td>\n",
       "      <td>2004</td>\n",
       "      <td>Pop</td>\n",
       "      <td>US</td>\n",
       "      <td>198.869333</td>\n",
       "      <td>318</td>\n",
       "      <td>30</td>\n",
       "      <td>nan</td>\n",
       "    </tr>\n",
       "    <tr>\n",
       "      <th>27</th>\n",
       "      <td>Bohemian Rhapsody</td>\n",
       "      <td>Queen</td>\n",
       "      <td>0</td>\n",
       "      <td>1975</td>\n",
       "      <td>Rock</td>\n",
       "      <td>UK</td>\n",
       "      <td>354.000000</td>\n",
       "      <td>318</td>\n",
       "      <td>30</td>\n",
       "      <td>https://drive.google.com/drive/folders/11hWr2K...</td>\n",
       "    </tr>\n",
       "    <tr>\n",
       "      <th>28</th>\n",
       "      <td>I Don't Want to Miss a Thing</td>\n",
       "      <td>Aerosmith</td>\n",
       "      <td>0</td>\n",
       "      <td>1998</td>\n",
       "      <td>Rock</td>\n",
       "      <td>US</td>\n",
       "      <td>322.838646</td>\n",
       "      <td>316</td>\n",
       "      <td>30</td>\n",
       "      <td>nan</td>\n",
       "    </tr>\n",
       "    <tr>\n",
       "      <th>29</th>\n",
       "      <td>Every Breath You Take</td>\n",
       "      <td>The Police</td>\n",
       "      <td>0</td>\n",
       "      <td>1983</td>\n",
       "      <td>Rock</td>\n",
       "      <td>UK</td>\n",
       "      <td>228.345034</td>\n",
       "      <td>313</td>\n",
       "      <td>30</td>\n",
       "      <td>nan</td>\n",
       "    </tr>\n",
       "    <tr>\n",
       "      <th>30</th>\n",
       "      <td>This Is Me</td>\n",
       "      <td>Demi Lovato</td>\n",
       "      <td>Joe Jonas</td>\n",
       "      <td>2008</td>\n",
       "      <td>Soundtrack</td>\n",
       "      <td>US</td>\n",
       "      <td>187.245714</td>\n",
       "      <td>311</td>\n",
       "      <td>40</td>\n",
       "      <td>nan</td>\n",
       "    </tr>\n",
       "    <tr>\n",
       "      <th>31</th>\n",
       "      <td>Let It Go</td>\n",
       "      <td>Idina Menzel</td>\n",
       "      <td>0</td>\n",
       "      <td>2014</td>\n",
       "      <td>Soundtrack</td>\n",
       "      <td>US</td>\n",
       "      <td>231.886083</td>\n",
       "      <td>306</td>\n",
       "      <td>40</td>\n",
       "      <td>nan</td>\n",
       "    </tr>\n",
       "    <tr>\n",
       "      <th>32</th>\n",
       "      <td>Wannabe</td>\n",
       "      <td>Spice Girls</td>\n",
       "      <td>0</td>\n",
       "      <td>1996</td>\n",
       "      <td>Pop</td>\n",
       "      <td>UK</td>\n",
       "      <td>175.078458</td>\n",
       "      <td>306</td>\n",
       "      <td>40</td>\n",
       "      <td>nan</td>\n",
       "    </tr>\n",
       "    <tr>\n",
       "      <th>33</th>\n",
       "      <td>Livin' On A Prayer</td>\n",
       "      <td>Bon Jovi</td>\n",
       "      <td>0</td>\n",
       "      <td>1986</td>\n",
       "      <td>Rock</td>\n",
       "      <td>Jamaica</td>\n",
       "      <td>249.359093</td>\n",
       "      <td>304</td>\n",
       "      <td>40</td>\n",
       "      <td>nan</td>\n",
       "    </tr>\n",
       "    <tr>\n",
       "      <th>34</th>\n",
       "      <td>Beautiful Girls</td>\n",
       "      <td>Sean Kingston</td>\n",
       "      <td>0</td>\n",
       "      <td>2007</td>\n",
       "      <td>R&amp;B</td>\n",
       "      <td>US</td>\n",
       "      <td>241.116021</td>\n",
       "      <td>302</td>\n",
       "      <td>40</td>\n",
       "      <td>nan</td>\n",
       "    </tr>\n",
       "    <tr>\n",
       "      <th>35</th>\n",
       "      <td>Just the Way You Are</td>\n",
       "      <td>Bruno Mars</td>\n",
       "      <td>0</td>\n",
       "      <td>2010</td>\n",
       "      <td>Pop</td>\n",
       "      <td>US</td>\n",
       "      <td>220.020688</td>\n",
       "      <td>301</td>\n",
       "      <td>40</td>\n",
       "      <td>nan</td>\n",
       "    </tr>\n",
       "    <tr>\n",
       "      <th>36</th>\n",
       "      <td>Nothing's Gonna Change My Love for You</td>\n",
       "      <td>George Benson</td>\n",
       "      <td>0</td>\n",
       "      <td>1985</td>\n",
       "      <td>R&amp;B</td>\n",
       "      <td>US</td>\n",
       "      <td>241.013333</td>\n",
       "      <td>296</td>\n",
       "      <td>40</td>\n",
       "      <td>nan</td>\n",
       "    </tr>\n",
       "    <tr>\n",
       "      <th>37</th>\n",
       "      <td>All Star</td>\n",
       "      <td>Smash Mouth</td>\n",
       "      <td>0</td>\n",
       "      <td>1999</td>\n",
       "      <td>Rock</td>\n",
       "      <td>US</td>\n",
       "      <td>201.920726</td>\n",
       "      <td>294</td>\n",
       "      <td>40</td>\n",
       "      <td>nan</td>\n",
       "    </tr>\n",
       "    <tr>\n",
       "      <th>38</th>\n",
       "      <td>Wrecking Ball</td>\n",
       "      <td>Miley Cyrus</td>\n",
       "      <td>0</td>\n",
       "      <td>2013</td>\n",
       "      <td>Pop</td>\n",
       "      <td>US</td>\n",
       "      <td>221.460333</td>\n",
       "      <td>293</td>\n",
       "      <td>40</td>\n",
       "      <td>nan</td>\n",
       "    </tr>\n",
       "    <tr>\n",
       "      <th>39</th>\n",
       "      <td>Say My Name</td>\n",
       "      <td>Destiny's Child</td>\n",
       "      <td>0</td>\n",
       "      <td>1999</td>\n",
       "      <td>R&amp;B</td>\n",
       "      <td>US</td>\n",
       "      <td>267.533333</td>\n",
       "      <td>293</td>\n",
       "      <td>40</td>\n",
       "      <td>nan</td>\n",
       "    </tr>\n",
       "    <tr>\n",
       "      <th>40</th>\n",
       "      <td>Sweet Caroline</td>\n",
       "      <td>Neil Diamond</td>\n",
       "      <td>0</td>\n",
       "      <td>1967</td>\n",
       "      <td>Rock</td>\n",
       "      <td>US</td>\n",
       "      <td>200.295329</td>\n",
       "      <td>289</td>\n",
       "      <td>50</td>\n",
       "      <td>nan</td>\n",
       "    </tr>\n",
       "    <tr>\n",
       "      <th>41</th>\n",
       "      <td>Because of You</td>\n",
       "      <td>Kelly Clarkson</td>\n",
       "      <td>0</td>\n",
       "      <td>2004</td>\n",
       "      <td>Pop</td>\n",
       "      <td>US</td>\n",
       "      <td>221.007528</td>\n",
       "      <td>288</td>\n",
       "      <td>50</td>\n",
       "      <td>nan</td>\n",
       "    </tr>\n",
       "    <tr>\n",
       "      <th>42</th>\n",
       "      <td>As Long As You Love Me</td>\n",
       "      <td>Justin Bieber</td>\n",
       "      <td>Big Sean</td>\n",
       "      <td>2012</td>\n",
       "      <td>Pop</td>\n",
       "      <td>Canada</td>\n",
       "      <td>229.982042</td>\n",
       "      <td>287</td>\n",
       "      <td>50</td>\n",
       "      <td>nan</td>\n",
       "    </tr>\n",
       "    <tr>\n",
       "      <th>43</th>\n",
       "      <td>Africa</td>\n",
       "      <td>TOTO</td>\n",
       "      <td>0</td>\n",
       "      <td>1982</td>\n",
       "      <td>Rock</td>\n",
       "      <td>US</td>\n",
       "      <td>295.938322</td>\n",
       "      <td>287</td>\n",
       "      <td>50</td>\n",
       "      <td>nan</td>\n",
       "    </tr>\n",
       "    <tr>\n",
       "      <th>44</th>\n",
       "      <td>I Want It That Way</td>\n",
       "      <td>Backstreet Boys</td>\n",
       "      <td>0</td>\n",
       "      <td>1999</td>\n",
       "      <td>Pop</td>\n",
       "      <td>US</td>\n",
       "      <td>213.089524</td>\n",
       "      <td>287</td>\n",
       "      <td>50</td>\n",
       "      <td>nan</td>\n",
       "    </tr>\n",
       "    <tr>\n",
       "      <th>45</th>\n",
       "      <td>Under Pressure</td>\n",
       "      <td>Queen</td>\n",
       "      <td>David Bowie</td>\n",
       "      <td>1981</td>\n",
       "      <td>Rock</td>\n",
       "      <td>UK</td>\n",
       "      <td>233.665306</td>\n",
       "      <td>283</td>\n",
       "      <td>50</td>\n",
       "      <td>nan</td>\n",
       "    </tr>\n",
       "    <tr>\n",
       "      <th>46</th>\n",
       "      <td>Bleeding Love</td>\n",
       "      <td>Leona Lewis</td>\n",
       "      <td>0</td>\n",
       "      <td>2007</td>\n",
       "      <td>Pop</td>\n",
       "      <td>UK</td>\n",
       "      <td>260.829771</td>\n",
       "      <td>282</td>\n",
       "      <td>50</td>\n",
       "      <td>nan</td>\n",
       "    </tr>\n",
       "    <tr>\n",
       "      <th>47</th>\n",
       "      <td>Use Somebody</td>\n",
       "      <td>Kings of Leon</td>\n",
       "      <td>0</td>\n",
       "      <td>2008</td>\n",
       "      <td>Rock</td>\n",
       "      <td>US</td>\n",
       "      <td>232.861333</td>\n",
       "      <td>281</td>\n",
       "      <td>50</td>\n",
       "      <td>nan</td>\n",
       "    </tr>\n",
       "    <tr>\n",
       "      <th>48</th>\n",
       "      <td>Bad Day</td>\n",
       "      <td>Daniel Powter</td>\n",
       "      <td>0</td>\n",
       "      <td>2005</td>\n",
       "      <td>Pop</td>\n",
       "      <td>Canada</td>\n",
       "      <td>233.755283</td>\n",
       "      <td>281</td>\n",
       "      <td>50</td>\n",
       "      <td>nan</td>\n",
       "    </tr>\n",
       "    <tr>\n",
       "      <th>49</th>\n",
       "      <td>With You</td>\n",
       "      <td>Chris Brown</td>\n",
       "      <td>0</td>\n",
       "      <td>2007</td>\n",
       "      <td>R&amp;B</td>\n",
       "      <td>US</td>\n",
       "      <td>251.924917</td>\n",
       "      <td>278</td>\n",
       "      <td>50</td>\n",
       "      <td>nan</td>\n",
       "    </tr>\n",
       "  </tbody>\n",
       "</table>\n",
       "</div>"
      ],
      "text/plain": [
       "                                     Title                 Artist  \\\n",
       "0                         Hotel California                 Eagles   \n",
       "1                         Someone Like You                  Adele   \n",
       "2              Take Me Home, Country Roads            John Denver   \n",
       "3                        Hey There Delilah        Plain White T's   \n",
       "4                        Rewrite The Stars              Zac Efron   \n",
       "5                                  Shallow              Lady Gaga   \n",
       "6                  Smells Like Teen Spirit                Nirvana   \n",
       "7                       Just the Two of Us  Grover Washington Jr.   \n",
       "8                   What A Wonderful World        Louis Armstrong   \n",
       "9                              Stand by Me            Ben E. King   \n",
       "10                               I'm Yours             Jason Mraz   \n",
       "11                            Chasing Cars            Snow Patrol   \n",
       "12                              Let Her Go              Passenger   \n",
       "13                              Love Story           Taylor Swift   \n",
       "14                  I Will Always Love You        Whitney Houston   \n",
       "15                           The Scientist               Coldplay   \n",
       "16                       Don't Stop Me Now                  Queen   \n",
       "17                         Pumped Up Kicks      Foster The People   \n",
       "18              Don't Go Breaking My Heart             Elton John   \n",
       "19                        Hey, Soul Sister                  Train   \n",
       "20              Can't Take My Eyes Off You          Andy Williams   \n",
       "21                            American Pie             Don McLean   \n",
       "22                                Dynamite              Taio Cruz   \n",
       "23                       She Will Be Loved               Maroon 5   \n",
       "24                                   Sorry          Justin Bieber   \n",
       "25              Boulevard of Broken Dreams              Green Day   \n",
       "26                                   Toxic         Britney Spears   \n",
       "27                       Bohemian Rhapsody                  Queen   \n",
       "28            I Don't Want to Miss a Thing              Aerosmith   \n",
       "29                   Every Breath You Take             The Police   \n",
       "30                              This Is Me            Demi Lovato   \n",
       "31                               Let It Go           Idina Menzel   \n",
       "32                                 Wannabe            Spice Girls   \n",
       "33                      Livin' On A Prayer               Bon Jovi   \n",
       "34                         Beautiful Girls          Sean Kingston   \n",
       "35                    Just the Way You Are             Bruno Mars   \n",
       "36  Nothing's Gonna Change My Love for You          George Benson   \n",
       "37                                All Star            Smash Mouth   \n",
       "38                           Wrecking Ball            Miley Cyrus   \n",
       "39                             Say My Name        Destiny's Child   \n",
       "40                          Sweet Caroline           Neil Diamond   \n",
       "41                          Because of You         Kelly Clarkson   \n",
       "42                  As Long As You Love Me          Justin Bieber   \n",
       "43                                  Africa                   TOTO   \n",
       "44                      I Want It That Way        Backstreet Boys   \n",
       "45                          Under Pressure                  Queen   \n",
       "46                           Bleeding Love            Leona Lewis   \n",
       "47                            Use Somebody          Kings of Leon   \n",
       "48                                 Bad Day          Daniel Powter   \n",
       "49                                With You            Chris Brown   \n",
       "\n",
       "           Feature  Year       Genre   Origin      Length  Score  Top  \\\n",
       "0                0  1977        Rock       US  391.376250    381   10   \n",
       "1                0  2011         Pop       UK  287.111837    363   10   \n",
       "2                0  1971     Country       US  195.500417    360   10   \n",
       "3                0  2006         Pop       US  232.571083    360   10   \n",
       "4          Zendaya  2018  Soundtrack       US  216.177778    360   10   \n",
       "5   Bradley Cooper  2018  Soundtrack       US  215.817875    359   10   \n",
       "6                0  1991        Rock       US  297.795918    359   10   \n",
       "7     Bill Withers  1981         R&B       US  236.413979    350   10   \n",
       "8                0  1967         R&B       US  138.727625    355   10   \n",
       "9                0  1961         R&B       US  177.551396    354   10   \n",
       "10               0  2008         Pop       US  245.481375    351   20   \n",
       "11               0  2006        Rock       UK  221.007542    345   20   \n",
       "12               0  2012        Rock       US  254.165624    342   20   \n",
       "13               0  2008     Country       US  234.103583    342   20   \n",
       "14               0  1992         R&B       US  270.442813    339   20   \n",
       "15               0  2002        Rock       UK  309.254979    338   20   \n",
       "16               0  1979        Rock       UK  209.583311    338   20   \n",
       "17               0  2010        Rock       US  253.178776    336   20   \n",
       "18        Kiki Dee  1976         Pop       UK  266.146667    334   20   \n",
       "19               0  2009         Pop       US  215.295420    328   20   \n",
       "20               0  1968         Pop       US  193.386667    328   30   \n",
       "21               0  1971        Rock       US  512.139320    326   30   \n",
       "22               0  2010         Pop       US  202.663764    326   30   \n",
       "23               0  2004        Rock       US  267.168979    323   30   \n",
       "24               0  2015         Pop   Canada  199.354938    320   30   \n",
       "25               0  2004        Rock       US  260.760000    318   30   \n",
       "26               0  2004         Pop       US  198.869333    318   30   \n",
       "27               0  1975        Rock       UK  354.000000    318   30   \n",
       "28               0  1998        Rock       US  322.838646    316   30   \n",
       "29               0  1983        Rock       UK  228.345034    313   30   \n",
       "30       Joe Jonas  2008  Soundtrack       US  187.245714    311   40   \n",
       "31               0  2014  Soundtrack       US  231.886083    306   40   \n",
       "32               0  1996         Pop       UK  175.078458    306   40   \n",
       "33               0  1986        Rock  Jamaica  249.359093    304   40   \n",
       "34               0  2007         R&B       US  241.116021    302   40   \n",
       "35               0  2010         Pop       US  220.020688    301   40   \n",
       "36               0  1985         R&B       US  241.013333    296   40   \n",
       "37               0  1999        Rock       US  201.920726    294   40   \n",
       "38               0  2013         Pop       US  221.460333    293   40   \n",
       "39               0  1999         R&B       US  267.533333    293   40   \n",
       "40               0  1967        Rock       US  200.295329    289   50   \n",
       "41               0  2004         Pop       US  221.007528    288   50   \n",
       "42        Big Sean  2012         Pop   Canada  229.982042    287   50   \n",
       "43               0  1982        Rock       US  295.938322    287   50   \n",
       "44               0  1999         Pop       US  213.089524    287   50   \n",
       "45     David Bowie  1981        Rock       UK  233.665306    283   50   \n",
       "46               0  2007         Pop       UK  260.829771    282   50   \n",
       "47               0  2008        Rock       US  232.861333    281   50   \n",
       "48               0  2005         Pop   Canada  233.755283    281   50   \n",
       "49               0  2007         R&B       US  251.924917    278   50   \n",
       "\n",
       "                                                  url  \n",
       "0                                                 nan  \n",
       "1                                                 nan  \n",
       "2                                                 nan  \n",
       "3                                                 nan  \n",
       "4                                                 nan  \n",
       "5                                                 nan  \n",
       "6                                                 nan  \n",
       "7                                                 nan  \n",
       "8                                                 nan  \n",
       "9                                                 nan  \n",
       "10                                                nan  \n",
       "11                                                nan  \n",
       "12                                                nan  \n",
       "13                                                nan  \n",
       "14                                                nan  \n",
       "15                                                nan  \n",
       "16                                                nan  \n",
       "17                                                nan  \n",
       "18                                                nan  \n",
       "19                                                nan  \n",
       "20                                                nan  \n",
       "21                                                nan  \n",
       "22                                                nan  \n",
       "23                                                nan  \n",
       "24                                                nan  \n",
       "25                                                nan  \n",
       "26                                                nan  \n",
       "27  https://drive.google.com/drive/folders/11hWr2K...  \n",
       "28                                                nan  \n",
       "29                                                nan  \n",
       "30                                                nan  \n",
       "31                                                nan  \n",
       "32                                                nan  \n",
       "33                                                nan  \n",
       "34                                                nan  \n",
       "35                                                nan  \n",
       "36                                                nan  \n",
       "37                                                nan  \n",
       "38                                                nan  \n",
       "39                                                nan  \n",
       "40                                                nan  \n",
       "41                                                nan  \n",
       "42                                                nan  \n",
       "43                                                nan  \n",
       "44                                                nan  \n",
       "45                                                nan  \n",
       "46                                                nan  \n",
       "47                                                nan  \n",
       "48                                                nan  \n",
       "49                                                nan  "
      ]
     },
     "execution_count": 17,
     "metadata": {},
     "output_type": "execute_result"
    }
   ],
   "source": [
    "karaoke_data = pd.DataFrame({'Title': names, 'Artist': artists, 'Feature': features,\n",
    "                             'Year': years, 'Genre': genres, 'Origin': countries,\n",
    "                             'Length': lengths, 'Score': scores, 'Top': tops, 'url': URL})\n",
    "karaoke_data"
   ]
  },
  {
   "cell_type": "code",
   "execution_count": 18,
   "id": "acf131c3",
   "metadata": {},
   "outputs": [
    {
     "data": {
      "application/vnd.plotly.v1+json": {
       "config": {
        "plotlyServerURL": "https://plot.ly"
       },
       "data": [
        {
         "hovertemplate": "<b>%{hovertext}</b><br><br>Origin=US<br>Score=%{x}<br>Length (s)=%{y}<extra></extra>",
         "hovertext": [
          "Hotel California",
          "Take Me Home, Country Roads",
          "Hey There Delilah",
          "Rewrite The Stars",
          "Shallow",
          "Smells Like Teen Spirit",
          "Just the Two of Us",
          "What A Wonderful World",
          "Stand by Me",
          "I'm Yours",
          "Let Her Go",
          "Love Story",
          "I Will Always Love You",
          "Pumped Up Kicks",
          "Hey, Soul Sister",
          "Can't Take My Eyes Off You",
          "American Pie",
          "Dynamite",
          "She Will Be Loved",
          "Boulevard of Broken Dreams",
          "Toxic",
          "I Don't Want to Miss a Thing",
          "This Is Me",
          "Let It Go",
          "Beautiful Girls",
          "Just the Way You Are",
          "Nothing's Gonna Change My Love for You",
          "All Star",
          "Wrecking Ball",
          "Say My Name",
          "Sweet Caroline",
          "Because of You",
          "Africa",
          "I Want It That Way",
          "Use Somebody",
          "With You"
         ],
         "legendgroup": "US",
         "marker": {
          "color": "#636efa",
          "size": 10,
          "symbol": "circle"
         },
         "mode": "markers",
         "name": "US",
         "orientation": "v",
         "showlegend": true,
         "type": "scatter",
         "x": [
          381,
          360,
          360,
          360,
          359,
          359,
          350,
          355,
          354,
          351,
          342,
          342,
          339,
          336,
          328,
          328,
          326,
          326,
          323,
          318,
          318,
          316,
          311,
          306,
          302,
          301,
          296,
          294,
          293,
          293,
          289,
          288,
          287,
          287,
          281,
          278
         ],
         "xaxis": "x",
         "y": [
          391.37625,
          195.5004167,
          232.5710833,
          216.1777778,
          215.817875,
          297.7959184,
          236.4139792,
          138.727625,
          177.5513958,
          245.481375,
          254.1656236,
          234.1035828,
          270.4428125,
          253.1787755,
          215.2954195,
          193.3866667,
          512.1393197,
          202.6637642,
          267.1689792,
          260.76,
          198.8693333,
          322.8386458,
          187.2457143,
          231.8860833,
          241.1160208,
          220.0206875,
          241.0133333,
          201.9207256,
          221.4603333,
          267.5333333,
          200.2953288,
          221.0075283,
          295.938322,
          213.0895238,
          232.8613333,
          251.9249167
         ],
         "yaxis": "y"
        },
        {
         "hovertemplate": "<b>%{hovertext}</b><br><br>Origin=UK<br>Score=%{x}<br>Length (s)=%{y}<extra></extra>",
         "hovertext": [
          "Someone Like You",
          "Chasing Cars",
          "The Scientist",
          "Don't Stop Me Now",
          "Don't Go Breaking My Heart",
          "Bohemian Rhapsody",
          "Every Breath You Take",
          "Wannabe",
          "Under Pressure",
          "Bleeding Love"
         ],
         "legendgroup": "UK",
         "marker": {
          "color": "#EF553B",
          "size": 10,
          "symbol": "circle"
         },
         "mode": "markers",
         "name": "UK",
         "orientation": "v",
         "showlegend": true,
         "type": "scatter",
         "x": [
          363,
          345,
          338,
          338,
          334,
          318,
          313,
          306,
          283,
          282
         ],
         "xaxis": "x",
         "y": [
          287.1118367,
          221.0075417,
          309.2549792,
          209.5833107,
          266.1466667,
          354,
          228.345034,
          175.078458,
          233.6653061,
          260.8297708
         ],
         "yaxis": "y"
        },
        {
         "hovertemplate": "<b>%{hovertext}</b><br><br>Origin=Canada<br>Score=%{x}<br>Length (s)=%{y}<extra></extra>",
         "hovertext": [
          "Sorry",
          "As Long As You Love Me",
          "Bad Day"
         ],
         "legendgroup": "Canada",
         "marker": {
          "color": "#00cc96",
          "size": 10,
          "symbol": "circle"
         },
         "mode": "markers",
         "name": "Canada",
         "orientation": "v",
         "showlegend": true,
         "type": "scatter",
         "x": [
          320,
          287,
          281
         ],
         "xaxis": "x",
         "y": [
          199.3549375,
          229.9820417,
          233.7552834
         ],
         "yaxis": "y"
        },
        {
         "hovertemplate": "<b>%{hovertext}</b><br><br>Origin=Jamaica<br>Score=%{x}<br>Length (s)=%{y}<extra></extra>",
         "hovertext": [
          "Livin' On A Prayer"
         ],
         "legendgroup": "Jamaica",
         "marker": {
          "color": "#ab63fa",
          "size": 10,
          "symbol": "circle"
         },
         "mode": "markers",
         "name": "Jamaica",
         "orientation": "v",
         "showlegend": true,
         "type": "scatter",
         "x": [
          304
         ],
         "xaxis": "x",
         "y": [
          249.359093
         ],
         "yaxis": "y"
        }
       ],
       "layout": {
        "legend": {
         "title": {
          "text": "Origin"
         },
         "tracegroupgap": 0
        },
        "margin": {
         "t": 60
        },
        "template": {
         "data": {
          "bar": [
           {
            "error_x": {
             "color": "#2a3f5f"
            },
            "error_y": {
             "color": "#2a3f5f"
            },
            "marker": {
             "line": {
              "color": "#E5ECF6",
              "width": 0.5
             },
             "pattern": {
              "fillmode": "overlay",
              "size": 10,
              "solidity": 0.2
             }
            },
            "type": "bar"
           }
          ],
          "barpolar": [
           {
            "marker": {
             "line": {
              "color": "#E5ECF6",
              "width": 0.5
             },
             "pattern": {
              "fillmode": "overlay",
              "size": 10,
              "solidity": 0.2
             }
            },
            "type": "barpolar"
           }
          ],
          "carpet": [
           {
            "aaxis": {
             "endlinecolor": "#2a3f5f",
             "gridcolor": "white",
             "linecolor": "white",
             "minorgridcolor": "white",
             "startlinecolor": "#2a3f5f"
            },
            "baxis": {
             "endlinecolor": "#2a3f5f",
             "gridcolor": "white",
             "linecolor": "white",
             "minorgridcolor": "white",
             "startlinecolor": "#2a3f5f"
            },
            "type": "carpet"
           }
          ],
          "choropleth": [
           {
            "colorbar": {
             "outlinewidth": 0,
             "ticks": ""
            },
            "type": "choropleth"
           }
          ],
          "contour": [
           {
            "colorbar": {
             "outlinewidth": 0,
             "ticks": ""
            },
            "colorscale": [
             [
              0,
              "#0d0887"
             ],
             [
              0.1111111111111111,
              "#46039f"
             ],
             [
              0.2222222222222222,
              "#7201a8"
             ],
             [
              0.3333333333333333,
              "#9c179e"
             ],
             [
              0.4444444444444444,
              "#bd3786"
             ],
             [
              0.5555555555555556,
              "#d8576b"
             ],
             [
              0.6666666666666666,
              "#ed7953"
             ],
             [
              0.7777777777777778,
              "#fb9f3a"
             ],
             [
              0.8888888888888888,
              "#fdca26"
             ],
             [
              1,
              "#f0f921"
             ]
            ],
            "type": "contour"
           }
          ],
          "contourcarpet": [
           {
            "colorbar": {
             "outlinewidth": 0,
             "ticks": ""
            },
            "type": "contourcarpet"
           }
          ],
          "heatmap": [
           {
            "colorbar": {
             "outlinewidth": 0,
             "ticks": ""
            },
            "colorscale": [
             [
              0,
              "#0d0887"
             ],
             [
              0.1111111111111111,
              "#46039f"
             ],
             [
              0.2222222222222222,
              "#7201a8"
             ],
             [
              0.3333333333333333,
              "#9c179e"
             ],
             [
              0.4444444444444444,
              "#bd3786"
             ],
             [
              0.5555555555555556,
              "#d8576b"
             ],
             [
              0.6666666666666666,
              "#ed7953"
             ],
             [
              0.7777777777777778,
              "#fb9f3a"
             ],
             [
              0.8888888888888888,
              "#fdca26"
             ],
             [
              1,
              "#f0f921"
             ]
            ],
            "type": "heatmap"
           }
          ],
          "heatmapgl": [
           {
            "colorbar": {
             "outlinewidth": 0,
             "ticks": ""
            },
            "colorscale": [
             [
              0,
              "#0d0887"
             ],
             [
              0.1111111111111111,
              "#46039f"
             ],
             [
              0.2222222222222222,
              "#7201a8"
             ],
             [
              0.3333333333333333,
              "#9c179e"
             ],
             [
              0.4444444444444444,
              "#bd3786"
             ],
             [
              0.5555555555555556,
              "#d8576b"
             ],
             [
              0.6666666666666666,
              "#ed7953"
             ],
             [
              0.7777777777777778,
              "#fb9f3a"
             ],
             [
              0.8888888888888888,
              "#fdca26"
             ],
             [
              1,
              "#f0f921"
             ]
            ],
            "type": "heatmapgl"
           }
          ],
          "histogram": [
           {
            "marker": {
             "pattern": {
              "fillmode": "overlay",
              "size": 10,
              "solidity": 0.2
             }
            },
            "type": "histogram"
           }
          ],
          "histogram2d": [
           {
            "colorbar": {
             "outlinewidth": 0,
             "ticks": ""
            },
            "colorscale": [
             [
              0,
              "#0d0887"
             ],
             [
              0.1111111111111111,
              "#46039f"
             ],
             [
              0.2222222222222222,
              "#7201a8"
             ],
             [
              0.3333333333333333,
              "#9c179e"
             ],
             [
              0.4444444444444444,
              "#bd3786"
             ],
             [
              0.5555555555555556,
              "#d8576b"
             ],
             [
              0.6666666666666666,
              "#ed7953"
             ],
             [
              0.7777777777777778,
              "#fb9f3a"
             ],
             [
              0.8888888888888888,
              "#fdca26"
             ],
             [
              1,
              "#f0f921"
             ]
            ],
            "type": "histogram2d"
           }
          ],
          "histogram2dcontour": [
           {
            "colorbar": {
             "outlinewidth": 0,
             "ticks": ""
            },
            "colorscale": [
             [
              0,
              "#0d0887"
             ],
             [
              0.1111111111111111,
              "#46039f"
             ],
             [
              0.2222222222222222,
              "#7201a8"
             ],
             [
              0.3333333333333333,
              "#9c179e"
             ],
             [
              0.4444444444444444,
              "#bd3786"
             ],
             [
              0.5555555555555556,
              "#d8576b"
             ],
             [
              0.6666666666666666,
              "#ed7953"
             ],
             [
              0.7777777777777778,
              "#fb9f3a"
             ],
             [
              0.8888888888888888,
              "#fdca26"
             ],
             [
              1,
              "#f0f921"
             ]
            ],
            "type": "histogram2dcontour"
           }
          ],
          "mesh3d": [
           {
            "colorbar": {
             "outlinewidth": 0,
             "ticks": ""
            },
            "type": "mesh3d"
           }
          ],
          "parcoords": [
           {
            "line": {
             "colorbar": {
              "outlinewidth": 0,
              "ticks": ""
             }
            },
            "type": "parcoords"
           }
          ],
          "pie": [
           {
            "automargin": true,
            "type": "pie"
           }
          ],
          "scatter": [
           {
            "fillpattern": {
             "fillmode": "overlay",
             "size": 10,
             "solidity": 0.2
            },
            "type": "scatter"
           }
          ],
          "scatter3d": [
           {
            "line": {
             "colorbar": {
              "outlinewidth": 0,
              "ticks": ""
             }
            },
            "marker": {
             "colorbar": {
              "outlinewidth": 0,
              "ticks": ""
             }
            },
            "type": "scatter3d"
           }
          ],
          "scattercarpet": [
           {
            "marker": {
             "colorbar": {
              "outlinewidth": 0,
              "ticks": ""
             }
            },
            "type": "scattercarpet"
           }
          ],
          "scattergeo": [
           {
            "marker": {
             "colorbar": {
              "outlinewidth": 0,
              "ticks": ""
             }
            },
            "type": "scattergeo"
           }
          ],
          "scattergl": [
           {
            "marker": {
             "colorbar": {
              "outlinewidth": 0,
              "ticks": ""
             }
            },
            "type": "scattergl"
           }
          ],
          "scattermapbox": [
           {
            "marker": {
             "colorbar": {
              "outlinewidth": 0,
              "ticks": ""
             }
            },
            "type": "scattermapbox"
           }
          ],
          "scatterpolar": [
           {
            "marker": {
             "colorbar": {
              "outlinewidth": 0,
              "ticks": ""
             }
            },
            "type": "scatterpolar"
           }
          ],
          "scatterpolargl": [
           {
            "marker": {
             "colorbar": {
              "outlinewidth": 0,
              "ticks": ""
             }
            },
            "type": "scatterpolargl"
           }
          ],
          "scatterternary": [
           {
            "marker": {
             "colorbar": {
              "outlinewidth": 0,
              "ticks": ""
             }
            },
            "type": "scatterternary"
           }
          ],
          "surface": [
           {
            "colorbar": {
             "outlinewidth": 0,
             "ticks": ""
            },
            "colorscale": [
             [
              0,
              "#0d0887"
             ],
             [
              0.1111111111111111,
              "#46039f"
             ],
             [
              0.2222222222222222,
              "#7201a8"
             ],
             [
              0.3333333333333333,
              "#9c179e"
             ],
             [
              0.4444444444444444,
              "#bd3786"
             ],
             [
              0.5555555555555556,
              "#d8576b"
             ],
             [
              0.6666666666666666,
              "#ed7953"
             ],
             [
              0.7777777777777778,
              "#fb9f3a"
             ],
             [
              0.8888888888888888,
              "#fdca26"
             ],
             [
              1,
              "#f0f921"
             ]
            ],
            "type": "surface"
           }
          ],
          "table": [
           {
            "cells": {
             "fill": {
              "color": "#EBF0F8"
             },
             "line": {
              "color": "white"
             }
            },
            "header": {
             "fill": {
              "color": "#C8D4E3"
             },
             "line": {
              "color": "white"
             }
            },
            "type": "table"
           }
          ]
         },
         "layout": {
          "annotationdefaults": {
           "arrowcolor": "#2a3f5f",
           "arrowhead": 0,
           "arrowwidth": 1
          },
          "autotypenumbers": "strict",
          "coloraxis": {
           "colorbar": {
            "outlinewidth": 0,
            "ticks": ""
           }
          },
          "colorscale": {
           "diverging": [
            [
             0,
             "#8e0152"
            ],
            [
             0.1,
             "#c51b7d"
            ],
            [
             0.2,
             "#de77ae"
            ],
            [
             0.3,
             "#f1b6da"
            ],
            [
             0.4,
             "#fde0ef"
            ],
            [
             0.5,
             "#f7f7f7"
            ],
            [
             0.6,
             "#e6f5d0"
            ],
            [
             0.7,
             "#b8e186"
            ],
            [
             0.8,
             "#7fbc41"
            ],
            [
             0.9,
             "#4d9221"
            ],
            [
             1,
             "#276419"
            ]
           ],
           "sequential": [
            [
             0,
             "#0d0887"
            ],
            [
             0.1111111111111111,
             "#46039f"
            ],
            [
             0.2222222222222222,
             "#7201a8"
            ],
            [
             0.3333333333333333,
             "#9c179e"
            ],
            [
             0.4444444444444444,
             "#bd3786"
            ],
            [
             0.5555555555555556,
             "#d8576b"
            ],
            [
             0.6666666666666666,
             "#ed7953"
            ],
            [
             0.7777777777777778,
             "#fb9f3a"
            ],
            [
             0.8888888888888888,
             "#fdca26"
            ],
            [
             1,
             "#f0f921"
            ]
           ],
           "sequentialminus": [
            [
             0,
             "#0d0887"
            ],
            [
             0.1111111111111111,
             "#46039f"
            ],
            [
             0.2222222222222222,
             "#7201a8"
            ],
            [
             0.3333333333333333,
             "#9c179e"
            ],
            [
             0.4444444444444444,
             "#bd3786"
            ],
            [
             0.5555555555555556,
             "#d8576b"
            ],
            [
             0.6666666666666666,
             "#ed7953"
            ],
            [
             0.7777777777777778,
             "#fb9f3a"
            ],
            [
             0.8888888888888888,
             "#fdca26"
            ],
            [
             1,
             "#f0f921"
            ]
           ]
          },
          "colorway": [
           "#636efa",
           "#EF553B",
           "#00cc96",
           "#ab63fa",
           "#FFA15A",
           "#19d3f3",
           "#FF6692",
           "#B6E880",
           "#FF97FF",
           "#FECB52"
          ],
          "font": {
           "color": "#2a3f5f"
          },
          "geo": {
           "bgcolor": "white",
           "lakecolor": "white",
           "landcolor": "#E5ECF6",
           "showlakes": true,
           "showland": true,
           "subunitcolor": "white"
          },
          "hoverlabel": {
           "align": "left"
          },
          "hovermode": "closest",
          "mapbox": {
           "style": "light"
          },
          "paper_bgcolor": "white",
          "plot_bgcolor": "#E5ECF6",
          "polar": {
           "angularaxis": {
            "gridcolor": "white",
            "linecolor": "white",
            "ticks": ""
           },
           "bgcolor": "#E5ECF6",
           "radialaxis": {
            "gridcolor": "white",
            "linecolor": "white",
            "ticks": ""
           }
          },
          "scene": {
           "xaxis": {
            "backgroundcolor": "#E5ECF6",
            "gridcolor": "white",
            "gridwidth": 2,
            "linecolor": "white",
            "showbackground": true,
            "ticks": "",
            "zerolinecolor": "white"
           },
           "yaxis": {
            "backgroundcolor": "#E5ECF6",
            "gridcolor": "white",
            "gridwidth": 2,
            "linecolor": "white",
            "showbackground": true,
            "ticks": "",
            "zerolinecolor": "white"
           },
           "zaxis": {
            "backgroundcolor": "#E5ECF6",
            "gridcolor": "white",
            "gridwidth": 2,
            "linecolor": "white",
            "showbackground": true,
            "ticks": "",
            "zerolinecolor": "white"
           }
          },
          "shapedefaults": {
           "line": {
            "color": "#2a3f5f"
           }
          },
          "ternary": {
           "aaxis": {
            "gridcolor": "white",
            "linecolor": "white",
            "ticks": ""
           },
           "baxis": {
            "gridcolor": "white",
            "linecolor": "white",
            "ticks": ""
           },
           "bgcolor": "#E5ECF6",
           "caxis": {
            "gridcolor": "white",
            "linecolor": "white",
            "ticks": ""
           }
          },
          "title": {
           "x": 0.05
          },
          "xaxis": {
           "automargin": true,
           "gridcolor": "white",
           "linecolor": "white",
           "ticks": "",
           "title": {
            "standoff": 15
           },
           "zerolinecolor": "white",
           "zerolinewidth": 2
          },
          "yaxis": {
           "automargin": true,
           "gridcolor": "white",
           "linecolor": "white",
           "ticks": "",
           "title": {
            "standoff": 15
           },
           "zerolinecolor": "white",
           "zerolinewidth": 2
          }
         }
        },
        "xaxis": {
         "anchor": "y",
         "domain": [
          0,
          1
         ],
         "title": {
          "text": "Score"
         }
        },
        "yaxis": {
         "anchor": "x",
         "domain": [
          0,
          1
         ],
         "title": {
          "text": "Length (s)"
         }
        }
       }
      },
      "text/html": [
       "<div>                            <div id=\"582f7928-3fcc-4ac3-a302-33e77c2e4a69\" class=\"plotly-graph-div\" style=\"height:525px; width:100%;\"></div>            <script type=\"text/javascript\">                require([\"plotly\"], function(Plotly) {                    window.PLOTLYENV=window.PLOTLYENV || {};                                    if (document.getElementById(\"582f7928-3fcc-4ac3-a302-33e77c2e4a69\")) {                    Plotly.newPlot(                        \"582f7928-3fcc-4ac3-a302-33e77c2e4a69\",                        [{\"hovertemplate\":\"<b>%{hovertext}</b><br><br>Origin=US<br>Score=%{x}<br>Length (s)=%{y}<extra></extra>\",\"hovertext\":[\"Hotel California\",\"Take Me Home, Country Roads\",\"Hey There Delilah\",\"Rewrite The Stars\",\"Shallow\",\"Smells Like Teen Spirit\",\"Just the Two of Us\",\"What A Wonderful World\",\"Stand by Me\",\"I'm Yours\",\"Let Her Go\",\"Love Story\",\"I Will Always Love You\",\"Pumped Up Kicks\",\"Hey, Soul Sister\",\"Can't Take My Eyes Off You\",\"American Pie\",\"Dynamite\",\"She Will Be Loved\",\"Boulevard of Broken Dreams\",\"Toxic\",\"I Don't Want to Miss a Thing\",\"This Is Me\",\"Let It Go\",\"Beautiful Girls\",\"Just the Way You Are\",\"Nothing's Gonna Change My Love for You\",\"All Star\",\"Wrecking Ball\",\"Say My Name\",\"Sweet Caroline\",\"Because of You\",\"Africa\",\"I Want It That Way\",\"Use Somebody\",\"With You\"],\"legendgroup\":\"US\",\"marker\":{\"color\":\"#636efa\",\"symbol\":\"circle\",\"size\":10},\"mode\":\"markers\",\"name\":\"US\",\"orientation\":\"v\",\"showlegend\":true,\"x\":[381,360,360,360,359,359,350,355,354,351,342,342,339,336,328,328,326,326,323,318,318,316,311,306,302,301,296,294,293,293,289,288,287,287,281,278],\"xaxis\":\"x\",\"y\":[391.37625,195.5004167,232.5710833,216.1777778,215.817875,297.7959184,236.4139792,138.727625,177.5513958,245.481375,254.1656236,234.1035828,270.4428125,253.1787755,215.2954195,193.3866667,512.1393197,202.6637642,267.1689792,260.76,198.8693333,322.8386458,187.2457143,231.8860833,241.1160208,220.0206875,241.0133333,201.9207256,221.4603333,267.5333333,200.2953288,221.0075283,295.938322,213.0895238,232.8613333,251.9249167],\"yaxis\":\"y\",\"type\":\"scatter\"},{\"hovertemplate\":\"<b>%{hovertext}</b><br><br>Origin=UK<br>Score=%{x}<br>Length (s)=%{y}<extra></extra>\",\"hovertext\":[\"Someone Like You\",\"Chasing Cars\",\"The Scientist\",\"Don't Stop Me Now\",\"Don't Go Breaking My Heart\",\"Bohemian Rhapsody\",\"Every Breath You Take\",\"Wannabe\",\"Under Pressure\",\"Bleeding Love\"],\"legendgroup\":\"UK\",\"marker\":{\"color\":\"#EF553B\",\"symbol\":\"circle\",\"size\":10},\"mode\":\"markers\",\"name\":\"UK\",\"orientation\":\"v\",\"showlegend\":true,\"x\":[363,345,338,338,334,318,313,306,283,282],\"xaxis\":\"x\",\"y\":[287.1118367,221.0075417,309.2549792,209.5833107,266.1466667,354.0,228.345034,175.078458,233.6653061,260.8297708],\"yaxis\":\"y\",\"type\":\"scatter\"},{\"hovertemplate\":\"<b>%{hovertext}</b><br><br>Origin=Canada<br>Score=%{x}<br>Length (s)=%{y}<extra></extra>\",\"hovertext\":[\"Sorry\",\"As Long As You Love Me\",\"Bad Day\"],\"legendgroup\":\"Canada\",\"marker\":{\"color\":\"#00cc96\",\"symbol\":\"circle\",\"size\":10},\"mode\":\"markers\",\"name\":\"Canada\",\"orientation\":\"v\",\"showlegend\":true,\"x\":[320,287,281],\"xaxis\":\"x\",\"y\":[199.3549375,229.9820417,233.7552834],\"yaxis\":\"y\",\"type\":\"scatter\"},{\"hovertemplate\":\"<b>%{hovertext}</b><br><br>Origin=Jamaica<br>Score=%{x}<br>Length (s)=%{y}<extra></extra>\",\"hovertext\":[\"Livin' On A Prayer\"],\"legendgroup\":\"Jamaica\",\"marker\":{\"color\":\"#ab63fa\",\"symbol\":\"circle\",\"size\":10},\"mode\":\"markers\",\"name\":\"Jamaica\",\"orientation\":\"v\",\"showlegend\":true,\"x\":[304],\"xaxis\":\"x\",\"y\":[249.359093],\"yaxis\":\"y\",\"type\":\"scatter\"}],                        {\"template\":{\"data\":{\"histogram2dcontour\":[{\"type\":\"histogram2dcontour\",\"colorbar\":{\"outlinewidth\":0,\"ticks\":\"\"},\"colorscale\":[[0.0,\"#0d0887\"],[0.1111111111111111,\"#46039f\"],[0.2222222222222222,\"#7201a8\"],[0.3333333333333333,\"#9c179e\"],[0.4444444444444444,\"#bd3786\"],[0.5555555555555556,\"#d8576b\"],[0.6666666666666666,\"#ed7953\"],[0.7777777777777778,\"#fb9f3a\"],[0.8888888888888888,\"#fdca26\"],[1.0,\"#f0f921\"]]}],\"choropleth\":[{\"type\":\"choropleth\",\"colorbar\":{\"outlinewidth\":0,\"ticks\":\"\"}}],\"histogram2d\":[{\"type\":\"histogram2d\",\"colorbar\":{\"outlinewidth\":0,\"ticks\":\"\"},\"colorscale\":[[0.0,\"#0d0887\"],[0.1111111111111111,\"#46039f\"],[0.2222222222222222,\"#7201a8\"],[0.3333333333333333,\"#9c179e\"],[0.4444444444444444,\"#bd3786\"],[0.5555555555555556,\"#d8576b\"],[0.6666666666666666,\"#ed7953\"],[0.7777777777777778,\"#fb9f3a\"],[0.8888888888888888,\"#fdca26\"],[1.0,\"#f0f921\"]]}],\"heatmap\":[{\"type\":\"heatmap\",\"colorbar\":{\"outlinewidth\":0,\"ticks\":\"\"},\"colorscale\":[[0.0,\"#0d0887\"],[0.1111111111111111,\"#46039f\"],[0.2222222222222222,\"#7201a8\"],[0.3333333333333333,\"#9c179e\"],[0.4444444444444444,\"#bd3786\"],[0.5555555555555556,\"#d8576b\"],[0.6666666666666666,\"#ed7953\"],[0.7777777777777778,\"#fb9f3a\"],[0.8888888888888888,\"#fdca26\"],[1.0,\"#f0f921\"]]}],\"heatmapgl\":[{\"type\":\"heatmapgl\",\"colorbar\":{\"outlinewidth\":0,\"ticks\":\"\"},\"colorscale\":[[0.0,\"#0d0887\"],[0.1111111111111111,\"#46039f\"],[0.2222222222222222,\"#7201a8\"],[0.3333333333333333,\"#9c179e\"],[0.4444444444444444,\"#bd3786\"],[0.5555555555555556,\"#d8576b\"],[0.6666666666666666,\"#ed7953\"],[0.7777777777777778,\"#fb9f3a\"],[0.8888888888888888,\"#fdca26\"],[1.0,\"#f0f921\"]]}],\"contourcarpet\":[{\"type\":\"contourcarpet\",\"colorbar\":{\"outlinewidth\":0,\"ticks\":\"\"}}],\"contour\":[{\"type\":\"contour\",\"colorbar\":{\"outlinewidth\":0,\"ticks\":\"\"},\"colorscale\":[[0.0,\"#0d0887\"],[0.1111111111111111,\"#46039f\"],[0.2222222222222222,\"#7201a8\"],[0.3333333333333333,\"#9c179e\"],[0.4444444444444444,\"#bd3786\"],[0.5555555555555556,\"#d8576b\"],[0.6666666666666666,\"#ed7953\"],[0.7777777777777778,\"#fb9f3a\"],[0.8888888888888888,\"#fdca26\"],[1.0,\"#f0f921\"]]}],\"surface\":[{\"type\":\"surface\",\"colorbar\":{\"outlinewidth\":0,\"ticks\":\"\"},\"colorscale\":[[0.0,\"#0d0887\"],[0.1111111111111111,\"#46039f\"],[0.2222222222222222,\"#7201a8\"],[0.3333333333333333,\"#9c179e\"],[0.4444444444444444,\"#bd3786\"],[0.5555555555555556,\"#d8576b\"],[0.6666666666666666,\"#ed7953\"],[0.7777777777777778,\"#fb9f3a\"],[0.8888888888888888,\"#fdca26\"],[1.0,\"#f0f921\"]]}],\"mesh3d\":[{\"type\":\"mesh3d\",\"colorbar\":{\"outlinewidth\":0,\"ticks\":\"\"}}],\"scatter\":[{\"fillpattern\":{\"fillmode\":\"overlay\",\"size\":10,\"solidity\":0.2},\"type\":\"scatter\"}],\"parcoords\":[{\"type\":\"parcoords\",\"line\":{\"colorbar\":{\"outlinewidth\":0,\"ticks\":\"\"}}}],\"scatterpolargl\":[{\"type\":\"scatterpolargl\",\"marker\":{\"colorbar\":{\"outlinewidth\":0,\"ticks\":\"\"}}}],\"bar\":[{\"error_x\":{\"color\":\"#2a3f5f\"},\"error_y\":{\"color\":\"#2a3f5f\"},\"marker\":{\"line\":{\"color\":\"#E5ECF6\",\"width\":0.5},\"pattern\":{\"fillmode\":\"overlay\",\"size\":10,\"solidity\":0.2}},\"type\":\"bar\"}],\"scattergeo\":[{\"type\":\"scattergeo\",\"marker\":{\"colorbar\":{\"outlinewidth\":0,\"ticks\":\"\"}}}],\"scatterpolar\":[{\"type\":\"scatterpolar\",\"marker\":{\"colorbar\":{\"outlinewidth\":0,\"ticks\":\"\"}}}],\"histogram\":[{\"marker\":{\"pattern\":{\"fillmode\":\"overlay\",\"size\":10,\"solidity\":0.2}},\"type\":\"histogram\"}],\"scattergl\":[{\"type\":\"scattergl\",\"marker\":{\"colorbar\":{\"outlinewidth\":0,\"ticks\":\"\"}}}],\"scatter3d\":[{\"type\":\"scatter3d\",\"line\":{\"colorbar\":{\"outlinewidth\":0,\"ticks\":\"\"}},\"marker\":{\"colorbar\":{\"outlinewidth\":0,\"ticks\":\"\"}}}],\"scattermapbox\":[{\"type\":\"scattermapbox\",\"marker\":{\"colorbar\":{\"outlinewidth\":0,\"ticks\":\"\"}}}],\"scatterternary\":[{\"type\":\"scatterternary\",\"marker\":{\"colorbar\":{\"outlinewidth\":0,\"ticks\":\"\"}}}],\"scattercarpet\":[{\"type\":\"scattercarpet\",\"marker\":{\"colorbar\":{\"outlinewidth\":0,\"ticks\":\"\"}}}],\"carpet\":[{\"aaxis\":{\"endlinecolor\":\"#2a3f5f\",\"gridcolor\":\"white\",\"linecolor\":\"white\",\"minorgridcolor\":\"white\",\"startlinecolor\":\"#2a3f5f\"},\"baxis\":{\"endlinecolor\":\"#2a3f5f\",\"gridcolor\":\"white\",\"linecolor\":\"white\",\"minorgridcolor\":\"white\",\"startlinecolor\":\"#2a3f5f\"},\"type\":\"carpet\"}],\"table\":[{\"cells\":{\"fill\":{\"color\":\"#EBF0F8\"},\"line\":{\"color\":\"white\"}},\"header\":{\"fill\":{\"color\":\"#C8D4E3\"},\"line\":{\"color\":\"white\"}},\"type\":\"table\"}],\"barpolar\":[{\"marker\":{\"line\":{\"color\":\"#E5ECF6\",\"width\":0.5},\"pattern\":{\"fillmode\":\"overlay\",\"size\":10,\"solidity\":0.2}},\"type\":\"barpolar\"}],\"pie\":[{\"automargin\":true,\"type\":\"pie\"}]},\"layout\":{\"autotypenumbers\":\"strict\",\"colorway\":[\"#636efa\",\"#EF553B\",\"#00cc96\",\"#ab63fa\",\"#FFA15A\",\"#19d3f3\",\"#FF6692\",\"#B6E880\",\"#FF97FF\",\"#FECB52\"],\"font\":{\"color\":\"#2a3f5f\"},\"hovermode\":\"closest\",\"hoverlabel\":{\"align\":\"left\"},\"paper_bgcolor\":\"white\",\"plot_bgcolor\":\"#E5ECF6\",\"polar\":{\"bgcolor\":\"#E5ECF6\",\"angularaxis\":{\"gridcolor\":\"white\",\"linecolor\":\"white\",\"ticks\":\"\"},\"radialaxis\":{\"gridcolor\":\"white\",\"linecolor\":\"white\",\"ticks\":\"\"}},\"ternary\":{\"bgcolor\":\"#E5ECF6\",\"aaxis\":{\"gridcolor\":\"white\",\"linecolor\":\"white\",\"ticks\":\"\"},\"baxis\":{\"gridcolor\":\"white\",\"linecolor\":\"white\",\"ticks\":\"\"},\"caxis\":{\"gridcolor\":\"white\",\"linecolor\":\"white\",\"ticks\":\"\"}},\"coloraxis\":{\"colorbar\":{\"outlinewidth\":0,\"ticks\":\"\"}},\"colorscale\":{\"sequential\":[[0.0,\"#0d0887\"],[0.1111111111111111,\"#46039f\"],[0.2222222222222222,\"#7201a8\"],[0.3333333333333333,\"#9c179e\"],[0.4444444444444444,\"#bd3786\"],[0.5555555555555556,\"#d8576b\"],[0.6666666666666666,\"#ed7953\"],[0.7777777777777778,\"#fb9f3a\"],[0.8888888888888888,\"#fdca26\"],[1.0,\"#f0f921\"]],\"sequentialminus\":[[0.0,\"#0d0887\"],[0.1111111111111111,\"#46039f\"],[0.2222222222222222,\"#7201a8\"],[0.3333333333333333,\"#9c179e\"],[0.4444444444444444,\"#bd3786\"],[0.5555555555555556,\"#d8576b\"],[0.6666666666666666,\"#ed7953\"],[0.7777777777777778,\"#fb9f3a\"],[0.8888888888888888,\"#fdca26\"],[1.0,\"#f0f921\"]],\"diverging\":[[0,\"#8e0152\"],[0.1,\"#c51b7d\"],[0.2,\"#de77ae\"],[0.3,\"#f1b6da\"],[0.4,\"#fde0ef\"],[0.5,\"#f7f7f7\"],[0.6,\"#e6f5d0\"],[0.7,\"#b8e186\"],[0.8,\"#7fbc41\"],[0.9,\"#4d9221\"],[1,\"#276419\"]]},\"xaxis\":{\"gridcolor\":\"white\",\"linecolor\":\"white\",\"ticks\":\"\",\"title\":{\"standoff\":15},\"zerolinecolor\":\"white\",\"automargin\":true,\"zerolinewidth\":2},\"yaxis\":{\"gridcolor\":\"white\",\"linecolor\":\"white\",\"ticks\":\"\",\"title\":{\"standoff\":15},\"zerolinecolor\":\"white\",\"automargin\":true,\"zerolinewidth\":2},\"scene\":{\"xaxis\":{\"backgroundcolor\":\"#E5ECF6\",\"gridcolor\":\"white\",\"linecolor\":\"white\",\"showbackground\":true,\"ticks\":\"\",\"zerolinecolor\":\"white\",\"gridwidth\":2},\"yaxis\":{\"backgroundcolor\":\"#E5ECF6\",\"gridcolor\":\"white\",\"linecolor\":\"white\",\"showbackground\":true,\"ticks\":\"\",\"zerolinecolor\":\"white\",\"gridwidth\":2},\"zaxis\":{\"backgroundcolor\":\"#E5ECF6\",\"gridcolor\":\"white\",\"linecolor\":\"white\",\"showbackground\":true,\"ticks\":\"\",\"zerolinecolor\":\"white\",\"gridwidth\":2}},\"shapedefaults\":{\"line\":{\"color\":\"#2a3f5f\"}},\"annotationdefaults\":{\"arrowcolor\":\"#2a3f5f\",\"arrowhead\":0,\"arrowwidth\":1},\"geo\":{\"bgcolor\":\"white\",\"landcolor\":\"#E5ECF6\",\"subunitcolor\":\"white\",\"showland\":true,\"showlakes\":true,\"lakecolor\":\"white\"},\"title\":{\"x\":0.05},\"mapbox\":{\"style\":\"light\"}}},\"xaxis\":{\"anchor\":\"y\",\"domain\":[0.0,1.0],\"title\":{\"text\":\"Score\"}},\"yaxis\":{\"anchor\":\"x\",\"domain\":[0.0,1.0],\"title\":{\"text\":\"Length (s)\"}},\"legend\":{\"title\":{\"text\":\"Origin\"},\"tracegroupgap\":0},\"margin\":{\"t\":60}},                        {\"responsive\": true}                    ).then(function(){\n",
       "                            \n",
       "var gd = document.getElementById('582f7928-3fcc-4ac3-a302-33e77c2e4a69');\n",
       "var x = new MutationObserver(function (mutations, observer) {{\n",
       "        var display = window.getComputedStyle(gd).display;\n",
       "        if (!display || display === 'none') {{\n",
       "            console.log([gd, 'removed!']);\n",
       "            Plotly.purge(gd);\n",
       "            observer.disconnect();\n",
       "        }}\n",
       "}});\n",
       "\n",
       "// Listen for the removal of the full notebook cells\n",
       "var notebookContainer = gd.closest('#notebook-container');\n",
       "if (notebookContainer) {{\n",
       "    x.observe(notebookContainer, {childList: true});\n",
       "}}\n",
       "\n",
       "// Listen for the clearing of the current output cell\n",
       "var outputEl = gd.closest('.output');\n",
       "if (outputEl) {{\n",
       "    x.observe(outputEl, {childList: true});\n",
       "}}\n",
       "\n",
       "                        })                };                });            </script>        </div>"
      ]
     },
     "metadata": {},
     "output_type": "display_data"
    }
   ],
   "source": [
    "fig = px.scatter(karaoke_data, x=\"Score\", y=\"Length\" , color='Origin', hover_name = 'Title',\n",
    "                 labels={'Length':'Length (s)'} )\n",
    "fig.update_traces( marker=dict( size=10),\n",
    "    selector=dict(mode=\"markers\"),)\n",
    "fig.show()\n",
    "\n",
    "fig.write_html(\"length_vs_score.html\")"
   ]
  },
  {
   "cell_type": "code",
   "execution_count": 25,
   "id": "21681089",
   "metadata": {},
   "outputs": [
    {
     "data": {
      "application/vnd.plotly.v1+json": {
       "config": {
        "plotlyServerURL": "https://plot.ly"
       },
       "data": [
        {
         "alignmentgroup": "True",
         "bingroup": "x",
         "hovertemplate": "Top=10<br>Year=%{x}<br>count=%{y}<extra></extra>",
         "legendgroup": "10",
         "marker": {
          "color": "#636efa",
          "pattern": {
           "shape": ""
          }
         },
         "name": "10",
         "nbinsx": 25,
         "offsetgroup": "10",
         "orientation": "v",
         "showlegend": true,
         "type": "histogram",
         "x": [
          1977,
          2011,
          1971,
          2006,
          2018,
          2018,
          1991,
          1981,
          1967,
          1961
         ],
         "xaxis": "x",
         "yaxis": "y"
        },
        {
         "alignmentgroup": "True",
         "bingroup": "x",
         "hovertemplate": "Top=20<br>Year=%{x}<br>count=%{y}<extra></extra>",
         "legendgroup": "20",
         "marker": {
          "color": "#EF553B",
          "pattern": {
           "shape": ""
          }
         },
         "name": "20",
         "nbinsx": 25,
         "offsetgroup": "20",
         "orientation": "v",
         "showlegend": true,
         "type": "histogram",
         "x": [
          2008,
          2006,
          2012,
          2008,
          1992,
          2002,
          1979,
          2010,
          1976,
          2009
         ],
         "xaxis": "x",
         "yaxis": "y"
        },
        {
         "alignmentgroup": "True",
         "bingroup": "x",
         "hovertemplate": "Top=30<br>Year=%{x}<br>count=%{y}<extra></extra>",
         "legendgroup": "30",
         "marker": {
          "color": "#00cc96",
          "pattern": {
           "shape": ""
          }
         },
         "name": "30",
         "nbinsx": 25,
         "offsetgroup": "30",
         "orientation": "v",
         "showlegend": true,
         "type": "histogram",
         "x": [
          1968,
          1971,
          2010,
          2004,
          2015,
          2004,
          2004,
          1975,
          1998,
          1983
         ],
         "xaxis": "x",
         "yaxis": "y"
        },
        {
         "alignmentgroup": "True",
         "bingroup": "x",
         "hovertemplate": "Top=40<br>Year=%{x}<br>count=%{y}<extra></extra>",
         "legendgroup": "40",
         "marker": {
          "color": "#ab63fa",
          "pattern": {
           "shape": ""
          }
         },
         "name": "40",
         "nbinsx": 25,
         "offsetgroup": "40",
         "orientation": "v",
         "showlegend": true,
         "type": "histogram",
         "x": [
          2008,
          2014,
          1996,
          1986,
          2007,
          2010,
          1985,
          1999,
          2013,
          1999
         ],
         "xaxis": "x",
         "yaxis": "y"
        },
        {
         "alignmentgroup": "True",
         "bingroup": "x",
         "hovertemplate": "Top=50<br>Year=%{x}<br>count=%{y}<extra></extra>",
         "legendgroup": "50",
         "marker": {
          "color": "#FFA15A",
          "pattern": {
           "shape": ""
          }
         },
         "name": "50",
         "nbinsx": 25,
         "offsetgroup": "50",
         "orientation": "v",
         "showlegend": true,
         "type": "histogram",
         "x": [
          1967,
          2004,
          2012,
          1982,
          1999,
          1981,
          2007,
          2008,
          2005,
          2007
         ],
         "xaxis": "x",
         "yaxis": "y"
        }
       ],
       "layout": {
        "barmode": "relative",
        "legend": {
         "title": {
          "text": "Top"
         },
         "tracegroupgap": 0
        },
        "template": {
         "data": {
          "bar": [
           {
            "error_x": {
             "color": "#2a3f5f"
            },
            "error_y": {
             "color": "#2a3f5f"
            },
            "marker": {
             "line": {
              "color": "#E5ECF6",
              "width": 0.5
             },
             "pattern": {
              "fillmode": "overlay",
              "size": 10,
              "solidity": 0.2
             }
            },
            "type": "bar"
           }
          ],
          "barpolar": [
           {
            "marker": {
             "line": {
              "color": "#E5ECF6",
              "width": 0.5
             },
             "pattern": {
              "fillmode": "overlay",
              "size": 10,
              "solidity": 0.2
             }
            },
            "type": "barpolar"
           }
          ],
          "carpet": [
           {
            "aaxis": {
             "endlinecolor": "#2a3f5f",
             "gridcolor": "white",
             "linecolor": "white",
             "minorgridcolor": "white",
             "startlinecolor": "#2a3f5f"
            },
            "baxis": {
             "endlinecolor": "#2a3f5f",
             "gridcolor": "white",
             "linecolor": "white",
             "minorgridcolor": "white",
             "startlinecolor": "#2a3f5f"
            },
            "type": "carpet"
           }
          ],
          "choropleth": [
           {
            "colorbar": {
             "outlinewidth": 0,
             "ticks": ""
            },
            "type": "choropleth"
           }
          ],
          "contour": [
           {
            "colorbar": {
             "outlinewidth": 0,
             "ticks": ""
            },
            "colorscale": [
             [
              0,
              "#0d0887"
             ],
             [
              0.1111111111111111,
              "#46039f"
             ],
             [
              0.2222222222222222,
              "#7201a8"
             ],
             [
              0.3333333333333333,
              "#9c179e"
             ],
             [
              0.4444444444444444,
              "#bd3786"
             ],
             [
              0.5555555555555556,
              "#d8576b"
             ],
             [
              0.6666666666666666,
              "#ed7953"
             ],
             [
              0.7777777777777778,
              "#fb9f3a"
             ],
             [
              0.8888888888888888,
              "#fdca26"
             ],
             [
              1,
              "#f0f921"
             ]
            ],
            "type": "contour"
           }
          ],
          "contourcarpet": [
           {
            "colorbar": {
             "outlinewidth": 0,
             "ticks": ""
            },
            "type": "contourcarpet"
           }
          ],
          "heatmap": [
           {
            "colorbar": {
             "outlinewidth": 0,
             "ticks": ""
            },
            "colorscale": [
             [
              0,
              "#0d0887"
             ],
             [
              0.1111111111111111,
              "#46039f"
             ],
             [
              0.2222222222222222,
              "#7201a8"
             ],
             [
              0.3333333333333333,
              "#9c179e"
             ],
             [
              0.4444444444444444,
              "#bd3786"
             ],
             [
              0.5555555555555556,
              "#d8576b"
             ],
             [
              0.6666666666666666,
              "#ed7953"
             ],
             [
              0.7777777777777778,
              "#fb9f3a"
             ],
             [
              0.8888888888888888,
              "#fdca26"
             ],
             [
              1,
              "#f0f921"
             ]
            ],
            "type": "heatmap"
           }
          ],
          "heatmapgl": [
           {
            "colorbar": {
             "outlinewidth": 0,
             "ticks": ""
            },
            "colorscale": [
             [
              0,
              "#0d0887"
             ],
             [
              0.1111111111111111,
              "#46039f"
             ],
             [
              0.2222222222222222,
              "#7201a8"
             ],
             [
              0.3333333333333333,
              "#9c179e"
             ],
             [
              0.4444444444444444,
              "#bd3786"
             ],
             [
              0.5555555555555556,
              "#d8576b"
             ],
             [
              0.6666666666666666,
              "#ed7953"
             ],
             [
              0.7777777777777778,
              "#fb9f3a"
             ],
             [
              0.8888888888888888,
              "#fdca26"
             ],
             [
              1,
              "#f0f921"
             ]
            ],
            "type": "heatmapgl"
           }
          ],
          "histogram": [
           {
            "marker": {
             "pattern": {
              "fillmode": "overlay",
              "size": 10,
              "solidity": 0.2
             }
            },
            "type": "histogram"
           }
          ],
          "histogram2d": [
           {
            "colorbar": {
             "outlinewidth": 0,
             "ticks": ""
            },
            "colorscale": [
             [
              0,
              "#0d0887"
             ],
             [
              0.1111111111111111,
              "#46039f"
             ],
             [
              0.2222222222222222,
              "#7201a8"
             ],
             [
              0.3333333333333333,
              "#9c179e"
             ],
             [
              0.4444444444444444,
              "#bd3786"
             ],
             [
              0.5555555555555556,
              "#d8576b"
             ],
             [
              0.6666666666666666,
              "#ed7953"
             ],
             [
              0.7777777777777778,
              "#fb9f3a"
             ],
             [
              0.8888888888888888,
              "#fdca26"
             ],
             [
              1,
              "#f0f921"
             ]
            ],
            "type": "histogram2d"
           }
          ],
          "histogram2dcontour": [
           {
            "colorbar": {
             "outlinewidth": 0,
             "ticks": ""
            },
            "colorscale": [
             [
              0,
              "#0d0887"
             ],
             [
              0.1111111111111111,
              "#46039f"
             ],
             [
              0.2222222222222222,
              "#7201a8"
             ],
             [
              0.3333333333333333,
              "#9c179e"
             ],
             [
              0.4444444444444444,
              "#bd3786"
             ],
             [
              0.5555555555555556,
              "#d8576b"
             ],
             [
              0.6666666666666666,
              "#ed7953"
             ],
             [
              0.7777777777777778,
              "#fb9f3a"
             ],
             [
              0.8888888888888888,
              "#fdca26"
             ],
             [
              1,
              "#f0f921"
             ]
            ],
            "type": "histogram2dcontour"
           }
          ],
          "mesh3d": [
           {
            "colorbar": {
             "outlinewidth": 0,
             "ticks": ""
            },
            "type": "mesh3d"
           }
          ],
          "parcoords": [
           {
            "line": {
             "colorbar": {
              "outlinewidth": 0,
              "ticks": ""
             }
            },
            "type": "parcoords"
           }
          ],
          "pie": [
           {
            "automargin": true,
            "type": "pie"
           }
          ],
          "scatter": [
           {
            "fillpattern": {
             "fillmode": "overlay",
             "size": 10,
             "solidity": 0.2
            },
            "type": "scatter"
           }
          ],
          "scatter3d": [
           {
            "line": {
             "colorbar": {
              "outlinewidth": 0,
              "ticks": ""
             }
            },
            "marker": {
             "colorbar": {
              "outlinewidth": 0,
              "ticks": ""
             }
            },
            "type": "scatter3d"
           }
          ],
          "scattercarpet": [
           {
            "marker": {
             "colorbar": {
              "outlinewidth": 0,
              "ticks": ""
             }
            },
            "type": "scattercarpet"
           }
          ],
          "scattergeo": [
           {
            "marker": {
             "colorbar": {
              "outlinewidth": 0,
              "ticks": ""
             }
            },
            "type": "scattergeo"
           }
          ],
          "scattergl": [
           {
            "marker": {
             "colorbar": {
              "outlinewidth": 0,
              "ticks": ""
             }
            },
            "type": "scattergl"
           }
          ],
          "scattermapbox": [
           {
            "marker": {
             "colorbar": {
              "outlinewidth": 0,
              "ticks": ""
             }
            },
            "type": "scattermapbox"
           }
          ],
          "scatterpolar": [
           {
            "marker": {
             "colorbar": {
              "outlinewidth": 0,
              "ticks": ""
             }
            },
            "type": "scatterpolar"
           }
          ],
          "scatterpolargl": [
           {
            "marker": {
             "colorbar": {
              "outlinewidth": 0,
              "ticks": ""
             }
            },
            "type": "scatterpolargl"
           }
          ],
          "scatterternary": [
           {
            "marker": {
             "colorbar": {
              "outlinewidth": 0,
              "ticks": ""
             }
            },
            "type": "scatterternary"
           }
          ],
          "surface": [
           {
            "colorbar": {
             "outlinewidth": 0,
             "ticks": ""
            },
            "colorscale": [
             [
              0,
              "#0d0887"
             ],
             [
              0.1111111111111111,
              "#46039f"
             ],
             [
              0.2222222222222222,
              "#7201a8"
             ],
             [
              0.3333333333333333,
              "#9c179e"
             ],
             [
              0.4444444444444444,
              "#bd3786"
             ],
             [
              0.5555555555555556,
              "#d8576b"
             ],
             [
              0.6666666666666666,
              "#ed7953"
             ],
             [
              0.7777777777777778,
              "#fb9f3a"
             ],
             [
              0.8888888888888888,
              "#fdca26"
             ],
             [
              1,
              "#f0f921"
             ]
            ],
            "type": "surface"
           }
          ],
          "table": [
           {
            "cells": {
             "fill": {
              "color": "#EBF0F8"
             },
             "line": {
              "color": "white"
             }
            },
            "header": {
             "fill": {
              "color": "#C8D4E3"
             },
             "line": {
              "color": "white"
             }
            },
            "type": "table"
           }
          ]
         },
         "layout": {
          "annotationdefaults": {
           "arrowcolor": "#2a3f5f",
           "arrowhead": 0,
           "arrowwidth": 1
          },
          "autotypenumbers": "strict",
          "coloraxis": {
           "colorbar": {
            "outlinewidth": 0,
            "ticks": ""
           }
          },
          "colorscale": {
           "diverging": [
            [
             0,
             "#8e0152"
            ],
            [
             0.1,
             "#c51b7d"
            ],
            [
             0.2,
             "#de77ae"
            ],
            [
             0.3,
             "#f1b6da"
            ],
            [
             0.4,
             "#fde0ef"
            ],
            [
             0.5,
             "#f7f7f7"
            ],
            [
             0.6,
             "#e6f5d0"
            ],
            [
             0.7,
             "#b8e186"
            ],
            [
             0.8,
             "#7fbc41"
            ],
            [
             0.9,
             "#4d9221"
            ],
            [
             1,
             "#276419"
            ]
           ],
           "sequential": [
            [
             0,
             "#0d0887"
            ],
            [
             0.1111111111111111,
             "#46039f"
            ],
            [
             0.2222222222222222,
             "#7201a8"
            ],
            [
             0.3333333333333333,
             "#9c179e"
            ],
            [
             0.4444444444444444,
             "#bd3786"
            ],
            [
             0.5555555555555556,
             "#d8576b"
            ],
            [
             0.6666666666666666,
             "#ed7953"
            ],
            [
             0.7777777777777778,
             "#fb9f3a"
            ],
            [
             0.8888888888888888,
             "#fdca26"
            ],
            [
             1,
             "#f0f921"
            ]
           ],
           "sequentialminus": [
            [
             0,
             "#0d0887"
            ],
            [
             0.1111111111111111,
             "#46039f"
            ],
            [
             0.2222222222222222,
             "#7201a8"
            ],
            [
             0.3333333333333333,
             "#9c179e"
            ],
            [
             0.4444444444444444,
             "#bd3786"
            ],
            [
             0.5555555555555556,
             "#d8576b"
            ],
            [
             0.6666666666666666,
             "#ed7953"
            ],
            [
             0.7777777777777778,
             "#fb9f3a"
            ],
            [
             0.8888888888888888,
             "#fdca26"
            ],
            [
             1,
             "#f0f921"
            ]
           ]
          },
          "colorway": [
           "#636efa",
           "#EF553B",
           "#00cc96",
           "#ab63fa",
           "#FFA15A",
           "#19d3f3",
           "#FF6692",
           "#B6E880",
           "#FF97FF",
           "#FECB52"
          ],
          "font": {
           "color": "#2a3f5f"
          },
          "geo": {
           "bgcolor": "white",
           "lakecolor": "white",
           "landcolor": "#E5ECF6",
           "showlakes": true,
           "showland": true,
           "subunitcolor": "white"
          },
          "hoverlabel": {
           "align": "left"
          },
          "hovermode": "closest",
          "mapbox": {
           "style": "light"
          },
          "paper_bgcolor": "white",
          "plot_bgcolor": "#E5ECF6",
          "polar": {
           "angularaxis": {
            "gridcolor": "white",
            "linecolor": "white",
            "ticks": ""
           },
           "bgcolor": "#E5ECF6",
           "radialaxis": {
            "gridcolor": "white",
            "linecolor": "white",
            "ticks": ""
           }
          },
          "scene": {
           "xaxis": {
            "backgroundcolor": "#E5ECF6",
            "gridcolor": "white",
            "gridwidth": 2,
            "linecolor": "white",
            "showbackground": true,
            "ticks": "",
            "zerolinecolor": "white"
           },
           "yaxis": {
            "backgroundcolor": "#E5ECF6",
            "gridcolor": "white",
            "gridwidth": 2,
            "linecolor": "white",
            "showbackground": true,
            "ticks": "",
            "zerolinecolor": "white"
           },
           "zaxis": {
            "backgroundcolor": "#E5ECF6",
            "gridcolor": "white",
            "gridwidth": 2,
            "linecolor": "white",
            "showbackground": true,
            "ticks": "",
            "zerolinecolor": "white"
           }
          },
          "shapedefaults": {
           "line": {
            "color": "#2a3f5f"
           }
          },
          "ternary": {
           "aaxis": {
            "gridcolor": "white",
            "linecolor": "white",
            "ticks": ""
           },
           "baxis": {
            "gridcolor": "white",
            "linecolor": "white",
            "ticks": ""
           },
           "bgcolor": "#E5ECF6",
           "caxis": {
            "gridcolor": "white",
            "linecolor": "white",
            "ticks": ""
           }
          },
          "title": {
           "x": 0.05
          },
          "xaxis": {
           "automargin": true,
           "gridcolor": "white",
           "linecolor": "white",
           "ticks": "",
           "title": {
            "standoff": 15
           },
           "zerolinecolor": "white",
           "zerolinewidth": 2
          },
          "yaxis": {
           "automargin": true,
           "gridcolor": "white",
           "linecolor": "white",
           "ticks": "",
           "title": {
            "standoff": 15
           },
           "zerolinecolor": "white",
           "zerolinewidth": 2
          }
         }
        },
        "title": {
         "text": "Histogram of Years"
        },
        "xaxis": {
         "anchor": "y",
         "domain": [
          0,
          1
         ],
         "title": {
          "text": "Year"
         }
        },
        "yaxis": {
         "anchor": "x",
         "domain": [
          0,
          1
         ],
         "title": {
          "text": "count"
         }
        }
       }
      },
      "text/html": [
       "<div>                            <div id=\"ab601878-85e0-4683-902a-fe0c15b033dd\" class=\"plotly-graph-div\" style=\"height:525px; width:100%;\"></div>            <script type=\"text/javascript\">                require([\"plotly\"], function(Plotly) {                    window.PLOTLYENV=window.PLOTLYENV || {};                                    if (document.getElementById(\"ab601878-85e0-4683-902a-fe0c15b033dd\")) {                    Plotly.newPlot(                        \"ab601878-85e0-4683-902a-fe0c15b033dd\",                        [{\"alignmentgroup\":\"True\",\"bingroup\":\"x\",\"hovertemplate\":\"Top=10<br>Year=%{x}<br>count=%{y}<extra></extra>\",\"legendgroup\":\"10\",\"marker\":{\"color\":\"#636efa\",\"pattern\":{\"shape\":\"\"}},\"name\":\"10\",\"nbinsx\":25,\"offsetgroup\":\"10\",\"orientation\":\"v\",\"showlegend\":true,\"x\":[1977,2011,1971,2006,2018,2018,1991,1981,1967,1961],\"xaxis\":\"x\",\"yaxis\":\"y\",\"type\":\"histogram\"},{\"alignmentgroup\":\"True\",\"bingroup\":\"x\",\"hovertemplate\":\"Top=20<br>Year=%{x}<br>count=%{y}<extra></extra>\",\"legendgroup\":\"20\",\"marker\":{\"color\":\"#EF553B\",\"pattern\":{\"shape\":\"\"}},\"name\":\"20\",\"nbinsx\":25,\"offsetgroup\":\"20\",\"orientation\":\"v\",\"showlegend\":true,\"x\":[2008,2006,2012,2008,1992,2002,1979,2010,1976,2009],\"xaxis\":\"x\",\"yaxis\":\"y\",\"type\":\"histogram\"},{\"alignmentgroup\":\"True\",\"bingroup\":\"x\",\"hovertemplate\":\"Top=30<br>Year=%{x}<br>count=%{y}<extra></extra>\",\"legendgroup\":\"30\",\"marker\":{\"color\":\"#00cc96\",\"pattern\":{\"shape\":\"\"}},\"name\":\"30\",\"nbinsx\":25,\"offsetgroup\":\"30\",\"orientation\":\"v\",\"showlegend\":true,\"x\":[1968,1971,2010,2004,2015,2004,2004,1975,1998,1983],\"xaxis\":\"x\",\"yaxis\":\"y\",\"type\":\"histogram\"},{\"alignmentgroup\":\"True\",\"bingroup\":\"x\",\"hovertemplate\":\"Top=40<br>Year=%{x}<br>count=%{y}<extra></extra>\",\"legendgroup\":\"40\",\"marker\":{\"color\":\"#ab63fa\",\"pattern\":{\"shape\":\"\"}},\"name\":\"40\",\"nbinsx\":25,\"offsetgroup\":\"40\",\"orientation\":\"v\",\"showlegend\":true,\"x\":[2008,2014,1996,1986,2007,2010,1985,1999,2013,1999],\"xaxis\":\"x\",\"yaxis\":\"y\",\"type\":\"histogram\"},{\"alignmentgroup\":\"True\",\"bingroup\":\"x\",\"hovertemplate\":\"Top=50<br>Year=%{x}<br>count=%{y}<extra></extra>\",\"legendgroup\":\"50\",\"marker\":{\"color\":\"#FFA15A\",\"pattern\":{\"shape\":\"\"}},\"name\":\"50\",\"nbinsx\":25,\"offsetgroup\":\"50\",\"orientation\":\"v\",\"showlegend\":true,\"x\":[1967,2004,2012,1982,1999,1981,2007,2008,2005,2007],\"xaxis\":\"x\",\"yaxis\":\"y\",\"type\":\"histogram\"}],                        {\"template\":{\"data\":{\"histogram2dcontour\":[{\"type\":\"histogram2dcontour\",\"colorbar\":{\"outlinewidth\":0,\"ticks\":\"\"},\"colorscale\":[[0.0,\"#0d0887\"],[0.1111111111111111,\"#46039f\"],[0.2222222222222222,\"#7201a8\"],[0.3333333333333333,\"#9c179e\"],[0.4444444444444444,\"#bd3786\"],[0.5555555555555556,\"#d8576b\"],[0.6666666666666666,\"#ed7953\"],[0.7777777777777778,\"#fb9f3a\"],[0.8888888888888888,\"#fdca26\"],[1.0,\"#f0f921\"]]}],\"choropleth\":[{\"type\":\"choropleth\",\"colorbar\":{\"outlinewidth\":0,\"ticks\":\"\"}}],\"histogram2d\":[{\"type\":\"histogram2d\",\"colorbar\":{\"outlinewidth\":0,\"ticks\":\"\"},\"colorscale\":[[0.0,\"#0d0887\"],[0.1111111111111111,\"#46039f\"],[0.2222222222222222,\"#7201a8\"],[0.3333333333333333,\"#9c179e\"],[0.4444444444444444,\"#bd3786\"],[0.5555555555555556,\"#d8576b\"],[0.6666666666666666,\"#ed7953\"],[0.7777777777777778,\"#fb9f3a\"],[0.8888888888888888,\"#fdca26\"],[1.0,\"#f0f921\"]]}],\"heatmap\":[{\"type\":\"heatmap\",\"colorbar\":{\"outlinewidth\":0,\"ticks\":\"\"},\"colorscale\":[[0.0,\"#0d0887\"],[0.1111111111111111,\"#46039f\"],[0.2222222222222222,\"#7201a8\"],[0.3333333333333333,\"#9c179e\"],[0.4444444444444444,\"#bd3786\"],[0.5555555555555556,\"#d8576b\"],[0.6666666666666666,\"#ed7953\"],[0.7777777777777778,\"#fb9f3a\"],[0.8888888888888888,\"#fdca26\"],[1.0,\"#f0f921\"]]}],\"heatmapgl\":[{\"type\":\"heatmapgl\",\"colorbar\":{\"outlinewidth\":0,\"ticks\":\"\"},\"colorscale\":[[0.0,\"#0d0887\"],[0.1111111111111111,\"#46039f\"],[0.2222222222222222,\"#7201a8\"],[0.3333333333333333,\"#9c179e\"],[0.4444444444444444,\"#bd3786\"],[0.5555555555555556,\"#d8576b\"],[0.6666666666666666,\"#ed7953\"],[0.7777777777777778,\"#fb9f3a\"],[0.8888888888888888,\"#fdca26\"],[1.0,\"#f0f921\"]]}],\"contourcarpet\":[{\"type\":\"contourcarpet\",\"colorbar\":{\"outlinewidth\":0,\"ticks\":\"\"}}],\"contour\":[{\"type\":\"contour\",\"colorbar\":{\"outlinewidth\":0,\"ticks\":\"\"},\"colorscale\":[[0.0,\"#0d0887\"],[0.1111111111111111,\"#46039f\"],[0.2222222222222222,\"#7201a8\"],[0.3333333333333333,\"#9c179e\"],[0.4444444444444444,\"#bd3786\"],[0.5555555555555556,\"#d8576b\"],[0.6666666666666666,\"#ed7953\"],[0.7777777777777778,\"#fb9f3a\"],[0.8888888888888888,\"#fdca26\"],[1.0,\"#f0f921\"]]}],\"surface\":[{\"type\":\"surface\",\"colorbar\":{\"outlinewidth\":0,\"ticks\":\"\"},\"colorscale\":[[0.0,\"#0d0887\"],[0.1111111111111111,\"#46039f\"],[0.2222222222222222,\"#7201a8\"],[0.3333333333333333,\"#9c179e\"],[0.4444444444444444,\"#bd3786\"],[0.5555555555555556,\"#d8576b\"],[0.6666666666666666,\"#ed7953\"],[0.7777777777777778,\"#fb9f3a\"],[0.8888888888888888,\"#fdca26\"],[1.0,\"#f0f921\"]]}],\"mesh3d\":[{\"type\":\"mesh3d\",\"colorbar\":{\"outlinewidth\":0,\"ticks\":\"\"}}],\"scatter\":[{\"fillpattern\":{\"fillmode\":\"overlay\",\"size\":10,\"solidity\":0.2},\"type\":\"scatter\"}],\"parcoords\":[{\"type\":\"parcoords\",\"line\":{\"colorbar\":{\"outlinewidth\":0,\"ticks\":\"\"}}}],\"scatterpolargl\":[{\"type\":\"scatterpolargl\",\"marker\":{\"colorbar\":{\"outlinewidth\":0,\"ticks\":\"\"}}}],\"bar\":[{\"error_x\":{\"color\":\"#2a3f5f\"},\"error_y\":{\"color\":\"#2a3f5f\"},\"marker\":{\"line\":{\"color\":\"#E5ECF6\",\"width\":0.5},\"pattern\":{\"fillmode\":\"overlay\",\"size\":10,\"solidity\":0.2}},\"type\":\"bar\"}],\"scattergeo\":[{\"type\":\"scattergeo\",\"marker\":{\"colorbar\":{\"outlinewidth\":0,\"ticks\":\"\"}}}],\"scatterpolar\":[{\"type\":\"scatterpolar\",\"marker\":{\"colorbar\":{\"outlinewidth\":0,\"ticks\":\"\"}}}],\"histogram\":[{\"marker\":{\"pattern\":{\"fillmode\":\"overlay\",\"size\":10,\"solidity\":0.2}},\"type\":\"histogram\"}],\"scattergl\":[{\"type\":\"scattergl\",\"marker\":{\"colorbar\":{\"outlinewidth\":0,\"ticks\":\"\"}}}],\"scatter3d\":[{\"type\":\"scatter3d\",\"line\":{\"colorbar\":{\"outlinewidth\":0,\"ticks\":\"\"}},\"marker\":{\"colorbar\":{\"outlinewidth\":0,\"ticks\":\"\"}}}],\"scattermapbox\":[{\"type\":\"scattermapbox\",\"marker\":{\"colorbar\":{\"outlinewidth\":0,\"ticks\":\"\"}}}],\"scatterternary\":[{\"type\":\"scatterternary\",\"marker\":{\"colorbar\":{\"outlinewidth\":0,\"ticks\":\"\"}}}],\"scattercarpet\":[{\"type\":\"scattercarpet\",\"marker\":{\"colorbar\":{\"outlinewidth\":0,\"ticks\":\"\"}}}],\"carpet\":[{\"aaxis\":{\"endlinecolor\":\"#2a3f5f\",\"gridcolor\":\"white\",\"linecolor\":\"white\",\"minorgridcolor\":\"white\",\"startlinecolor\":\"#2a3f5f\"},\"baxis\":{\"endlinecolor\":\"#2a3f5f\",\"gridcolor\":\"white\",\"linecolor\":\"white\",\"minorgridcolor\":\"white\",\"startlinecolor\":\"#2a3f5f\"},\"type\":\"carpet\"}],\"table\":[{\"cells\":{\"fill\":{\"color\":\"#EBF0F8\"},\"line\":{\"color\":\"white\"}},\"header\":{\"fill\":{\"color\":\"#C8D4E3\"},\"line\":{\"color\":\"white\"}},\"type\":\"table\"}],\"barpolar\":[{\"marker\":{\"line\":{\"color\":\"#E5ECF6\",\"width\":0.5},\"pattern\":{\"fillmode\":\"overlay\",\"size\":10,\"solidity\":0.2}},\"type\":\"barpolar\"}],\"pie\":[{\"automargin\":true,\"type\":\"pie\"}]},\"layout\":{\"autotypenumbers\":\"strict\",\"colorway\":[\"#636efa\",\"#EF553B\",\"#00cc96\",\"#ab63fa\",\"#FFA15A\",\"#19d3f3\",\"#FF6692\",\"#B6E880\",\"#FF97FF\",\"#FECB52\"],\"font\":{\"color\":\"#2a3f5f\"},\"hovermode\":\"closest\",\"hoverlabel\":{\"align\":\"left\"},\"paper_bgcolor\":\"white\",\"plot_bgcolor\":\"#E5ECF6\",\"polar\":{\"bgcolor\":\"#E5ECF6\",\"angularaxis\":{\"gridcolor\":\"white\",\"linecolor\":\"white\",\"ticks\":\"\"},\"radialaxis\":{\"gridcolor\":\"white\",\"linecolor\":\"white\",\"ticks\":\"\"}},\"ternary\":{\"bgcolor\":\"#E5ECF6\",\"aaxis\":{\"gridcolor\":\"white\",\"linecolor\":\"white\",\"ticks\":\"\"},\"baxis\":{\"gridcolor\":\"white\",\"linecolor\":\"white\",\"ticks\":\"\"},\"caxis\":{\"gridcolor\":\"white\",\"linecolor\":\"white\",\"ticks\":\"\"}},\"coloraxis\":{\"colorbar\":{\"outlinewidth\":0,\"ticks\":\"\"}},\"colorscale\":{\"sequential\":[[0.0,\"#0d0887\"],[0.1111111111111111,\"#46039f\"],[0.2222222222222222,\"#7201a8\"],[0.3333333333333333,\"#9c179e\"],[0.4444444444444444,\"#bd3786\"],[0.5555555555555556,\"#d8576b\"],[0.6666666666666666,\"#ed7953\"],[0.7777777777777778,\"#fb9f3a\"],[0.8888888888888888,\"#fdca26\"],[1.0,\"#f0f921\"]],\"sequentialminus\":[[0.0,\"#0d0887\"],[0.1111111111111111,\"#46039f\"],[0.2222222222222222,\"#7201a8\"],[0.3333333333333333,\"#9c179e\"],[0.4444444444444444,\"#bd3786\"],[0.5555555555555556,\"#d8576b\"],[0.6666666666666666,\"#ed7953\"],[0.7777777777777778,\"#fb9f3a\"],[0.8888888888888888,\"#fdca26\"],[1.0,\"#f0f921\"]],\"diverging\":[[0,\"#8e0152\"],[0.1,\"#c51b7d\"],[0.2,\"#de77ae\"],[0.3,\"#f1b6da\"],[0.4,\"#fde0ef\"],[0.5,\"#f7f7f7\"],[0.6,\"#e6f5d0\"],[0.7,\"#b8e186\"],[0.8,\"#7fbc41\"],[0.9,\"#4d9221\"],[1,\"#276419\"]]},\"xaxis\":{\"gridcolor\":\"white\",\"linecolor\":\"white\",\"ticks\":\"\",\"title\":{\"standoff\":15},\"zerolinecolor\":\"white\",\"automargin\":true,\"zerolinewidth\":2},\"yaxis\":{\"gridcolor\":\"white\",\"linecolor\":\"white\",\"ticks\":\"\",\"title\":{\"standoff\":15},\"zerolinecolor\":\"white\",\"automargin\":true,\"zerolinewidth\":2},\"scene\":{\"xaxis\":{\"backgroundcolor\":\"#E5ECF6\",\"gridcolor\":\"white\",\"linecolor\":\"white\",\"showbackground\":true,\"ticks\":\"\",\"zerolinecolor\":\"white\",\"gridwidth\":2},\"yaxis\":{\"backgroundcolor\":\"#E5ECF6\",\"gridcolor\":\"white\",\"linecolor\":\"white\",\"showbackground\":true,\"ticks\":\"\",\"zerolinecolor\":\"white\",\"gridwidth\":2},\"zaxis\":{\"backgroundcolor\":\"#E5ECF6\",\"gridcolor\":\"white\",\"linecolor\":\"white\",\"showbackground\":true,\"ticks\":\"\",\"zerolinecolor\":\"white\",\"gridwidth\":2}},\"shapedefaults\":{\"line\":{\"color\":\"#2a3f5f\"}},\"annotationdefaults\":{\"arrowcolor\":\"#2a3f5f\",\"arrowhead\":0,\"arrowwidth\":1},\"geo\":{\"bgcolor\":\"white\",\"landcolor\":\"#E5ECF6\",\"subunitcolor\":\"white\",\"showland\":true,\"showlakes\":true,\"lakecolor\":\"white\"},\"title\":{\"x\":0.05},\"mapbox\":{\"style\":\"light\"}}},\"xaxis\":{\"anchor\":\"y\",\"domain\":[0.0,1.0],\"title\":{\"text\":\"Year\"}},\"yaxis\":{\"anchor\":\"x\",\"domain\":[0.0,1.0],\"title\":{\"text\":\"count\"}},\"legend\":{\"title\":{\"text\":\"Top\"},\"tracegroupgap\":0},\"title\":{\"text\":\"Histogram of Years\"},\"barmode\":\"relative\"},                        {\"responsive\": true}                    ).then(function(){\n",
       "                            \n",
       "var gd = document.getElementById('ab601878-85e0-4683-902a-fe0c15b033dd');\n",
       "var x = new MutationObserver(function (mutations, observer) {{\n",
       "        var display = window.getComputedStyle(gd).display;\n",
       "        if (!display || display === 'none') {{\n",
       "            console.log([gd, 'removed!']);\n",
       "            Plotly.purge(gd);\n",
       "            observer.disconnect();\n",
       "        }}\n",
       "}});\n",
       "\n",
       "// Listen for the removal of the full notebook cells\n",
       "var notebookContainer = gd.closest('#notebook-container');\n",
       "if (notebookContainer) {{\n",
       "    x.observe(notebookContainer, {childList: true});\n",
       "}}\n",
       "\n",
       "// Listen for the clearing of the current output cell\n",
       "var outputEl = gd.closest('.output');\n",
       "if (outputEl) {{\n",
       "    x.observe(outputEl, {childList: true});\n",
       "}}\n",
       "\n",
       "                        })                };                });            </script>        </div>"
      ]
     },
     "metadata": {},
     "output_type": "display_data"
    },
    {
     "ename": "ValueError",
     "evalue": "\nImage export using the \"kaleido\" engine requires the kaleido package,\nwhich can be installed using pip:\n    $ pip install -U kaleido\n",
     "output_type": "error",
     "traceback": [
      "\u001b[0;31m---------------------------------------------------------------------------\u001b[0m",
      "\u001b[0;31mValueError\u001b[0m                                Traceback (most recent call last)",
      "Cell \u001b[0;32mIn[25], line 5\u001b[0m\n\u001b[1;32m      2\u001b[0m fig\u001b[38;5;241m.\u001b[39mshow()\n\u001b[1;32m      4\u001b[0m fig\u001b[38;5;241m.\u001b[39mwrite_html(\u001b[38;5;124m\"\u001b[39m\u001b[38;5;124myear_histogram.html\u001b[39m\u001b[38;5;124m\"\u001b[39m)\n\u001b[0;32m----> 5\u001b[0m \u001b[43mfig\u001b[49m\u001b[38;5;241;43m.\u001b[39;49m\u001b[43mwrite_image\u001b[49m\u001b[43m(\u001b[49m\u001b[38;5;124;43m\"\u001b[39;49m\u001b[38;5;124;43myear_histogram.png\u001b[39;49m\u001b[38;5;124;43m\"\u001b[39;49m\u001b[43m)\u001b[49m\n",
      "File \u001b[0;32m~/opt/anaconda3/envs/DSFP/lib/python3.8/site-packages/plotly/basedatatypes.py:3821\u001b[0m, in \u001b[0;36mBaseFigure.write_image\u001b[0;34m(self, *args, **kwargs)\u001b[0m\n\u001b[1;32m   3761\u001b[0m \u001b[38;5;250m\u001b[39m\u001b[38;5;124;03m\"\"\"\u001b[39;00m\n\u001b[1;32m   3762\u001b[0m \u001b[38;5;124;03mConvert a figure to a static image and write it to a file or writeable\u001b[39;00m\n\u001b[1;32m   3763\u001b[0m \u001b[38;5;124;03mobject\u001b[39;00m\n\u001b[0;32m   (...)\u001b[0m\n\u001b[1;32m   3817\u001b[0m \u001b[38;5;124;03mNone\u001b[39;00m\n\u001b[1;32m   3818\u001b[0m \u001b[38;5;124;03m\"\"\"\u001b[39;00m\n\u001b[1;32m   3819\u001b[0m \u001b[38;5;28;01mimport\u001b[39;00m \u001b[38;5;21;01mplotly\u001b[39;00m\u001b[38;5;21;01m.\u001b[39;00m\u001b[38;5;21;01mio\u001b[39;00m \u001b[38;5;28;01mas\u001b[39;00m \u001b[38;5;21;01mpio\u001b[39;00m\n\u001b[0;32m-> 3821\u001b[0m \u001b[38;5;28;01mreturn\u001b[39;00m \u001b[43mpio\u001b[49m\u001b[38;5;241;43m.\u001b[39;49m\u001b[43mwrite_image\u001b[49m\u001b[43m(\u001b[49m\u001b[38;5;28;43mself\u001b[39;49m\u001b[43m,\u001b[49m\u001b[43m \u001b[49m\u001b[38;5;241;43m*\u001b[39;49m\u001b[43margs\u001b[49m\u001b[43m,\u001b[49m\u001b[43m \u001b[49m\u001b[38;5;241;43m*\u001b[39;49m\u001b[38;5;241;43m*\u001b[39;49m\u001b[43mkwargs\u001b[49m\u001b[43m)\u001b[49m\n",
      "File \u001b[0;32m~/opt/anaconda3/envs/DSFP/lib/python3.8/site-packages/plotly/io/_kaleido.py:267\u001b[0m, in \u001b[0;36mwrite_image\u001b[0;34m(fig, file, format, scale, width, height, validate, engine)\u001b[0m\n\u001b[1;32m    251\u001b[0m             \u001b[38;5;28;01mraise\u001b[39;00m \u001b[38;5;167;01mValueError\u001b[39;00m(\n\u001b[1;32m    252\u001b[0m \u001b[38;5;250m                \u001b[39m\u001b[38;5;124;03m\"\"\"\u001b[39;00m\n\u001b[1;32m    253\u001b[0m \u001b[38;5;124;03mCannot infer image type from output path '{file}'.\u001b[39;00m\n\u001b[0;32m   (...)\u001b[0m\n\u001b[1;32m    261\u001b[0m                 )\n\u001b[1;32m    262\u001b[0m             )\n\u001b[1;32m    264\u001b[0m     \u001b[38;5;66;03m# Request image\u001b[39;00m\n\u001b[1;32m    265\u001b[0m     \u001b[38;5;66;03m# -------------\u001b[39;00m\n\u001b[1;32m    266\u001b[0m     \u001b[38;5;66;03m# Do this first so we don't create a file if image conversion fails\u001b[39;00m\n\u001b[0;32m--> 267\u001b[0m     img_data \u001b[38;5;241m=\u001b[39m \u001b[43mto_image\u001b[49m\u001b[43m(\u001b[49m\n\u001b[1;32m    268\u001b[0m \u001b[43m        \u001b[49m\u001b[43mfig\u001b[49m\u001b[43m,\u001b[49m\n\u001b[1;32m    269\u001b[0m \u001b[43m        \u001b[49m\u001b[38;5;28;43mformat\u001b[39;49m\u001b[38;5;241;43m=\u001b[39;49m\u001b[38;5;28;43mformat\u001b[39;49m\u001b[43m,\u001b[49m\n\u001b[1;32m    270\u001b[0m \u001b[43m        \u001b[49m\u001b[43mscale\u001b[49m\u001b[38;5;241;43m=\u001b[39;49m\u001b[43mscale\u001b[49m\u001b[43m,\u001b[49m\n\u001b[1;32m    271\u001b[0m \u001b[43m        \u001b[49m\u001b[43mwidth\u001b[49m\u001b[38;5;241;43m=\u001b[39;49m\u001b[43mwidth\u001b[49m\u001b[43m,\u001b[49m\n\u001b[1;32m    272\u001b[0m \u001b[43m        \u001b[49m\u001b[43mheight\u001b[49m\u001b[38;5;241;43m=\u001b[39;49m\u001b[43mheight\u001b[49m\u001b[43m,\u001b[49m\n\u001b[1;32m    273\u001b[0m \u001b[43m        \u001b[49m\u001b[43mvalidate\u001b[49m\u001b[38;5;241;43m=\u001b[39;49m\u001b[43mvalidate\u001b[49m\u001b[43m,\u001b[49m\n\u001b[1;32m    274\u001b[0m \u001b[43m        \u001b[49m\u001b[43mengine\u001b[49m\u001b[38;5;241;43m=\u001b[39;49m\u001b[43mengine\u001b[49m\u001b[43m,\u001b[49m\n\u001b[1;32m    275\u001b[0m \u001b[43m    \u001b[49m\u001b[43m)\u001b[49m\n\u001b[1;32m    277\u001b[0m     \u001b[38;5;66;03m# Open file\u001b[39;00m\n\u001b[1;32m    278\u001b[0m     \u001b[38;5;66;03m# ---------\u001b[39;00m\n\u001b[1;32m    279\u001b[0m     \u001b[38;5;28;01mif\u001b[39;00m path \u001b[38;5;129;01mis\u001b[39;00m \u001b[38;5;28;01mNone\u001b[39;00m:\n\u001b[1;32m    280\u001b[0m         \u001b[38;5;66;03m# We previously failed to make sense of `file` as a pathlib object.\u001b[39;00m\n\u001b[1;32m    281\u001b[0m         \u001b[38;5;66;03m# Attempt to write to `file` as an open file descriptor.\u001b[39;00m\n",
      "File \u001b[0;32m~/opt/anaconda3/envs/DSFP/lib/python3.8/site-packages/plotly/io/_kaleido.py:133\u001b[0m, in \u001b[0;36mto_image\u001b[0;34m(fig, format, width, height, scale, validate, engine)\u001b[0m\n\u001b[1;32m    131\u001b[0m     \u001b[38;5;66;03m# Raise informative error message if Kaleido is not installed\u001b[39;00m\n\u001b[1;32m    132\u001b[0m     \u001b[38;5;28;01mif\u001b[39;00m scope \u001b[38;5;129;01mis\u001b[39;00m \u001b[38;5;28;01mNone\u001b[39;00m:\n\u001b[0;32m--> 133\u001b[0m         \u001b[38;5;28;01mraise\u001b[39;00m \u001b[38;5;167;01mValueError\u001b[39;00m(\n\u001b[1;32m    134\u001b[0m \u001b[38;5;250m            \u001b[39m\u001b[38;5;124;03m\"\"\"\u001b[39;00m\n\u001b[1;32m    135\u001b[0m \u001b[38;5;124;03mImage export using the \"kaleido\" engine requires the kaleido package,\u001b[39;00m\n\u001b[1;32m    136\u001b[0m \u001b[38;5;124;03mwhich can be installed using pip:\u001b[39;00m\n\u001b[1;32m    137\u001b[0m \u001b[38;5;124;03m    $ pip install -U kaleido\u001b[39;00m\n\u001b[1;32m    138\u001b[0m \u001b[38;5;124;03m\"\"\"\u001b[39;00m\n\u001b[1;32m    139\u001b[0m         )\n\u001b[1;32m    141\u001b[0m     \u001b[38;5;66;03m# Validate figure\u001b[39;00m\n\u001b[1;32m    142\u001b[0m     \u001b[38;5;66;03m# ---------------\u001b[39;00m\n\u001b[1;32m    143\u001b[0m     fig_dict \u001b[38;5;241m=\u001b[39m validate_coerce_fig_to_dict(fig, validate)\n",
      "\u001b[0;31mValueError\u001b[0m: \nImage export using the \"kaleido\" engine requires the kaleido package,\nwhich can be installed using pip:\n    $ pip install -U kaleido\n"
     ]
    }
   ],
   "source": [
    "fig = px.histogram(karaoke_data, 'Year', nbins = 25, color = 'Top', title='Histogram of Years' )\n",
    "fig.show()\n",
    "\n",
    "fig.write_html(\"year_histogram.html\")\n",
    "fig.write_image(\"year_histogram.png\")"
   ]
  },
  {
   "cell_type": "code",
   "execution_count": 6,
   "id": "298cc2b2",
   "metadata": {},
   "outputs": [
    {
     "data": {
      "application/vnd.plotly.v1+json": {
       "config": {
        "plotlyServerURL": "https://plot.ly"
       },
       "data": [
        {
         "alignmentgroup": "True",
         "bingroup": "x",
         "hovertemplate": "Genre=Rock<br>Origin=%{x}<br>count=%{y}<extra></extra>",
         "legendgroup": "Rock",
         "marker": {
          "color": "#636efa",
          "pattern": {
           "shape": ""
          }
         },
         "name": "Rock",
         "nbinsx": 4,
         "offsetgroup": "Rock",
         "orientation": "v",
         "showlegend": true,
         "type": "histogram",
         "x": [
          "US",
          "US",
          "UK",
          "US",
          "UK",
          "UK",
          "US",
          "US",
          "US",
          "US",
          "UK",
          "US",
          "UK",
          "Jamaica",
          "US",
          "US",
          "US",
          "UK",
          "US"
         ],
         "xaxis": "x",
         "yaxis": "y"
        },
        {
         "alignmentgroup": "True",
         "bingroup": "x",
         "hovertemplate": "Genre=Pop<br>Origin=%{x}<br>count=%{y}<extra></extra>",
         "legendgroup": "Pop",
         "marker": {
          "color": "#EF553B",
          "pattern": {
           "shape": ""
          }
         },
         "name": "Pop",
         "nbinsx": 4,
         "offsetgroup": "Pop",
         "orientation": "v",
         "showlegend": true,
         "type": "histogram",
         "x": [
          "UK",
          "US",
          "US",
          "UK",
          "US",
          "US",
          "US",
          "Canada",
          "US",
          "UK",
          "US",
          "US",
          "US",
          "Canada",
          "US",
          "UK",
          "Canada"
         ],
         "xaxis": "x",
         "yaxis": "y"
        },
        {
         "alignmentgroup": "True",
         "bingroup": "x",
         "hovertemplate": "Genre=Country<br>Origin=%{x}<br>count=%{y}<extra></extra>",
         "legendgroup": "Country",
         "marker": {
          "color": "#00cc96",
          "pattern": {
           "shape": ""
          }
         },
         "name": "Country",
         "nbinsx": 4,
         "offsetgroup": "Country",
         "orientation": "v",
         "showlegend": true,
         "type": "histogram",
         "x": [
          "US",
          "US"
         ],
         "xaxis": "x",
         "yaxis": "y"
        },
        {
         "alignmentgroup": "True",
         "bingroup": "x",
         "hovertemplate": "Genre=Soundtrack<br>Origin=%{x}<br>count=%{y}<extra></extra>",
         "legendgroup": "Soundtrack",
         "marker": {
          "color": "#ab63fa",
          "pattern": {
           "shape": ""
          }
         },
         "name": "Soundtrack",
         "nbinsx": 4,
         "offsetgroup": "Soundtrack",
         "orientation": "v",
         "showlegend": true,
         "type": "histogram",
         "x": [
          "US",
          "US",
          "US",
          "US"
         ],
         "xaxis": "x",
         "yaxis": "y"
        },
        {
         "alignmentgroup": "True",
         "bingroup": "x",
         "hovertemplate": "Genre=R&B<br>Origin=%{x}<br>count=%{y}<extra></extra>",
         "legendgroup": "R&B",
         "marker": {
          "color": "#FFA15A",
          "pattern": {
           "shape": ""
          }
         },
         "name": "R&B",
         "nbinsx": 4,
         "offsetgroup": "R&B",
         "orientation": "v",
         "showlegend": true,
         "type": "histogram",
         "x": [
          "US",
          "US",
          "US",
          "US",
          "US",
          "US",
          "US",
          "US"
         ],
         "xaxis": "x",
         "yaxis": "y"
        }
       ],
       "layout": {
        "barmode": "relative",
        "legend": {
         "title": {
          "text": "Genre"
         },
         "tracegroupgap": 0
        },
        "template": {
         "data": {
          "bar": [
           {
            "error_x": {
             "color": "#2a3f5f"
            },
            "error_y": {
             "color": "#2a3f5f"
            },
            "marker": {
             "line": {
              "color": "#E5ECF6",
              "width": 0.5
             },
             "pattern": {
              "fillmode": "overlay",
              "size": 10,
              "solidity": 0.2
             }
            },
            "type": "bar"
           }
          ],
          "barpolar": [
           {
            "marker": {
             "line": {
              "color": "#E5ECF6",
              "width": 0.5
             },
             "pattern": {
              "fillmode": "overlay",
              "size": 10,
              "solidity": 0.2
             }
            },
            "type": "barpolar"
           }
          ],
          "carpet": [
           {
            "aaxis": {
             "endlinecolor": "#2a3f5f",
             "gridcolor": "white",
             "linecolor": "white",
             "minorgridcolor": "white",
             "startlinecolor": "#2a3f5f"
            },
            "baxis": {
             "endlinecolor": "#2a3f5f",
             "gridcolor": "white",
             "linecolor": "white",
             "minorgridcolor": "white",
             "startlinecolor": "#2a3f5f"
            },
            "type": "carpet"
           }
          ],
          "choropleth": [
           {
            "colorbar": {
             "outlinewidth": 0,
             "ticks": ""
            },
            "type": "choropleth"
           }
          ],
          "contour": [
           {
            "colorbar": {
             "outlinewidth": 0,
             "ticks": ""
            },
            "colorscale": [
             [
              0,
              "#0d0887"
             ],
             [
              0.1111111111111111,
              "#46039f"
             ],
             [
              0.2222222222222222,
              "#7201a8"
             ],
             [
              0.3333333333333333,
              "#9c179e"
             ],
             [
              0.4444444444444444,
              "#bd3786"
             ],
             [
              0.5555555555555556,
              "#d8576b"
             ],
             [
              0.6666666666666666,
              "#ed7953"
             ],
             [
              0.7777777777777778,
              "#fb9f3a"
             ],
             [
              0.8888888888888888,
              "#fdca26"
             ],
             [
              1,
              "#f0f921"
             ]
            ],
            "type": "contour"
           }
          ],
          "contourcarpet": [
           {
            "colorbar": {
             "outlinewidth": 0,
             "ticks": ""
            },
            "type": "contourcarpet"
           }
          ],
          "heatmap": [
           {
            "colorbar": {
             "outlinewidth": 0,
             "ticks": ""
            },
            "colorscale": [
             [
              0,
              "#0d0887"
             ],
             [
              0.1111111111111111,
              "#46039f"
             ],
             [
              0.2222222222222222,
              "#7201a8"
             ],
             [
              0.3333333333333333,
              "#9c179e"
             ],
             [
              0.4444444444444444,
              "#bd3786"
             ],
             [
              0.5555555555555556,
              "#d8576b"
             ],
             [
              0.6666666666666666,
              "#ed7953"
             ],
             [
              0.7777777777777778,
              "#fb9f3a"
             ],
             [
              0.8888888888888888,
              "#fdca26"
             ],
             [
              1,
              "#f0f921"
             ]
            ],
            "type": "heatmap"
           }
          ],
          "heatmapgl": [
           {
            "colorbar": {
             "outlinewidth": 0,
             "ticks": ""
            },
            "colorscale": [
             [
              0,
              "#0d0887"
             ],
             [
              0.1111111111111111,
              "#46039f"
             ],
             [
              0.2222222222222222,
              "#7201a8"
             ],
             [
              0.3333333333333333,
              "#9c179e"
             ],
             [
              0.4444444444444444,
              "#bd3786"
             ],
             [
              0.5555555555555556,
              "#d8576b"
             ],
             [
              0.6666666666666666,
              "#ed7953"
             ],
             [
              0.7777777777777778,
              "#fb9f3a"
             ],
             [
              0.8888888888888888,
              "#fdca26"
             ],
             [
              1,
              "#f0f921"
             ]
            ],
            "type": "heatmapgl"
           }
          ],
          "histogram": [
           {
            "marker": {
             "pattern": {
              "fillmode": "overlay",
              "size": 10,
              "solidity": 0.2
             }
            },
            "type": "histogram"
           }
          ],
          "histogram2d": [
           {
            "colorbar": {
             "outlinewidth": 0,
             "ticks": ""
            },
            "colorscale": [
             [
              0,
              "#0d0887"
             ],
             [
              0.1111111111111111,
              "#46039f"
             ],
             [
              0.2222222222222222,
              "#7201a8"
             ],
             [
              0.3333333333333333,
              "#9c179e"
             ],
             [
              0.4444444444444444,
              "#bd3786"
             ],
             [
              0.5555555555555556,
              "#d8576b"
             ],
             [
              0.6666666666666666,
              "#ed7953"
             ],
             [
              0.7777777777777778,
              "#fb9f3a"
             ],
             [
              0.8888888888888888,
              "#fdca26"
             ],
             [
              1,
              "#f0f921"
             ]
            ],
            "type": "histogram2d"
           }
          ],
          "histogram2dcontour": [
           {
            "colorbar": {
             "outlinewidth": 0,
             "ticks": ""
            },
            "colorscale": [
             [
              0,
              "#0d0887"
             ],
             [
              0.1111111111111111,
              "#46039f"
             ],
             [
              0.2222222222222222,
              "#7201a8"
             ],
             [
              0.3333333333333333,
              "#9c179e"
             ],
             [
              0.4444444444444444,
              "#bd3786"
             ],
             [
              0.5555555555555556,
              "#d8576b"
             ],
             [
              0.6666666666666666,
              "#ed7953"
             ],
             [
              0.7777777777777778,
              "#fb9f3a"
             ],
             [
              0.8888888888888888,
              "#fdca26"
             ],
             [
              1,
              "#f0f921"
             ]
            ],
            "type": "histogram2dcontour"
           }
          ],
          "mesh3d": [
           {
            "colorbar": {
             "outlinewidth": 0,
             "ticks": ""
            },
            "type": "mesh3d"
           }
          ],
          "parcoords": [
           {
            "line": {
             "colorbar": {
              "outlinewidth": 0,
              "ticks": ""
             }
            },
            "type": "parcoords"
           }
          ],
          "pie": [
           {
            "automargin": true,
            "type": "pie"
           }
          ],
          "scatter": [
           {
            "fillpattern": {
             "fillmode": "overlay",
             "size": 10,
             "solidity": 0.2
            },
            "type": "scatter"
           }
          ],
          "scatter3d": [
           {
            "line": {
             "colorbar": {
              "outlinewidth": 0,
              "ticks": ""
             }
            },
            "marker": {
             "colorbar": {
              "outlinewidth": 0,
              "ticks": ""
             }
            },
            "type": "scatter3d"
           }
          ],
          "scattercarpet": [
           {
            "marker": {
             "colorbar": {
              "outlinewidth": 0,
              "ticks": ""
             }
            },
            "type": "scattercarpet"
           }
          ],
          "scattergeo": [
           {
            "marker": {
             "colorbar": {
              "outlinewidth": 0,
              "ticks": ""
             }
            },
            "type": "scattergeo"
           }
          ],
          "scattergl": [
           {
            "marker": {
             "colorbar": {
              "outlinewidth": 0,
              "ticks": ""
             }
            },
            "type": "scattergl"
           }
          ],
          "scattermapbox": [
           {
            "marker": {
             "colorbar": {
              "outlinewidth": 0,
              "ticks": ""
             }
            },
            "type": "scattermapbox"
           }
          ],
          "scatterpolar": [
           {
            "marker": {
             "colorbar": {
              "outlinewidth": 0,
              "ticks": ""
             }
            },
            "type": "scatterpolar"
           }
          ],
          "scatterpolargl": [
           {
            "marker": {
             "colorbar": {
              "outlinewidth": 0,
              "ticks": ""
             }
            },
            "type": "scatterpolargl"
           }
          ],
          "scatterternary": [
           {
            "marker": {
             "colorbar": {
              "outlinewidth": 0,
              "ticks": ""
             }
            },
            "type": "scatterternary"
           }
          ],
          "surface": [
           {
            "colorbar": {
             "outlinewidth": 0,
             "ticks": ""
            },
            "colorscale": [
             [
              0,
              "#0d0887"
             ],
             [
              0.1111111111111111,
              "#46039f"
             ],
             [
              0.2222222222222222,
              "#7201a8"
             ],
             [
              0.3333333333333333,
              "#9c179e"
             ],
             [
              0.4444444444444444,
              "#bd3786"
             ],
             [
              0.5555555555555556,
              "#d8576b"
             ],
             [
              0.6666666666666666,
              "#ed7953"
             ],
             [
              0.7777777777777778,
              "#fb9f3a"
             ],
             [
              0.8888888888888888,
              "#fdca26"
             ],
             [
              1,
              "#f0f921"
             ]
            ],
            "type": "surface"
           }
          ],
          "table": [
           {
            "cells": {
             "fill": {
              "color": "#EBF0F8"
             },
             "line": {
              "color": "white"
             }
            },
            "header": {
             "fill": {
              "color": "#C8D4E3"
             },
             "line": {
              "color": "white"
             }
            },
            "type": "table"
           }
          ]
         },
         "layout": {
          "annotationdefaults": {
           "arrowcolor": "#2a3f5f",
           "arrowhead": 0,
           "arrowwidth": 1
          },
          "autotypenumbers": "strict",
          "coloraxis": {
           "colorbar": {
            "outlinewidth": 0,
            "ticks": ""
           }
          },
          "colorscale": {
           "diverging": [
            [
             0,
             "#8e0152"
            ],
            [
             0.1,
             "#c51b7d"
            ],
            [
             0.2,
             "#de77ae"
            ],
            [
             0.3,
             "#f1b6da"
            ],
            [
             0.4,
             "#fde0ef"
            ],
            [
             0.5,
             "#f7f7f7"
            ],
            [
             0.6,
             "#e6f5d0"
            ],
            [
             0.7,
             "#b8e186"
            ],
            [
             0.8,
             "#7fbc41"
            ],
            [
             0.9,
             "#4d9221"
            ],
            [
             1,
             "#276419"
            ]
           ],
           "sequential": [
            [
             0,
             "#0d0887"
            ],
            [
             0.1111111111111111,
             "#46039f"
            ],
            [
             0.2222222222222222,
             "#7201a8"
            ],
            [
             0.3333333333333333,
             "#9c179e"
            ],
            [
             0.4444444444444444,
             "#bd3786"
            ],
            [
             0.5555555555555556,
             "#d8576b"
            ],
            [
             0.6666666666666666,
             "#ed7953"
            ],
            [
             0.7777777777777778,
             "#fb9f3a"
            ],
            [
             0.8888888888888888,
             "#fdca26"
            ],
            [
             1,
             "#f0f921"
            ]
           ],
           "sequentialminus": [
            [
             0,
             "#0d0887"
            ],
            [
             0.1111111111111111,
             "#46039f"
            ],
            [
             0.2222222222222222,
             "#7201a8"
            ],
            [
             0.3333333333333333,
             "#9c179e"
            ],
            [
             0.4444444444444444,
             "#bd3786"
            ],
            [
             0.5555555555555556,
             "#d8576b"
            ],
            [
             0.6666666666666666,
             "#ed7953"
            ],
            [
             0.7777777777777778,
             "#fb9f3a"
            ],
            [
             0.8888888888888888,
             "#fdca26"
            ],
            [
             1,
             "#f0f921"
            ]
           ]
          },
          "colorway": [
           "#636efa",
           "#EF553B",
           "#00cc96",
           "#ab63fa",
           "#FFA15A",
           "#19d3f3",
           "#FF6692",
           "#B6E880",
           "#FF97FF",
           "#FECB52"
          ],
          "font": {
           "color": "#2a3f5f"
          },
          "geo": {
           "bgcolor": "white",
           "lakecolor": "white",
           "landcolor": "#E5ECF6",
           "showlakes": true,
           "showland": true,
           "subunitcolor": "white"
          },
          "hoverlabel": {
           "align": "left"
          },
          "hovermode": "closest",
          "mapbox": {
           "style": "light"
          },
          "paper_bgcolor": "white",
          "plot_bgcolor": "#E5ECF6",
          "polar": {
           "angularaxis": {
            "gridcolor": "white",
            "linecolor": "white",
            "ticks": ""
           },
           "bgcolor": "#E5ECF6",
           "radialaxis": {
            "gridcolor": "white",
            "linecolor": "white",
            "ticks": ""
           }
          },
          "scene": {
           "xaxis": {
            "backgroundcolor": "#E5ECF6",
            "gridcolor": "white",
            "gridwidth": 2,
            "linecolor": "white",
            "showbackground": true,
            "ticks": "",
            "zerolinecolor": "white"
           },
           "yaxis": {
            "backgroundcolor": "#E5ECF6",
            "gridcolor": "white",
            "gridwidth": 2,
            "linecolor": "white",
            "showbackground": true,
            "ticks": "",
            "zerolinecolor": "white"
           },
           "zaxis": {
            "backgroundcolor": "#E5ECF6",
            "gridcolor": "white",
            "gridwidth": 2,
            "linecolor": "white",
            "showbackground": true,
            "ticks": "",
            "zerolinecolor": "white"
           }
          },
          "shapedefaults": {
           "line": {
            "color": "#2a3f5f"
           }
          },
          "ternary": {
           "aaxis": {
            "gridcolor": "white",
            "linecolor": "white",
            "ticks": ""
           },
           "baxis": {
            "gridcolor": "white",
            "linecolor": "white",
            "ticks": ""
           },
           "bgcolor": "#E5ECF6",
           "caxis": {
            "gridcolor": "white",
            "linecolor": "white",
            "ticks": ""
           }
          },
          "title": {
           "x": 0.05
          },
          "xaxis": {
           "automargin": true,
           "gridcolor": "white",
           "linecolor": "white",
           "ticks": "",
           "title": {
            "standoff": 15
           },
           "zerolinecolor": "white",
           "zerolinewidth": 2
          },
          "yaxis": {
           "automargin": true,
           "gridcolor": "white",
           "linecolor": "white",
           "ticks": "",
           "title": {
            "standoff": 15
           },
           "zerolinecolor": "white",
           "zerolinewidth": 2
          }
         }
        },
        "title": {
         "text": "Histogram of Origins and Genre"
        },
        "xaxis": {
         "anchor": "y",
         "domain": [
          0,
          1
         ],
         "title": {
          "text": "Origin"
         }
        },
        "yaxis": {
         "anchor": "x",
         "domain": [
          0,
          1
         ],
         "title": {
          "text": "count"
         }
        }
       }
      },
      "text/html": [
       "<div>                            <div id=\"3ad793d4-ca87-45c8-9153-a487e312eb4a\" class=\"plotly-graph-div\" style=\"height:525px; width:100%;\"></div>            <script type=\"text/javascript\">                require([\"plotly\"], function(Plotly) {                    window.PLOTLYENV=window.PLOTLYENV || {};                                    if (document.getElementById(\"3ad793d4-ca87-45c8-9153-a487e312eb4a\")) {                    Plotly.newPlot(                        \"3ad793d4-ca87-45c8-9153-a487e312eb4a\",                        [{\"alignmentgroup\":\"True\",\"bingroup\":\"x\",\"hovertemplate\":\"Genre=Rock<br>Origin=%{x}<br>count=%{y}<extra></extra>\",\"legendgroup\":\"Rock\",\"marker\":{\"color\":\"#636efa\",\"pattern\":{\"shape\":\"\"}},\"name\":\"Rock\",\"nbinsx\":4,\"offsetgroup\":\"Rock\",\"orientation\":\"v\",\"showlegend\":true,\"x\":[\"US\",\"US\",\"UK\",\"US\",\"UK\",\"UK\",\"US\",\"US\",\"US\",\"US\",\"UK\",\"US\",\"UK\",\"Jamaica\",\"US\",\"US\",\"US\",\"UK\",\"US\"],\"xaxis\":\"x\",\"yaxis\":\"y\",\"type\":\"histogram\"},{\"alignmentgroup\":\"True\",\"bingroup\":\"x\",\"hovertemplate\":\"Genre=Pop<br>Origin=%{x}<br>count=%{y}<extra></extra>\",\"legendgroup\":\"Pop\",\"marker\":{\"color\":\"#EF553B\",\"pattern\":{\"shape\":\"\"}},\"name\":\"Pop\",\"nbinsx\":4,\"offsetgroup\":\"Pop\",\"orientation\":\"v\",\"showlegend\":true,\"x\":[\"UK\",\"US\",\"US\",\"UK\",\"US\",\"US\",\"US\",\"Canada\",\"US\",\"UK\",\"US\",\"US\",\"US\",\"Canada\",\"US\",\"UK\",\"Canada\"],\"xaxis\":\"x\",\"yaxis\":\"y\",\"type\":\"histogram\"},{\"alignmentgroup\":\"True\",\"bingroup\":\"x\",\"hovertemplate\":\"Genre=Country<br>Origin=%{x}<br>count=%{y}<extra></extra>\",\"legendgroup\":\"Country\",\"marker\":{\"color\":\"#00cc96\",\"pattern\":{\"shape\":\"\"}},\"name\":\"Country\",\"nbinsx\":4,\"offsetgroup\":\"Country\",\"orientation\":\"v\",\"showlegend\":true,\"x\":[\"US\",\"US\"],\"xaxis\":\"x\",\"yaxis\":\"y\",\"type\":\"histogram\"},{\"alignmentgroup\":\"True\",\"bingroup\":\"x\",\"hovertemplate\":\"Genre=Soundtrack<br>Origin=%{x}<br>count=%{y}<extra></extra>\",\"legendgroup\":\"Soundtrack\",\"marker\":{\"color\":\"#ab63fa\",\"pattern\":{\"shape\":\"\"}},\"name\":\"Soundtrack\",\"nbinsx\":4,\"offsetgroup\":\"Soundtrack\",\"orientation\":\"v\",\"showlegend\":true,\"x\":[\"US\",\"US\",\"US\",\"US\"],\"xaxis\":\"x\",\"yaxis\":\"y\",\"type\":\"histogram\"},{\"alignmentgroup\":\"True\",\"bingroup\":\"x\",\"hovertemplate\":\"Genre=R&B<br>Origin=%{x}<br>count=%{y}<extra></extra>\",\"legendgroup\":\"R&B\",\"marker\":{\"color\":\"#FFA15A\",\"pattern\":{\"shape\":\"\"}},\"name\":\"R&B\",\"nbinsx\":4,\"offsetgroup\":\"R&B\",\"orientation\":\"v\",\"showlegend\":true,\"x\":[\"US\",\"US\",\"US\",\"US\",\"US\",\"US\",\"US\",\"US\"],\"xaxis\":\"x\",\"yaxis\":\"y\",\"type\":\"histogram\"}],                        {\"template\":{\"data\":{\"histogram2dcontour\":[{\"type\":\"histogram2dcontour\",\"colorbar\":{\"outlinewidth\":0,\"ticks\":\"\"},\"colorscale\":[[0.0,\"#0d0887\"],[0.1111111111111111,\"#46039f\"],[0.2222222222222222,\"#7201a8\"],[0.3333333333333333,\"#9c179e\"],[0.4444444444444444,\"#bd3786\"],[0.5555555555555556,\"#d8576b\"],[0.6666666666666666,\"#ed7953\"],[0.7777777777777778,\"#fb9f3a\"],[0.8888888888888888,\"#fdca26\"],[1.0,\"#f0f921\"]]}],\"choropleth\":[{\"type\":\"choropleth\",\"colorbar\":{\"outlinewidth\":0,\"ticks\":\"\"}}],\"histogram2d\":[{\"type\":\"histogram2d\",\"colorbar\":{\"outlinewidth\":0,\"ticks\":\"\"},\"colorscale\":[[0.0,\"#0d0887\"],[0.1111111111111111,\"#46039f\"],[0.2222222222222222,\"#7201a8\"],[0.3333333333333333,\"#9c179e\"],[0.4444444444444444,\"#bd3786\"],[0.5555555555555556,\"#d8576b\"],[0.6666666666666666,\"#ed7953\"],[0.7777777777777778,\"#fb9f3a\"],[0.8888888888888888,\"#fdca26\"],[1.0,\"#f0f921\"]]}],\"heatmap\":[{\"type\":\"heatmap\",\"colorbar\":{\"outlinewidth\":0,\"ticks\":\"\"},\"colorscale\":[[0.0,\"#0d0887\"],[0.1111111111111111,\"#46039f\"],[0.2222222222222222,\"#7201a8\"],[0.3333333333333333,\"#9c179e\"],[0.4444444444444444,\"#bd3786\"],[0.5555555555555556,\"#d8576b\"],[0.6666666666666666,\"#ed7953\"],[0.7777777777777778,\"#fb9f3a\"],[0.8888888888888888,\"#fdca26\"],[1.0,\"#f0f921\"]]}],\"heatmapgl\":[{\"type\":\"heatmapgl\",\"colorbar\":{\"outlinewidth\":0,\"ticks\":\"\"},\"colorscale\":[[0.0,\"#0d0887\"],[0.1111111111111111,\"#46039f\"],[0.2222222222222222,\"#7201a8\"],[0.3333333333333333,\"#9c179e\"],[0.4444444444444444,\"#bd3786\"],[0.5555555555555556,\"#d8576b\"],[0.6666666666666666,\"#ed7953\"],[0.7777777777777778,\"#fb9f3a\"],[0.8888888888888888,\"#fdca26\"],[1.0,\"#f0f921\"]]}],\"contourcarpet\":[{\"type\":\"contourcarpet\",\"colorbar\":{\"outlinewidth\":0,\"ticks\":\"\"}}],\"contour\":[{\"type\":\"contour\",\"colorbar\":{\"outlinewidth\":0,\"ticks\":\"\"},\"colorscale\":[[0.0,\"#0d0887\"],[0.1111111111111111,\"#46039f\"],[0.2222222222222222,\"#7201a8\"],[0.3333333333333333,\"#9c179e\"],[0.4444444444444444,\"#bd3786\"],[0.5555555555555556,\"#d8576b\"],[0.6666666666666666,\"#ed7953\"],[0.7777777777777778,\"#fb9f3a\"],[0.8888888888888888,\"#fdca26\"],[1.0,\"#f0f921\"]]}],\"surface\":[{\"type\":\"surface\",\"colorbar\":{\"outlinewidth\":0,\"ticks\":\"\"},\"colorscale\":[[0.0,\"#0d0887\"],[0.1111111111111111,\"#46039f\"],[0.2222222222222222,\"#7201a8\"],[0.3333333333333333,\"#9c179e\"],[0.4444444444444444,\"#bd3786\"],[0.5555555555555556,\"#d8576b\"],[0.6666666666666666,\"#ed7953\"],[0.7777777777777778,\"#fb9f3a\"],[0.8888888888888888,\"#fdca26\"],[1.0,\"#f0f921\"]]}],\"mesh3d\":[{\"type\":\"mesh3d\",\"colorbar\":{\"outlinewidth\":0,\"ticks\":\"\"}}],\"scatter\":[{\"fillpattern\":{\"fillmode\":\"overlay\",\"size\":10,\"solidity\":0.2},\"type\":\"scatter\"}],\"parcoords\":[{\"type\":\"parcoords\",\"line\":{\"colorbar\":{\"outlinewidth\":0,\"ticks\":\"\"}}}],\"scatterpolargl\":[{\"type\":\"scatterpolargl\",\"marker\":{\"colorbar\":{\"outlinewidth\":0,\"ticks\":\"\"}}}],\"bar\":[{\"error_x\":{\"color\":\"#2a3f5f\"},\"error_y\":{\"color\":\"#2a3f5f\"},\"marker\":{\"line\":{\"color\":\"#E5ECF6\",\"width\":0.5},\"pattern\":{\"fillmode\":\"overlay\",\"size\":10,\"solidity\":0.2}},\"type\":\"bar\"}],\"scattergeo\":[{\"type\":\"scattergeo\",\"marker\":{\"colorbar\":{\"outlinewidth\":0,\"ticks\":\"\"}}}],\"scatterpolar\":[{\"type\":\"scatterpolar\",\"marker\":{\"colorbar\":{\"outlinewidth\":0,\"ticks\":\"\"}}}],\"histogram\":[{\"marker\":{\"pattern\":{\"fillmode\":\"overlay\",\"size\":10,\"solidity\":0.2}},\"type\":\"histogram\"}],\"scattergl\":[{\"type\":\"scattergl\",\"marker\":{\"colorbar\":{\"outlinewidth\":0,\"ticks\":\"\"}}}],\"scatter3d\":[{\"type\":\"scatter3d\",\"line\":{\"colorbar\":{\"outlinewidth\":0,\"ticks\":\"\"}},\"marker\":{\"colorbar\":{\"outlinewidth\":0,\"ticks\":\"\"}}}],\"scattermapbox\":[{\"type\":\"scattermapbox\",\"marker\":{\"colorbar\":{\"outlinewidth\":0,\"ticks\":\"\"}}}],\"scatterternary\":[{\"type\":\"scatterternary\",\"marker\":{\"colorbar\":{\"outlinewidth\":0,\"ticks\":\"\"}}}],\"scattercarpet\":[{\"type\":\"scattercarpet\",\"marker\":{\"colorbar\":{\"outlinewidth\":0,\"ticks\":\"\"}}}],\"carpet\":[{\"aaxis\":{\"endlinecolor\":\"#2a3f5f\",\"gridcolor\":\"white\",\"linecolor\":\"white\",\"minorgridcolor\":\"white\",\"startlinecolor\":\"#2a3f5f\"},\"baxis\":{\"endlinecolor\":\"#2a3f5f\",\"gridcolor\":\"white\",\"linecolor\":\"white\",\"minorgridcolor\":\"white\",\"startlinecolor\":\"#2a3f5f\"},\"type\":\"carpet\"}],\"table\":[{\"cells\":{\"fill\":{\"color\":\"#EBF0F8\"},\"line\":{\"color\":\"white\"}},\"header\":{\"fill\":{\"color\":\"#C8D4E3\"},\"line\":{\"color\":\"white\"}},\"type\":\"table\"}],\"barpolar\":[{\"marker\":{\"line\":{\"color\":\"#E5ECF6\",\"width\":0.5},\"pattern\":{\"fillmode\":\"overlay\",\"size\":10,\"solidity\":0.2}},\"type\":\"barpolar\"}],\"pie\":[{\"automargin\":true,\"type\":\"pie\"}]},\"layout\":{\"autotypenumbers\":\"strict\",\"colorway\":[\"#636efa\",\"#EF553B\",\"#00cc96\",\"#ab63fa\",\"#FFA15A\",\"#19d3f3\",\"#FF6692\",\"#B6E880\",\"#FF97FF\",\"#FECB52\"],\"font\":{\"color\":\"#2a3f5f\"},\"hovermode\":\"closest\",\"hoverlabel\":{\"align\":\"left\"},\"paper_bgcolor\":\"white\",\"plot_bgcolor\":\"#E5ECF6\",\"polar\":{\"bgcolor\":\"#E5ECF6\",\"angularaxis\":{\"gridcolor\":\"white\",\"linecolor\":\"white\",\"ticks\":\"\"},\"radialaxis\":{\"gridcolor\":\"white\",\"linecolor\":\"white\",\"ticks\":\"\"}},\"ternary\":{\"bgcolor\":\"#E5ECF6\",\"aaxis\":{\"gridcolor\":\"white\",\"linecolor\":\"white\",\"ticks\":\"\"},\"baxis\":{\"gridcolor\":\"white\",\"linecolor\":\"white\",\"ticks\":\"\"},\"caxis\":{\"gridcolor\":\"white\",\"linecolor\":\"white\",\"ticks\":\"\"}},\"coloraxis\":{\"colorbar\":{\"outlinewidth\":0,\"ticks\":\"\"}},\"colorscale\":{\"sequential\":[[0.0,\"#0d0887\"],[0.1111111111111111,\"#46039f\"],[0.2222222222222222,\"#7201a8\"],[0.3333333333333333,\"#9c179e\"],[0.4444444444444444,\"#bd3786\"],[0.5555555555555556,\"#d8576b\"],[0.6666666666666666,\"#ed7953\"],[0.7777777777777778,\"#fb9f3a\"],[0.8888888888888888,\"#fdca26\"],[1.0,\"#f0f921\"]],\"sequentialminus\":[[0.0,\"#0d0887\"],[0.1111111111111111,\"#46039f\"],[0.2222222222222222,\"#7201a8\"],[0.3333333333333333,\"#9c179e\"],[0.4444444444444444,\"#bd3786\"],[0.5555555555555556,\"#d8576b\"],[0.6666666666666666,\"#ed7953\"],[0.7777777777777778,\"#fb9f3a\"],[0.8888888888888888,\"#fdca26\"],[1.0,\"#f0f921\"]],\"diverging\":[[0,\"#8e0152\"],[0.1,\"#c51b7d\"],[0.2,\"#de77ae\"],[0.3,\"#f1b6da\"],[0.4,\"#fde0ef\"],[0.5,\"#f7f7f7\"],[0.6,\"#e6f5d0\"],[0.7,\"#b8e186\"],[0.8,\"#7fbc41\"],[0.9,\"#4d9221\"],[1,\"#276419\"]]},\"xaxis\":{\"gridcolor\":\"white\",\"linecolor\":\"white\",\"ticks\":\"\",\"title\":{\"standoff\":15},\"zerolinecolor\":\"white\",\"automargin\":true,\"zerolinewidth\":2},\"yaxis\":{\"gridcolor\":\"white\",\"linecolor\":\"white\",\"ticks\":\"\",\"title\":{\"standoff\":15},\"zerolinecolor\":\"white\",\"automargin\":true,\"zerolinewidth\":2},\"scene\":{\"xaxis\":{\"backgroundcolor\":\"#E5ECF6\",\"gridcolor\":\"white\",\"linecolor\":\"white\",\"showbackground\":true,\"ticks\":\"\",\"zerolinecolor\":\"white\",\"gridwidth\":2},\"yaxis\":{\"backgroundcolor\":\"#E5ECF6\",\"gridcolor\":\"white\",\"linecolor\":\"white\",\"showbackground\":true,\"ticks\":\"\",\"zerolinecolor\":\"white\",\"gridwidth\":2},\"zaxis\":{\"backgroundcolor\":\"#E5ECF6\",\"gridcolor\":\"white\",\"linecolor\":\"white\",\"showbackground\":true,\"ticks\":\"\",\"zerolinecolor\":\"white\",\"gridwidth\":2}},\"shapedefaults\":{\"line\":{\"color\":\"#2a3f5f\"}},\"annotationdefaults\":{\"arrowcolor\":\"#2a3f5f\",\"arrowhead\":0,\"arrowwidth\":1},\"geo\":{\"bgcolor\":\"white\",\"landcolor\":\"#E5ECF6\",\"subunitcolor\":\"white\",\"showland\":true,\"showlakes\":true,\"lakecolor\":\"white\"},\"title\":{\"x\":0.05},\"mapbox\":{\"style\":\"light\"}}},\"xaxis\":{\"anchor\":\"y\",\"domain\":[0.0,1.0],\"title\":{\"text\":\"Origin\"}},\"yaxis\":{\"anchor\":\"x\",\"domain\":[0.0,1.0],\"title\":{\"text\":\"count\"}},\"legend\":{\"title\":{\"text\":\"Genre\"},\"tracegroupgap\":0},\"title\":{\"text\":\"Histogram of Origins and Genre\"},\"barmode\":\"relative\"},                        {\"responsive\": true}                    ).then(function(){\n",
       "                            \n",
       "var gd = document.getElementById('3ad793d4-ca87-45c8-9153-a487e312eb4a');\n",
       "var x = new MutationObserver(function (mutations, observer) {{\n",
       "        var display = window.getComputedStyle(gd).display;\n",
       "        if (!display || display === 'none') {{\n",
       "            console.log([gd, 'removed!']);\n",
       "            Plotly.purge(gd);\n",
       "            observer.disconnect();\n",
       "        }}\n",
       "}});\n",
       "\n",
       "// Listen for the removal of the full notebook cells\n",
       "var notebookContainer = gd.closest('#notebook-container');\n",
       "if (notebookContainer) {{\n",
       "    x.observe(notebookContainer, {childList: true});\n",
       "}}\n",
       "\n",
       "// Listen for the clearing of the current output cell\n",
       "var outputEl = gd.closest('.output');\n",
       "if (outputEl) {{\n",
       "    x.observe(outputEl, {childList: true});\n",
       "}}\n",
       "\n",
       "                        })                };                });            </script>        </div>"
      ]
     },
     "metadata": {},
     "output_type": "display_data"
    }
   ],
   "source": [
    "fig = px.histogram(karaoke_data, 'Origin', nbins = 4, color = 'Genre', title='Histogram of Origins and Genre' )\n",
    "fig.show()\n",
    "fig.write_html(\"origin_and_gnere_hist.html\")"
   ]
  },
  {
   "cell_type": "code",
   "execution_count": 7,
   "id": "f99e17bf",
   "metadata": {},
   "outputs": [
    {
     "data": {
      "application/vnd.plotly.v1+json": {
       "config": {
        "plotlyServerURL": "https://plot.ly"
       },
       "data": [
        {
         "alignmentgroup": "True",
         "bingroup": "x",
         "hovertemplate": "Top=10<br>Origin=%{x}<br>count=%{y}<extra></extra>",
         "legendgroup": "10",
         "marker": {
          "color": "#636efa",
          "pattern": {
           "shape": ""
          }
         },
         "name": "10",
         "nbinsx": 4,
         "offsetgroup": "10",
         "orientation": "v",
         "showlegend": true,
         "type": "histogram",
         "x": [
          "US",
          "UK",
          "US",
          "US",
          "US",
          "US",
          "US",
          "US",
          "US",
          "US"
         ],
         "xaxis": "x",
         "yaxis": "y"
        },
        {
         "alignmentgroup": "True",
         "bingroup": "x",
         "hovertemplate": "Top=20<br>Origin=%{x}<br>count=%{y}<extra></extra>",
         "legendgroup": "20",
         "marker": {
          "color": "#EF553B",
          "pattern": {
           "shape": ""
          }
         },
         "name": "20",
         "nbinsx": 4,
         "offsetgroup": "20",
         "orientation": "v",
         "showlegend": true,
         "type": "histogram",
         "x": [
          "US",
          "UK",
          "US",
          "US",
          "US",
          "UK",
          "UK",
          "US",
          "UK",
          "US"
         ],
         "xaxis": "x",
         "yaxis": "y"
        },
        {
         "alignmentgroup": "True",
         "bingroup": "x",
         "hovertemplate": "Top=30<br>Origin=%{x}<br>count=%{y}<extra></extra>",
         "legendgroup": "30",
         "marker": {
          "color": "#00cc96",
          "pattern": {
           "shape": ""
          }
         },
         "name": "30",
         "nbinsx": 4,
         "offsetgroup": "30",
         "orientation": "v",
         "showlegend": true,
         "type": "histogram",
         "x": [
          "US",
          "US",
          "US",
          "US",
          "Canada",
          "US",
          "US",
          "UK",
          "US",
          "UK"
         ],
         "xaxis": "x",
         "yaxis": "y"
        },
        {
         "alignmentgroup": "True",
         "bingroup": "x",
         "hovertemplate": "Top=40<br>Origin=%{x}<br>count=%{y}<extra></extra>",
         "legendgroup": "40",
         "marker": {
          "color": "#ab63fa",
          "pattern": {
           "shape": ""
          }
         },
         "name": "40",
         "nbinsx": 4,
         "offsetgroup": "40",
         "orientation": "v",
         "showlegend": true,
         "type": "histogram",
         "x": [
          "US",
          "US",
          "UK",
          "Jamaica",
          "US",
          "US",
          "US",
          "US",
          "US",
          "US"
         ],
         "xaxis": "x",
         "yaxis": "y"
        },
        {
         "alignmentgroup": "True",
         "bingroup": "x",
         "hovertemplate": "Top=50<br>Origin=%{x}<br>count=%{y}<extra></extra>",
         "legendgroup": "50",
         "marker": {
          "color": "#FFA15A",
          "pattern": {
           "shape": ""
          }
         },
         "name": "50",
         "nbinsx": 4,
         "offsetgroup": "50",
         "orientation": "v",
         "showlegend": true,
         "type": "histogram",
         "x": [
          "US",
          "US",
          "Canada",
          "US",
          "US",
          "UK",
          "UK",
          "US",
          "Canada",
          "US"
         ],
         "xaxis": "x",
         "yaxis": "y"
        }
       ],
       "layout": {
        "barmode": "relative",
        "legend": {
         "title": {
          "text": "Top"
         },
         "tracegroupgap": 0
        },
        "template": {
         "data": {
          "bar": [
           {
            "error_x": {
             "color": "#2a3f5f"
            },
            "error_y": {
             "color": "#2a3f5f"
            },
            "marker": {
             "line": {
              "color": "#E5ECF6",
              "width": 0.5
             },
             "pattern": {
              "fillmode": "overlay",
              "size": 10,
              "solidity": 0.2
             }
            },
            "type": "bar"
           }
          ],
          "barpolar": [
           {
            "marker": {
             "line": {
              "color": "#E5ECF6",
              "width": 0.5
             },
             "pattern": {
              "fillmode": "overlay",
              "size": 10,
              "solidity": 0.2
             }
            },
            "type": "barpolar"
           }
          ],
          "carpet": [
           {
            "aaxis": {
             "endlinecolor": "#2a3f5f",
             "gridcolor": "white",
             "linecolor": "white",
             "minorgridcolor": "white",
             "startlinecolor": "#2a3f5f"
            },
            "baxis": {
             "endlinecolor": "#2a3f5f",
             "gridcolor": "white",
             "linecolor": "white",
             "minorgridcolor": "white",
             "startlinecolor": "#2a3f5f"
            },
            "type": "carpet"
           }
          ],
          "choropleth": [
           {
            "colorbar": {
             "outlinewidth": 0,
             "ticks": ""
            },
            "type": "choropleth"
           }
          ],
          "contour": [
           {
            "colorbar": {
             "outlinewidth": 0,
             "ticks": ""
            },
            "colorscale": [
             [
              0,
              "#0d0887"
             ],
             [
              0.1111111111111111,
              "#46039f"
             ],
             [
              0.2222222222222222,
              "#7201a8"
             ],
             [
              0.3333333333333333,
              "#9c179e"
             ],
             [
              0.4444444444444444,
              "#bd3786"
             ],
             [
              0.5555555555555556,
              "#d8576b"
             ],
             [
              0.6666666666666666,
              "#ed7953"
             ],
             [
              0.7777777777777778,
              "#fb9f3a"
             ],
             [
              0.8888888888888888,
              "#fdca26"
             ],
             [
              1,
              "#f0f921"
             ]
            ],
            "type": "contour"
           }
          ],
          "contourcarpet": [
           {
            "colorbar": {
             "outlinewidth": 0,
             "ticks": ""
            },
            "type": "contourcarpet"
           }
          ],
          "heatmap": [
           {
            "colorbar": {
             "outlinewidth": 0,
             "ticks": ""
            },
            "colorscale": [
             [
              0,
              "#0d0887"
             ],
             [
              0.1111111111111111,
              "#46039f"
             ],
             [
              0.2222222222222222,
              "#7201a8"
             ],
             [
              0.3333333333333333,
              "#9c179e"
             ],
             [
              0.4444444444444444,
              "#bd3786"
             ],
             [
              0.5555555555555556,
              "#d8576b"
             ],
             [
              0.6666666666666666,
              "#ed7953"
             ],
             [
              0.7777777777777778,
              "#fb9f3a"
             ],
             [
              0.8888888888888888,
              "#fdca26"
             ],
             [
              1,
              "#f0f921"
             ]
            ],
            "type": "heatmap"
           }
          ],
          "heatmapgl": [
           {
            "colorbar": {
             "outlinewidth": 0,
             "ticks": ""
            },
            "colorscale": [
             [
              0,
              "#0d0887"
             ],
             [
              0.1111111111111111,
              "#46039f"
             ],
             [
              0.2222222222222222,
              "#7201a8"
             ],
             [
              0.3333333333333333,
              "#9c179e"
             ],
             [
              0.4444444444444444,
              "#bd3786"
             ],
             [
              0.5555555555555556,
              "#d8576b"
             ],
             [
              0.6666666666666666,
              "#ed7953"
             ],
             [
              0.7777777777777778,
              "#fb9f3a"
             ],
             [
              0.8888888888888888,
              "#fdca26"
             ],
             [
              1,
              "#f0f921"
             ]
            ],
            "type": "heatmapgl"
           }
          ],
          "histogram": [
           {
            "marker": {
             "pattern": {
              "fillmode": "overlay",
              "size": 10,
              "solidity": 0.2
             }
            },
            "type": "histogram"
           }
          ],
          "histogram2d": [
           {
            "colorbar": {
             "outlinewidth": 0,
             "ticks": ""
            },
            "colorscale": [
             [
              0,
              "#0d0887"
             ],
             [
              0.1111111111111111,
              "#46039f"
             ],
             [
              0.2222222222222222,
              "#7201a8"
             ],
             [
              0.3333333333333333,
              "#9c179e"
             ],
             [
              0.4444444444444444,
              "#bd3786"
             ],
             [
              0.5555555555555556,
              "#d8576b"
             ],
             [
              0.6666666666666666,
              "#ed7953"
             ],
             [
              0.7777777777777778,
              "#fb9f3a"
             ],
             [
              0.8888888888888888,
              "#fdca26"
             ],
             [
              1,
              "#f0f921"
             ]
            ],
            "type": "histogram2d"
           }
          ],
          "histogram2dcontour": [
           {
            "colorbar": {
             "outlinewidth": 0,
             "ticks": ""
            },
            "colorscale": [
             [
              0,
              "#0d0887"
             ],
             [
              0.1111111111111111,
              "#46039f"
             ],
             [
              0.2222222222222222,
              "#7201a8"
             ],
             [
              0.3333333333333333,
              "#9c179e"
             ],
             [
              0.4444444444444444,
              "#bd3786"
             ],
             [
              0.5555555555555556,
              "#d8576b"
             ],
             [
              0.6666666666666666,
              "#ed7953"
             ],
             [
              0.7777777777777778,
              "#fb9f3a"
             ],
             [
              0.8888888888888888,
              "#fdca26"
             ],
             [
              1,
              "#f0f921"
             ]
            ],
            "type": "histogram2dcontour"
           }
          ],
          "mesh3d": [
           {
            "colorbar": {
             "outlinewidth": 0,
             "ticks": ""
            },
            "type": "mesh3d"
           }
          ],
          "parcoords": [
           {
            "line": {
             "colorbar": {
              "outlinewidth": 0,
              "ticks": ""
             }
            },
            "type": "parcoords"
           }
          ],
          "pie": [
           {
            "automargin": true,
            "type": "pie"
           }
          ],
          "scatter": [
           {
            "fillpattern": {
             "fillmode": "overlay",
             "size": 10,
             "solidity": 0.2
            },
            "type": "scatter"
           }
          ],
          "scatter3d": [
           {
            "line": {
             "colorbar": {
              "outlinewidth": 0,
              "ticks": ""
             }
            },
            "marker": {
             "colorbar": {
              "outlinewidth": 0,
              "ticks": ""
             }
            },
            "type": "scatter3d"
           }
          ],
          "scattercarpet": [
           {
            "marker": {
             "colorbar": {
              "outlinewidth": 0,
              "ticks": ""
             }
            },
            "type": "scattercarpet"
           }
          ],
          "scattergeo": [
           {
            "marker": {
             "colorbar": {
              "outlinewidth": 0,
              "ticks": ""
             }
            },
            "type": "scattergeo"
           }
          ],
          "scattergl": [
           {
            "marker": {
             "colorbar": {
              "outlinewidth": 0,
              "ticks": ""
             }
            },
            "type": "scattergl"
           }
          ],
          "scattermapbox": [
           {
            "marker": {
             "colorbar": {
              "outlinewidth": 0,
              "ticks": ""
             }
            },
            "type": "scattermapbox"
           }
          ],
          "scatterpolar": [
           {
            "marker": {
             "colorbar": {
              "outlinewidth": 0,
              "ticks": ""
             }
            },
            "type": "scatterpolar"
           }
          ],
          "scatterpolargl": [
           {
            "marker": {
             "colorbar": {
              "outlinewidth": 0,
              "ticks": ""
             }
            },
            "type": "scatterpolargl"
           }
          ],
          "scatterternary": [
           {
            "marker": {
             "colorbar": {
              "outlinewidth": 0,
              "ticks": ""
             }
            },
            "type": "scatterternary"
           }
          ],
          "surface": [
           {
            "colorbar": {
             "outlinewidth": 0,
             "ticks": ""
            },
            "colorscale": [
             [
              0,
              "#0d0887"
             ],
             [
              0.1111111111111111,
              "#46039f"
             ],
             [
              0.2222222222222222,
              "#7201a8"
             ],
             [
              0.3333333333333333,
              "#9c179e"
             ],
             [
              0.4444444444444444,
              "#bd3786"
             ],
             [
              0.5555555555555556,
              "#d8576b"
             ],
             [
              0.6666666666666666,
              "#ed7953"
             ],
             [
              0.7777777777777778,
              "#fb9f3a"
             ],
             [
              0.8888888888888888,
              "#fdca26"
             ],
             [
              1,
              "#f0f921"
             ]
            ],
            "type": "surface"
           }
          ],
          "table": [
           {
            "cells": {
             "fill": {
              "color": "#EBF0F8"
             },
             "line": {
              "color": "white"
             }
            },
            "header": {
             "fill": {
              "color": "#C8D4E3"
             },
             "line": {
              "color": "white"
             }
            },
            "type": "table"
           }
          ]
         },
         "layout": {
          "annotationdefaults": {
           "arrowcolor": "#2a3f5f",
           "arrowhead": 0,
           "arrowwidth": 1
          },
          "autotypenumbers": "strict",
          "coloraxis": {
           "colorbar": {
            "outlinewidth": 0,
            "ticks": ""
           }
          },
          "colorscale": {
           "diverging": [
            [
             0,
             "#8e0152"
            ],
            [
             0.1,
             "#c51b7d"
            ],
            [
             0.2,
             "#de77ae"
            ],
            [
             0.3,
             "#f1b6da"
            ],
            [
             0.4,
             "#fde0ef"
            ],
            [
             0.5,
             "#f7f7f7"
            ],
            [
             0.6,
             "#e6f5d0"
            ],
            [
             0.7,
             "#b8e186"
            ],
            [
             0.8,
             "#7fbc41"
            ],
            [
             0.9,
             "#4d9221"
            ],
            [
             1,
             "#276419"
            ]
           ],
           "sequential": [
            [
             0,
             "#0d0887"
            ],
            [
             0.1111111111111111,
             "#46039f"
            ],
            [
             0.2222222222222222,
             "#7201a8"
            ],
            [
             0.3333333333333333,
             "#9c179e"
            ],
            [
             0.4444444444444444,
             "#bd3786"
            ],
            [
             0.5555555555555556,
             "#d8576b"
            ],
            [
             0.6666666666666666,
             "#ed7953"
            ],
            [
             0.7777777777777778,
             "#fb9f3a"
            ],
            [
             0.8888888888888888,
             "#fdca26"
            ],
            [
             1,
             "#f0f921"
            ]
           ],
           "sequentialminus": [
            [
             0,
             "#0d0887"
            ],
            [
             0.1111111111111111,
             "#46039f"
            ],
            [
             0.2222222222222222,
             "#7201a8"
            ],
            [
             0.3333333333333333,
             "#9c179e"
            ],
            [
             0.4444444444444444,
             "#bd3786"
            ],
            [
             0.5555555555555556,
             "#d8576b"
            ],
            [
             0.6666666666666666,
             "#ed7953"
            ],
            [
             0.7777777777777778,
             "#fb9f3a"
            ],
            [
             0.8888888888888888,
             "#fdca26"
            ],
            [
             1,
             "#f0f921"
            ]
           ]
          },
          "colorway": [
           "#636efa",
           "#EF553B",
           "#00cc96",
           "#ab63fa",
           "#FFA15A",
           "#19d3f3",
           "#FF6692",
           "#B6E880",
           "#FF97FF",
           "#FECB52"
          ],
          "font": {
           "color": "#2a3f5f"
          },
          "geo": {
           "bgcolor": "white",
           "lakecolor": "white",
           "landcolor": "#E5ECF6",
           "showlakes": true,
           "showland": true,
           "subunitcolor": "white"
          },
          "hoverlabel": {
           "align": "left"
          },
          "hovermode": "closest",
          "mapbox": {
           "style": "light"
          },
          "paper_bgcolor": "white",
          "plot_bgcolor": "#E5ECF6",
          "polar": {
           "angularaxis": {
            "gridcolor": "white",
            "linecolor": "white",
            "ticks": ""
           },
           "bgcolor": "#E5ECF6",
           "radialaxis": {
            "gridcolor": "white",
            "linecolor": "white",
            "ticks": ""
           }
          },
          "scene": {
           "xaxis": {
            "backgroundcolor": "#E5ECF6",
            "gridcolor": "white",
            "gridwidth": 2,
            "linecolor": "white",
            "showbackground": true,
            "ticks": "",
            "zerolinecolor": "white"
           },
           "yaxis": {
            "backgroundcolor": "#E5ECF6",
            "gridcolor": "white",
            "gridwidth": 2,
            "linecolor": "white",
            "showbackground": true,
            "ticks": "",
            "zerolinecolor": "white"
           },
           "zaxis": {
            "backgroundcolor": "#E5ECF6",
            "gridcolor": "white",
            "gridwidth": 2,
            "linecolor": "white",
            "showbackground": true,
            "ticks": "",
            "zerolinecolor": "white"
           }
          },
          "shapedefaults": {
           "line": {
            "color": "#2a3f5f"
           }
          },
          "ternary": {
           "aaxis": {
            "gridcolor": "white",
            "linecolor": "white",
            "ticks": ""
           },
           "baxis": {
            "gridcolor": "white",
            "linecolor": "white",
            "ticks": ""
           },
           "bgcolor": "#E5ECF6",
           "caxis": {
            "gridcolor": "white",
            "linecolor": "white",
            "ticks": ""
           }
          },
          "title": {
           "x": 0.05
          },
          "xaxis": {
           "automargin": true,
           "gridcolor": "white",
           "linecolor": "white",
           "ticks": "",
           "title": {
            "standoff": 15
           },
           "zerolinecolor": "white",
           "zerolinewidth": 2
          },
          "yaxis": {
           "automargin": true,
           "gridcolor": "white",
           "linecolor": "white",
           "ticks": "",
           "title": {
            "standoff": 15
           },
           "zerolinecolor": "white",
           "zerolinewidth": 2
          }
         }
        },
        "title": {
         "text": "Histogram of Origin"
        },
        "xaxis": {
         "anchor": "y",
         "domain": [
          0,
          1
         ],
         "title": {
          "text": "Origin"
         }
        },
        "yaxis": {
         "anchor": "x",
         "domain": [
          0,
          1
         ],
         "title": {
          "text": "count"
         }
        }
       }
      },
      "text/html": [
       "<div>                            <div id=\"68e5904e-31dc-4e05-a676-b40bca423cf3\" class=\"plotly-graph-div\" style=\"height:525px; width:100%;\"></div>            <script type=\"text/javascript\">                require([\"plotly\"], function(Plotly) {                    window.PLOTLYENV=window.PLOTLYENV || {};                                    if (document.getElementById(\"68e5904e-31dc-4e05-a676-b40bca423cf3\")) {                    Plotly.newPlot(                        \"68e5904e-31dc-4e05-a676-b40bca423cf3\",                        [{\"alignmentgroup\":\"True\",\"bingroup\":\"x\",\"hovertemplate\":\"Top=10<br>Origin=%{x}<br>count=%{y}<extra></extra>\",\"legendgroup\":\"10\",\"marker\":{\"color\":\"#636efa\",\"pattern\":{\"shape\":\"\"}},\"name\":\"10\",\"nbinsx\":4,\"offsetgroup\":\"10\",\"orientation\":\"v\",\"showlegend\":true,\"x\":[\"US\",\"UK\",\"US\",\"US\",\"US\",\"US\",\"US\",\"US\",\"US\",\"US\"],\"xaxis\":\"x\",\"yaxis\":\"y\",\"type\":\"histogram\"},{\"alignmentgroup\":\"True\",\"bingroup\":\"x\",\"hovertemplate\":\"Top=20<br>Origin=%{x}<br>count=%{y}<extra></extra>\",\"legendgroup\":\"20\",\"marker\":{\"color\":\"#EF553B\",\"pattern\":{\"shape\":\"\"}},\"name\":\"20\",\"nbinsx\":4,\"offsetgroup\":\"20\",\"orientation\":\"v\",\"showlegend\":true,\"x\":[\"US\",\"UK\",\"US\",\"US\",\"US\",\"UK\",\"UK\",\"US\",\"UK\",\"US\"],\"xaxis\":\"x\",\"yaxis\":\"y\",\"type\":\"histogram\"},{\"alignmentgroup\":\"True\",\"bingroup\":\"x\",\"hovertemplate\":\"Top=30<br>Origin=%{x}<br>count=%{y}<extra></extra>\",\"legendgroup\":\"30\",\"marker\":{\"color\":\"#00cc96\",\"pattern\":{\"shape\":\"\"}},\"name\":\"30\",\"nbinsx\":4,\"offsetgroup\":\"30\",\"orientation\":\"v\",\"showlegend\":true,\"x\":[\"US\",\"US\",\"US\",\"US\",\"Canada\",\"US\",\"US\",\"UK\",\"US\",\"UK\"],\"xaxis\":\"x\",\"yaxis\":\"y\",\"type\":\"histogram\"},{\"alignmentgroup\":\"True\",\"bingroup\":\"x\",\"hovertemplate\":\"Top=40<br>Origin=%{x}<br>count=%{y}<extra></extra>\",\"legendgroup\":\"40\",\"marker\":{\"color\":\"#ab63fa\",\"pattern\":{\"shape\":\"\"}},\"name\":\"40\",\"nbinsx\":4,\"offsetgroup\":\"40\",\"orientation\":\"v\",\"showlegend\":true,\"x\":[\"US\",\"US\",\"UK\",\"Jamaica\",\"US\",\"US\",\"US\",\"US\",\"US\",\"US\"],\"xaxis\":\"x\",\"yaxis\":\"y\",\"type\":\"histogram\"},{\"alignmentgroup\":\"True\",\"bingroup\":\"x\",\"hovertemplate\":\"Top=50<br>Origin=%{x}<br>count=%{y}<extra></extra>\",\"legendgroup\":\"50\",\"marker\":{\"color\":\"#FFA15A\",\"pattern\":{\"shape\":\"\"}},\"name\":\"50\",\"nbinsx\":4,\"offsetgroup\":\"50\",\"orientation\":\"v\",\"showlegend\":true,\"x\":[\"US\",\"US\",\"Canada\",\"US\",\"US\",\"UK\",\"UK\",\"US\",\"Canada\",\"US\"],\"xaxis\":\"x\",\"yaxis\":\"y\",\"type\":\"histogram\"}],                        {\"template\":{\"data\":{\"histogram2dcontour\":[{\"type\":\"histogram2dcontour\",\"colorbar\":{\"outlinewidth\":0,\"ticks\":\"\"},\"colorscale\":[[0.0,\"#0d0887\"],[0.1111111111111111,\"#46039f\"],[0.2222222222222222,\"#7201a8\"],[0.3333333333333333,\"#9c179e\"],[0.4444444444444444,\"#bd3786\"],[0.5555555555555556,\"#d8576b\"],[0.6666666666666666,\"#ed7953\"],[0.7777777777777778,\"#fb9f3a\"],[0.8888888888888888,\"#fdca26\"],[1.0,\"#f0f921\"]]}],\"choropleth\":[{\"type\":\"choropleth\",\"colorbar\":{\"outlinewidth\":0,\"ticks\":\"\"}}],\"histogram2d\":[{\"type\":\"histogram2d\",\"colorbar\":{\"outlinewidth\":0,\"ticks\":\"\"},\"colorscale\":[[0.0,\"#0d0887\"],[0.1111111111111111,\"#46039f\"],[0.2222222222222222,\"#7201a8\"],[0.3333333333333333,\"#9c179e\"],[0.4444444444444444,\"#bd3786\"],[0.5555555555555556,\"#d8576b\"],[0.6666666666666666,\"#ed7953\"],[0.7777777777777778,\"#fb9f3a\"],[0.8888888888888888,\"#fdca26\"],[1.0,\"#f0f921\"]]}],\"heatmap\":[{\"type\":\"heatmap\",\"colorbar\":{\"outlinewidth\":0,\"ticks\":\"\"},\"colorscale\":[[0.0,\"#0d0887\"],[0.1111111111111111,\"#46039f\"],[0.2222222222222222,\"#7201a8\"],[0.3333333333333333,\"#9c179e\"],[0.4444444444444444,\"#bd3786\"],[0.5555555555555556,\"#d8576b\"],[0.6666666666666666,\"#ed7953\"],[0.7777777777777778,\"#fb9f3a\"],[0.8888888888888888,\"#fdca26\"],[1.0,\"#f0f921\"]]}],\"heatmapgl\":[{\"type\":\"heatmapgl\",\"colorbar\":{\"outlinewidth\":0,\"ticks\":\"\"},\"colorscale\":[[0.0,\"#0d0887\"],[0.1111111111111111,\"#46039f\"],[0.2222222222222222,\"#7201a8\"],[0.3333333333333333,\"#9c179e\"],[0.4444444444444444,\"#bd3786\"],[0.5555555555555556,\"#d8576b\"],[0.6666666666666666,\"#ed7953\"],[0.7777777777777778,\"#fb9f3a\"],[0.8888888888888888,\"#fdca26\"],[1.0,\"#f0f921\"]]}],\"contourcarpet\":[{\"type\":\"contourcarpet\",\"colorbar\":{\"outlinewidth\":0,\"ticks\":\"\"}}],\"contour\":[{\"type\":\"contour\",\"colorbar\":{\"outlinewidth\":0,\"ticks\":\"\"},\"colorscale\":[[0.0,\"#0d0887\"],[0.1111111111111111,\"#46039f\"],[0.2222222222222222,\"#7201a8\"],[0.3333333333333333,\"#9c179e\"],[0.4444444444444444,\"#bd3786\"],[0.5555555555555556,\"#d8576b\"],[0.6666666666666666,\"#ed7953\"],[0.7777777777777778,\"#fb9f3a\"],[0.8888888888888888,\"#fdca26\"],[1.0,\"#f0f921\"]]}],\"surface\":[{\"type\":\"surface\",\"colorbar\":{\"outlinewidth\":0,\"ticks\":\"\"},\"colorscale\":[[0.0,\"#0d0887\"],[0.1111111111111111,\"#46039f\"],[0.2222222222222222,\"#7201a8\"],[0.3333333333333333,\"#9c179e\"],[0.4444444444444444,\"#bd3786\"],[0.5555555555555556,\"#d8576b\"],[0.6666666666666666,\"#ed7953\"],[0.7777777777777778,\"#fb9f3a\"],[0.8888888888888888,\"#fdca26\"],[1.0,\"#f0f921\"]]}],\"mesh3d\":[{\"type\":\"mesh3d\",\"colorbar\":{\"outlinewidth\":0,\"ticks\":\"\"}}],\"scatter\":[{\"fillpattern\":{\"fillmode\":\"overlay\",\"size\":10,\"solidity\":0.2},\"type\":\"scatter\"}],\"parcoords\":[{\"type\":\"parcoords\",\"line\":{\"colorbar\":{\"outlinewidth\":0,\"ticks\":\"\"}}}],\"scatterpolargl\":[{\"type\":\"scatterpolargl\",\"marker\":{\"colorbar\":{\"outlinewidth\":0,\"ticks\":\"\"}}}],\"bar\":[{\"error_x\":{\"color\":\"#2a3f5f\"},\"error_y\":{\"color\":\"#2a3f5f\"},\"marker\":{\"line\":{\"color\":\"#E5ECF6\",\"width\":0.5},\"pattern\":{\"fillmode\":\"overlay\",\"size\":10,\"solidity\":0.2}},\"type\":\"bar\"}],\"scattergeo\":[{\"type\":\"scattergeo\",\"marker\":{\"colorbar\":{\"outlinewidth\":0,\"ticks\":\"\"}}}],\"scatterpolar\":[{\"type\":\"scatterpolar\",\"marker\":{\"colorbar\":{\"outlinewidth\":0,\"ticks\":\"\"}}}],\"histogram\":[{\"marker\":{\"pattern\":{\"fillmode\":\"overlay\",\"size\":10,\"solidity\":0.2}},\"type\":\"histogram\"}],\"scattergl\":[{\"type\":\"scattergl\",\"marker\":{\"colorbar\":{\"outlinewidth\":0,\"ticks\":\"\"}}}],\"scatter3d\":[{\"type\":\"scatter3d\",\"line\":{\"colorbar\":{\"outlinewidth\":0,\"ticks\":\"\"}},\"marker\":{\"colorbar\":{\"outlinewidth\":0,\"ticks\":\"\"}}}],\"scattermapbox\":[{\"type\":\"scattermapbox\",\"marker\":{\"colorbar\":{\"outlinewidth\":0,\"ticks\":\"\"}}}],\"scatterternary\":[{\"type\":\"scatterternary\",\"marker\":{\"colorbar\":{\"outlinewidth\":0,\"ticks\":\"\"}}}],\"scattercarpet\":[{\"type\":\"scattercarpet\",\"marker\":{\"colorbar\":{\"outlinewidth\":0,\"ticks\":\"\"}}}],\"carpet\":[{\"aaxis\":{\"endlinecolor\":\"#2a3f5f\",\"gridcolor\":\"white\",\"linecolor\":\"white\",\"minorgridcolor\":\"white\",\"startlinecolor\":\"#2a3f5f\"},\"baxis\":{\"endlinecolor\":\"#2a3f5f\",\"gridcolor\":\"white\",\"linecolor\":\"white\",\"minorgridcolor\":\"white\",\"startlinecolor\":\"#2a3f5f\"},\"type\":\"carpet\"}],\"table\":[{\"cells\":{\"fill\":{\"color\":\"#EBF0F8\"},\"line\":{\"color\":\"white\"}},\"header\":{\"fill\":{\"color\":\"#C8D4E3\"},\"line\":{\"color\":\"white\"}},\"type\":\"table\"}],\"barpolar\":[{\"marker\":{\"line\":{\"color\":\"#E5ECF6\",\"width\":0.5},\"pattern\":{\"fillmode\":\"overlay\",\"size\":10,\"solidity\":0.2}},\"type\":\"barpolar\"}],\"pie\":[{\"automargin\":true,\"type\":\"pie\"}]},\"layout\":{\"autotypenumbers\":\"strict\",\"colorway\":[\"#636efa\",\"#EF553B\",\"#00cc96\",\"#ab63fa\",\"#FFA15A\",\"#19d3f3\",\"#FF6692\",\"#B6E880\",\"#FF97FF\",\"#FECB52\"],\"font\":{\"color\":\"#2a3f5f\"},\"hovermode\":\"closest\",\"hoverlabel\":{\"align\":\"left\"},\"paper_bgcolor\":\"white\",\"plot_bgcolor\":\"#E5ECF6\",\"polar\":{\"bgcolor\":\"#E5ECF6\",\"angularaxis\":{\"gridcolor\":\"white\",\"linecolor\":\"white\",\"ticks\":\"\"},\"radialaxis\":{\"gridcolor\":\"white\",\"linecolor\":\"white\",\"ticks\":\"\"}},\"ternary\":{\"bgcolor\":\"#E5ECF6\",\"aaxis\":{\"gridcolor\":\"white\",\"linecolor\":\"white\",\"ticks\":\"\"},\"baxis\":{\"gridcolor\":\"white\",\"linecolor\":\"white\",\"ticks\":\"\"},\"caxis\":{\"gridcolor\":\"white\",\"linecolor\":\"white\",\"ticks\":\"\"}},\"coloraxis\":{\"colorbar\":{\"outlinewidth\":0,\"ticks\":\"\"}},\"colorscale\":{\"sequential\":[[0.0,\"#0d0887\"],[0.1111111111111111,\"#46039f\"],[0.2222222222222222,\"#7201a8\"],[0.3333333333333333,\"#9c179e\"],[0.4444444444444444,\"#bd3786\"],[0.5555555555555556,\"#d8576b\"],[0.6666666666666666,\"#ed7953\"],[0.7777777777777778,\"#fb9f3a\"],[0.8888888888888888,\"#fdca26\"],[1.0,\"#f0f921\"]],\"sequentialminus\":[[0.0,\"#0d0887\"],[0.1111111111111111,\"#46039f\"],[0.2222222222222222,\"#7201a8\"],[0.3333333333333333,\"#9c179e\"],[0.4444444444444444,\"#bd3786\"],[0.5555555555555556,\"#d8576b\"],[0.6666666666666666,\"#ed7953\"],[0.7777777777777778,\"#fb9f3a\"],[0.8888888888888888,\"#fdca26\"],[1.0,\"#f0f921\"]],\"diverging\":[[0,\"#8e0152\"],[0.1,\"#c51b7d\"],[0.2,\"#de77ae\"],[0.3,\"#f1b6da\"],[0.4,\"#fde0ef\"],[0.5,\"#f7f7f7\"],[0.6,\"#e6f5d0\"],[0.7,\"#b8e186\"],[0.8,\"#7fbc41\"],[0.9,\"#4d9221\"],[1,\"#276419\"]]},\"xaxis\":{\"gridcolor\":\"white\",\"linecolor\":\"white\",\"ticks\":\"\",\"title\":{\"standoff\":15},\"zerolinecolor\":\"white\",\"automargin\":true,\"zerolinewidth\":2},\"yaxis\":{\"gridcolor\":\"white\",\"linecolor\":\"white\",\"ticks\":\"\",\"title\":{\"standoff\":15},\"zerolinecolor\":\"white\",\"automargin\":true,\"zerolinewidth\":2},\"scene\":{\"xaxis\":{\"backgroundcolor\":\"#E5ECF6\",\"gridcolor\":\"white\",\"linecolor\":\"white\",\"showbackground\":true,\"ticks\":\"\",\"zerolinecolor\":\"white\",\"gridwidth\":2},\"yaxis\":{\"backgroundcolor\":\"#E5ECF6\",\"gridcolor\":\"white\",\"linecolor\":\"white\",\"showbackground\":true,\"ticks\":\"\",\"zerolinecolor\":\"white\",\"gridwidth\":2},\"zaxis\":{\"backgroundcolor\":\"#E5ECF6\",\"gridcolor\":\"white\",\"linecolor\":\"white\",\"showbackground\":true,\"ticks\":\"\",\"zerolinecolor\":\"white\",\"gridwidth\":2}},\"shapedefaults\":{\"line\":{\"color\":\"#2a3f5f\"}},\"annotationdefaults\":{\"arrowcolor\":\"#2a3f5f\",\"arrowhead\":0,\"arrowwidth\":1},\"geo\":{\"bgcolor\":\"white\",\"landcolor\":\"#E5ECF6\",\"subunitcolor\":\"white\",\"showland\":true,\"showlakes\":true,\"lakecolor\":\"white\"},\"title\":{\"x\":0.05},\"mapbox\":{\"style\":\"light\"}}},\"xaxis\":{\"anchor\":\"y\",\"domain\":[0.0,1.0],\"title\":{\"text\":\"Origin\"}},\"yaxis\":{\"anchor\":\"x\",\"domain\":[0.0,1.0],\"title\":{\"text\":\"count\"}},\"legend\":{\"title\":{\"text\":\"Top\"},\"tracegroupgap\":0},\"title\":{\"text\":\"Histogram of Origin\"},\"barmode\":\"relative\"},                        {\"responsive\": true}                    ).then(function(){\n",
       "                            \n",
       "var gd = document.getElementById('68e5904e-31dc-4e05-a676-b40bca423cf3');\n",
       "var x = new MutationObserver(function (mutations, observer) {{\n",
       "        var display = window.getComputedStyle(gd).display;\n",
       "        if (!display || display === 'none') {{\n",
       "            console.log([gd, 'removed!']);\n",
       "            Plotly.purge(gd);\n",
       "            observer.disconnect();\n",
       "        }}\n",
       "}});\n",
       "\n",
       "// Listen for the removal of the full notebook cells\n",
       "var notebookContainer = gd.closest('#notebook-container');\n",
       "if (notebookContainer) {{\n",
       "    x.observe(notebookContainer, {childList: true});\n",
       "}}\n",
       "\n",
       "// Listen for the clearing of the current output cell\n",
       "var outputEl = gd.closest('.output');\n",
       "if (outputEl) {{\n",
       "    x.observe(outputEl, {childList: true});\n",
       "}}\n",
       "\n",
       "                        })                };                });            </script>        </div>"
      ]
     },
     "metadata": {},
     "output_type": "display_data"
    }
   ],
   "source": [
    "fig = px.histogram(karaoke_data, 'Origin', nbins = 4, color = 'Top', title='Histogram of Origin' )\n",
    "fig.show()\n",
    "fig.write_html(\"origin_hist.html\")"
   ]
  },
  {
   "cell_type": "code",
   "execution_count": 22,
   "id": "4ba40c4b",
   "metadata": {},
   "outputs": [
    {
     "data": {
      "application/vnd.plotly.v1+json": {
       "config": {
        "plotlyServerURL": "https://plot.ly"
       },
       "data": [
        {
         "branchvalues": "total",
         "customdata": [
          [
           220.0206875,
           301,
           "US"
          ],
          [
           251.9249167,
           278,
           "US"
          ],
          [
           187.2457143,
           311,
           "US"
          ],
          [
           215.817875,
           359,
           "US"
          ],
          [
           241.0133333,
           296,
           "US"
          ],
          [
           267.5333333,
           293,
           "US"
          ],
          [
           391.37625,
           381,
           "US"
          ],
          [
           232.5710833,
           360,
           "US"
          ],
          [
           228.345034,
           313,
           "UK"
          ],
          [
           221.0075417,
           345,
           "UK"
          ],
          [
           249.359093,
           304,
           "Jamaica"
          ],
          [
           201.9207256,
           294,
           "US"
          ],
          [
           175.078458,
           306,
           "UK"
          ],
          [
           232.8613333,
           281,
           "US"
          ],
          [
           195.5004167,
           360,
           "US"
          ],
          [
           138.727625,
           355,
           "US"
          ],
          [
           253.1787755,
           336,
           "US"
          ],
          [
           216.1777778,
           360,
           "US"
          ],
          [
           200.2953288,
           289,
           "US"
          ],
          [
           267.1689792,
           323,
           "US"
          ],
          [
           297.7959184,
           359,
           "US"
          ],
          [
           198.8693333,
           318,
           "US"
          ],
          [
           309.2549792,
           338,
           "UK"
          ],
          [
           287.1118367,
           363,
           "UK"
          ],
          [
           234.1035828,
           342,
           "US"
          ],
          [
           177.5513958,
           354,
           "US"
          ],
          [
           233.6653061,
           283,
           "UK"
          ],
          [
           199.3549375,
           320,
           "Canada"
          ],
          [
           295.938322,
           287,
           "US"
          ],
          [
           254.1656236,
           342,
           "US"
          ],
          [
           512.1393197,
           326,
           "US"
          ],
          [
           229.9820417,
           287,
           "Canada"
          ],
          [
           233.7552834,
           281,
           "Canada"
          ],
          [
           241.1160208,
           302,
           "US"
          ],
          [
           221.0075283,
           288,
           "US"
          ],
          [
           260.8297708,
           282,
           "UK"
          ],
          [
           354,
           318,
           "UK"
          ],
          [
           260.76,
           318,
           "US"
          ],
          [
           231.8860833,
           306,
           "US"
          ],
          [
           193.3866667,
           328,
           "US"
          ],
          [
           209.5833107,
           338,
           "UK"
          ],
          [
           202.6637642,
           326,
           "US"
          ],
          [
           215.2954195,
           328,
           "US"
          ],
          [
           322.8386458,
           316,
           "US"
          ],
          [
           213.0895238,
           287,
           "US"
          ],
          [
           270.4428125,
           339,
           "US"
          ],
          [
           245.481375,
           351,
           "US"
          ],
          [
           236.4139792,
           350,
           "US"
          ],
          [
           266.1466667,
           334,
           "UK"
          ],
          [
           221.4603333,
           293,
           "US"
          ],
          [
           287.1118367,
           363,
           "UK"
          ],
          [
           322.8386458,
           316,
           "US"
          ],
          [
           193.3866667,
           328,
           "US"
          ],
          [
           213.0895238,
           287,
           "US"
          ],
          [
           177.5513958,
           354,
           "US"
          ],
          [
           249.359093,
           304,
           "Jamaica"
          ],
          [
           198.8693333,
           318,
           "US"
          ],
          [
           220.0206875,
           301,
           "US"
          ],
          [
           251.9249167,
           278,
           "US"
          ],
          [
           309.2549792,
           338,
           "UK"
          ],
          [
           233.7552834,
           281,
           "Canada"
          ],
          [
           187.2457143,
           311,
           "US"
          ],
          [
           267.5333333,
           293,
           "US"
          ],
          [
           512.1393197,
           326,
           "US"
          ],
          [
           391.37625,
           381,
           "US"
          ],
          [
           266.1466667,
           334,
           "UK"
          ],
          [
           253.1787755,
           336,
           "US"
          ],
          [
           241.0133333,
           296,
           "US"
          ],
          [
           260.76,
           318,
           "US"
          ],
          [
           236.4139792,
           350,
           "US"
          ],
          [
           231.8860833,
           306,
           "US"
          ],
          [
           245.481375,
           351,
           "US"
          ],
          [
           195.5004167,
           360,
           "US"
          ],
          [
           "(?)",
           "(?)",
           "Canada"
          ],
          [
           221.0075283,
           288,
           "US"
          ],
          [
           232.8613333,
           281,
           "US"
          ],
          [
           215.817875,
           359,
           "US"
          ],
          [
           260.8297708,
           282,
           "UK"
          ],
          [
           138.727625,
           355,
           "US"
          ],
          [
           267.1689792,
           323,
           "US"
          ],
          [
           221.4603333,
           293,
           "US"
          ],
          [
           200.2953288,
           289,
           "US"
          ],
          [
           297.7959184,
           359,
           "US"
          ],
          [
           254.1656236,
           342,
           "US"
          ],
          [
           232.5710833,
           360,
           "US"
          ],
          [
           "(?)",
           "(?)",
           "UK"
          ],
          [
           241.1160208,
           302,
           "US"
          ],
          [
           201.9207256,
           294,
           "US"
          ],
          [
           221.0075417,
           345,
           "UK"
          ],
          [
           175.078458,
           306,
           "UK"
          ],
          [
           295.938322,
           287,
           "US"
          ],
          [
           202.6637642,
           326,
           "US"
          ],
          [
           234.1035828,
           342,
           "US"
          ],
          [
           228.345034,
           313,
           "UK"
          ],
          [
           215.2954195,
           328,
           "US"
          ],
          [
           270.4428125,
           339,
           "US"
          ],
          [
           216.1777778,
           360,
           "US"
          ],
          [
           "(?)",
           "(?)",
           "US"
          ],
          [
           "(?)",
           "(?)",
           "Canada"
          ],
          [
           "(?)",
           "(?)",
           "UK"
          ],
          [
           "(?)",
           "(?)",
           "US"
          ],
          [
           "(?)",
           "(?)",
           "US"
          ],
          [
           249.359093,
           304,
           "Jamaica"
          ],
          [
           "(?)",
           "(?)",
           "UK"
          ],
          [
           "(?)",
           "(?)",
           "US"
          ],
          [
           "(?)",
           "(?)",
           "US"
          ],
          [
           "(?)",
           "(?)",
           "Canada"
          ],
          [
           249.359093,
           304,
           "Jamaica"
          ],
          [
           "(?)",
           "(?)",
           "UK"
          ],
          [
           "(?)",
           "(?)",
           "US"
          ]
         ],
         "domain": {
          "x": [
           0,
           1
          ],
          "y": [
           0,
           1
          ]
         },
         "hovertemplate": "<b>%{hovertext}</b><br><br>labels=%{label}<br>count=%{value}<br>parent=%{parent}<br>id=%{id}<br>Length=%{customdata[0]}<br>Score=%{customdata[1]}<br>Origin=%{customdata[2]}<extra></extra>",
         "hovertext": [
          "Just the Way You Are",
          "With You",
          "This Is Me",
          "Shallow",
          "Nothing's Gonna Change My Love for You",
          "Say My Name",
          "Hotel California",
          "Hey There Delilah",
          "Every Breath You Take",
          "Chasing Cars",
          "Livin' On A Prayer",
          "All Star",
          "Wannabe",
          "Use Somebody",
          "Take Me Home, Country Roads",
          "What A Wonderful World",
          "Pumped Up Kicks",
          "Rewrite The Stars",
          "Sweet Caroline",
          "She Will Be Loved",
          "Smells Like Teen Spirit",
          "Toxic",
          "The Scientist",
          "Someone Like You",
          "Love Story",
          "Stand by Me",
          "Under Pressure",
          "Sorry",
          "Africa",
          "Let Her Go",
          "American Pie",
          "As Long As You Love Me",
          "Bad Day",
          "Beautiful Girls",
          "Because of You",
          "Bleeding Love",
          "Bohemian Rhapsody",
          "Boulevard of Broken Dreams",
          "Let It Go",
          "Can't Take My Eyes Off You",
          "Don't Stop Me Now",
          "Dynamite",
          "Hey, Soul Sister",
          "I Don't Want to Miss a Thing",
          "I Want It That Way",
          "I Will Always Love You",
          "I'm Yours",
          "Just the Two of Us",
          "Don't Go Breaking My Heart",
          "Wrecking Ball",
          "Someone Like You",
          "I Don't Want to Miss a Thing",
          "Can't Take My Eyes Off You",
          "I Want It That Way",
          "Stand by Me",
          "Livin' On A Prayer",
          "Toxic",
          "Just the Way You Are",
          "With You",
          "The Scientist",
          "Bad Day",
          "This Is Me",
          "Say My Name",
          "American Pie",
          "Hotel California",
          "Don't Go Breaking My Heart",
          "Pumped Up Kicks",
          "Nothing's Gonna Change My Love for You",
          "Boulevard of Broken Dreams",
          "Just the Two of Us",
          "Let It Go",
          "I'm Yours",
          "Take Me Home, Country Roads",
          "(?)",
          "Because of You",
          "Use Somebody",
          "Shallow",
          "Bleeding Love",
          "What A Wonderful World",
          "She Will Be Loved",
          "Wrecking Ball",
          "Sweet Caroline",
          "Smells Like Teen Spirit",
          "Let Her Go",
          "Hey There Delilah",
          "(?)",
          "Beautiful Girls",
          "All Star",
          "Chasing Cars",
          "Wannabe",
          "Africa",
          "Dynamite",
          "Love Story",
          "Every Breath You Take",
          "Hey, Soul Sister",
          "I Will Always Love You",
          "Rewrite The Stars",
          "(?)",
          "(?)",
          "(?)",
          "(?)",
          "(?)",
          "Livin' On A Prayer",
          "(?)",
          "(?)",
          "(?)",
          "(?)",
          "Livin' On A Prayer",
          "(?)",
          "(?)"
         ],
         "ids": [
          "US/Pop/Bruno Mars/Just the Way You Are",
          "US/R&B/Chris Brown/With You",
          "US/Soundtrack/Demi Lovato/This Is Me",
          "US/Soundtrack/Lady Gaga/Shallow",
          "US/R&B/George Benson/Nothing's Gonna Change My Love for You",
          "US/R&B/Destiny's Child/Say My Name",
          "US/Rock/Eagles/Hotel California",
          "US/Pop/Plain White T's/Hey There Delilah",
          "UK/Rock/The Police/Every Breath You Take",
          "UK/Rock/Snow Patrol/Chasing Cars",
          "Jamaica/Rock/Bon Jovi/Livin' On A Prayer",
          "US/Rock/Smash Mouth/All Star",
          "UK/Pop/Spice Girls/Wannabe",
          "US/Rock/Kings of Leon/Use Somebody",
          "US/Country/John Denver/Take Me Home, Country Roads",
          "US/R&B/Louis Armstrong/What A Wonderful World",
          "US/Rock/Foster The People/Pumped Up Kicks",
          "US/Soundtrack/Zac Efron/Rewrite The Stars",
          "US/Rock/Neil Diamond/Sweet Caroline",
          "US/Rock/Maroon 5/She Will Be Loved",
          "US/Rock/Nirvana/Smells Like Teen Spirit",
          "US/Pop/Britney Spears/Toxic",
          "UK/Rock/Coldplay/The Scientist",
          "UK/Pop/Adele/Someone Like You",
          "US/Country/Taylor Swift/Love Story",
          "US/R&B/Ben E. King/Stand by Me",
          "UK/Rock/Queen/Under Pressure",
          "Canada/Pop/Justin Bieber/Sorry",
          "US/Rock/TOTO/Africa",
          "US/Rock/Passenger/Let Her Go",
          "US/Rock/Don McLean/American Pie",
          "Canada/Pop/Justin Bieber/As Long As You Love Me",
          "Canada/Pop/Daniel Powter/Bad Day",
          "US/R&B/Sean Kingston/Beautiful Girls",
          "US/Pop/Kelly Clarkson/Because of You",
          "UK/Pop/Leona Lewis/Bleeding Love",
          "UK/Rock/Queen/Bohemian Rhapsody",
          "US/Rock/Green Day/Boulevard of Broken Dreams",
          "US/Soundtrack/Idina Menzel/Let It Go",
          "US/Pop/Andy Williams/Can't Take My Eyes Off You",
          "UK/Rock/Queen/Don't Stop Me Now",
          "US/Pop/Taio Cruz/Dynamite",
          "US/Pop/Train/Hey, Soul Sister",
          "US/Rock/Aerosmith/I Don't Want to Miss a Thing",
          "US/Pop/Backstreet Boys/I Want It That Way",
          "US/R&B/Whitney Houston/I Will Always Love You",
          "US/Pop/Jason Mraz/I'm Yours",
          "US/R&B/Grover Washington Jr./Just the Two of Us",
          "UK/Pop/Elton John/Don't Go Breaking My Heart",
          "US/Pop/Miley Cyrus/Wrecking Ball",
          "UK/Pop/Adele",
          "US/Rock/Aerosmith",
          "US/Pop/Andy Williams",
          "US/Pop/Backstreet Boys",
          "US/R&B/Ben E. King",
          "Jamaica/Rock/Bon Jovi",
          "US/Pop/Britney Spears",
          "US/Pop/Bruno Mars",
          "US/R&B/Chris Brown",
          "UK/Rock/Coldplay",
          "Canada/Pop/Daniel Powter",
          "US/Soundtrack/Demi Lovato",
          "US/R&B/Destiny's Child",
          "US/Rock/Don McLean",
          "US/Rock/Eagles",
          "UK/Pop/Elton John",
          "US/Rock/Foster The People",
          "US/R&B/George Benson",
          "US/Rock/Green Day",
          "US/R&B/Grover Washington Jr.",
          "US/Soundtrack/Idina Menzel",
          "US/Pop/Jason Mraz",
          "US/Country/John Denver",
          "Canada/Pop/Justin Bieber",
          "US/Pop/Kelly Clarkson",
          "US/Rock/Kings of Leon",
          "US/Soundtrack/Lady Gaga",
          "UK/Pop/Leona Lewis",
          "US/R&B/Louis Armstrong",
          "US/Rock/Maroon 5",
          "US/Pop/Miley Cyrus",
          "US/Rock/Neil Diamond",
          "US/Rock/Nirvana",
          "US/Rock/Passenger",
          "US/Pop/Plain White T's",
          "UK/Rock/Queen",
          "US/R&B/Sean Kingston",
          "US/Rock/Smash Mouth",
          "UK/Rock/Snow Patrol",
          "UK/Pop/Spice Girls",
          "US/Rock/TOTO",
          "US/Pop/Taio Cruz",
          "US/Country/Taylor Swift",
          "UK/Rock/The Police",
          "US/Pop/Train",
          "US/R&B/Whitney Houston",
          "US/Soundtrack/Zac Efron",
          "US/Country",
          "Canada/Pop",
          "UK/Pop",
          "US/Pop",
          "US/R&B",
          "Jamaica/Rock",
          "UK/Rock",
          "US/Rock",
          "US/Soundtrack",
          "Canada",
          "Jamaica",
          "UK",
          "US"
         ],
         "labels": [
          "Just the Way You Are",
          "With You",
          "This Is Me",
          "Shallow",
          "Nothing's Gonna Change My Love for You",
          "Say My Name",
          "Hotel California",
          "Hey There Delilah",
          "Every Breath You Take",
          "Chasing Cars",
          "Livin' On A Prayer",
          "All Star",
          "Wannabe",
          "Use Somebody",
          "Take Me Home, Country Roads",
          "What A Wonderful World",
          "Pumped Up Kicks",
          "Rewrite The Stars",
          "Sweet Caroline",
          "She Will Be Loved",
          "Smells Like Teen Spirit",
          "Toxic",
          "The Scientist",
          "Someone Like You",
          "Love Story",
          "Stand by Me",
          "Under Pressure",
          "Sorry",
          "Africa",
          "Let Her Go",
          "American Pie",
          "As Long As You Love Me",
          "Bad Day",
          "Beautiful Girls",
          "Because of You",
          "Bleeding Love",
          "Bohemian Rhapsody",
          "Boulevard of Broken Dreams",
          "Let It Go",
          "Can't Take My Eyes Off You",
          "Don't Stop Me Now",
          "Dynamite",
          "Hey, Soul Sister",
          "I Don't Want to Miss a Thing",
          "I Want It That Way",
          "I Will Always Love You",
          "I'm Yours",
          "Just the Two of Us",
          "Don't Go Breaking My Heart",
          "Wrecking Ball",
          "Adele",
          "Aerosmith",
          "Andy Williams",
          "Backstreet Boys",
          "Ben E. King",
          "Bon Jovi",
          "Britney Spears",
          "Bruno Mars",
          "Chris Brown",
          "Coldplay",
          "Daniel Powter",
          "Demi Lovato",
          "Destiny's Child",
          "Don McLean",
          "Eagles",
          "Elton John",
          "Foster The People",
          "George Benson",
          "Green Day",
          "Grover Washington Jr.",
          "Idina Menzel",
          "Jason Mraz",
          "John Denver",
          "Justin Bieber",
          "Kelly Clarkson",
          "Kings of Leon",
          "Lady Gaga",
          "Leona Lewis",
          "Louis Armstrong",
          "Maroon 5",
          "Miley Cyrus",
          "Neil Diamond",
          "Nirvana",
          "Passenger",
          "Plain White T's",
          "Queen",
          "Sean Kingston",
          "Smash Mouth",
          "Snow Patrol",
          "Spice Girls",
          "TOTO",
          "Taio Cruz",
          "Taylor Swift",
          "The Police",
          "Train",
          "Whitney Houston",
          "Zac Efron",
          "Country",
          "Pop",
          "Pop",
          "Pop",
          "R&B",
          "Rock",
          "Rock",
          "Rock",
          "Soundtrack",
          "Canada",
          "Jamaica",
          "UK",
          "US"
         ],
         "marker": {
          "colors": [
           "#FF6692",
           "#FF6692",
           "#FF6692",
           "#FF6692",
           "#FF6692",
           "#FF6692",
           "#FF6692",
           "#FF6692",
           "#B6E880",
           "#B6E880",
           "#FF97FF",
           "#FF6692",
           "#B6E880",
           "#FF6692",
           "#FF6692",
           "#FF6692",
           "#FF6692",
           "#FF6692",
           "#FF6692",
           "#FF6692",
           "#FF6692",
           "#FF6692",
           "#B6E880",
           "#B6E880",
           "#FF6692",
           "#FF6692",
           "#B6E880",
           "#FECB52",
           "#FF6692",
           "#FF6692",
           "#FF6692",
           "#FECB52",
           "#FECB52",
           "#FF6692",
           "#FF6692",
           "#B6E880",
           "#B6E880",
           "#FF6692",
           "#FF6692",
           "#FF6692",
           "#B6E880",
           "#FF6692",
           "#FF6692",
           "#FF6692",
           "#FF6692",
           "#FF6692",
           "#FF6692",
           "#FF6692",
           "#B6E880",
           "#FF6692",
           "#B6E880",
           "#FF6692",
           "#FF6692",
           "#FF6692",
           "#FF6692",
           "#FF97FF",
           "#FF6692",
           "#FF6692",
           "#FF6692",
           "#B6E880",
           "#FECB52",
           "#FF6692",
           "#FF6692",
           "#FF6692",
           "#FF6692",
           "#B6E880",
           "#FF6692",
           "#FF6692",
           "#FF6692",
           "#FF6692",
           "#FF6692",
           "#FF6692",
           "#FF6692",
           "#FECB52",
           "#FF6692",
           "#FF6692",
           "#FF6692",
           "#B6E880",
           "#FF6692",
           "#FF6692",
           "#FF6692",
           "#FF6692",
           "#FF6692",
           "#FF6692",
           "#FF6692",
           "#B6E880",
           "#FF6692",
           "#FF6692",
           "#B6E880",
           "#B6E880",
           "#FF6692",
           "#FF6692",
           "#FF6692",
           "#B6E880",
           "#FF6692",
           "#FF6692",
           "#FF6692",
           "#FF6692",
           "#FECB52",
           "#B6E880",
           "#FF6692",
           "#FF6692",
           "#FF97FF",
           "#B6E880",
           "#FF6692",
           "#FF6692",
           "#FECB52",
           "#FF97FF",
           "#B6E880",
           "#FF6692"
          ]
         },
         "name": "",
         "parents": [
          "US/Pop/Bruno Mars",
          "US/R&B/Chris Brown",
          "US/Soundtrack/Demi Lovato",
          "US/Soundtrack/Lady Gaga",
          "US/R&B/George Benson",
          "US/R&B/Destiny's Child",
          "US/Rock/Eagles",
          "US/Pop/Plain White T's",
          "UK/Rock/The Police",
          "UK/Rock/Snow Patrol",
          "Jamaica/Rock/Bon Jovi",
          "US/Rock/Smash Mouth",
          "UK/Pop/Spice Girls",
          "US/Rock/Kings of Leon",
          "US/Country/John Denver",
          "US/R&B/Louis Armstrong",
          "US/Rock/Foster The People",
          "US/Soundtrack/Zac Efron",
          "US/Rock/Neil Diamond",
          "US/Rock/Maroon 5",
          "US/Rock/Nirvana",
          "US/Pop/Britney Spears",
          "UK/Rock/Coldplay",
          "UK/Pop/Adele",
          "US/Country/Taylor Swift",
          "US/R&B/Ben E. King",
          "UK/Rock/Queen",
          "Canada/Pop/Justin Bieber",
          "US/Rock/TOTO",
          "US/Rock/Passenger",
          "US/Rock/Don McLean",
          "Canada/Pop/Justin Bieber",
          "Canada/Pop/Daniel Powter",
          "US/R&B/Sean Kingston",
          "US/Pop/Kelly Clarkson",
          "UK/Pop/Leona Lewis",
          "UK/Rock/Queen",
          "US/Rock/Green Day",
          "US/Soundtrack/Idina Menzel",
          "US/Pop/Andy Williams",
          "UK/Rock/Queen",
          "US/Pop/Taio Cruz",
          "US/Pop/Train",
          "US/Rock/Aerosmith",
          "US/Pop/Backstreet Boys",
          "US/R&B/Whitney Houston",
          "US/Pop/Jason Mraz",
          "US/R&B/Grover Washington Jr.",
          "UK/Pop/Elton John",
          "US/Pop/Miley Cyrus",
          "UK/Pop",
          "US/Rock",
          "US/Pop",
          "US/Pop",
          "US/R&B",
          "Jamaica/Rock",
          "US/Pop",
          "US/Pop",
          "US/R&B",
          "UK/Rock",
          "Canada/Pop",
          "US/Soundtrack",
          "US/R&B",
          "US/Rock",
          "US/Rock",
          "UK/Pop",
          "US/Rock",
          "US/R&B",
          "US/Rock",
          "US/R&B",
          "US/Soundtrack",
          "US/Pop",
          "US/Country",
          "Canada/Pop",
          "US/Pop",
          "US/Rock",
          "US/Soundtrack",
          "UK/Pop",
          "US/R&B",
          "US/Rock",
          "US/Pop",
          "US/Rock",
          "US/Rock",
          "US/Rock",
          "US/Pop",
          "UK/Rock",
          "US/R&B",
          "US/Rock",
          "UK/Rock",
          "UK/Pop",
          "US/Rock",
          "US/Pop",
          "US/Country",
          "UK/Rock",
          "US/Pop",
          "US/R&B",
          "US/Soundtrack",
          "US",
          "Canada",
          "UK",
          "US",
          "US",
          "Jamaica",
          "UK",
          "US",
          "US",
          "",
          "",
          "",
          ""
         ],
         "type": "sunburst",
         "values": [
          1,
          1,
          1,
          1,
          1,
          1,
          1,
          1,
          1,
          1,
          1,
          1,
          1,
          1,
          1,
          1,
          1,
          1,
          1,
          1,
          1,
          1,
          1,
          1,
          1,
          1,
          1,
          1,
          1,
          1,
          1,
          1,
          1,
          1,
          1,
          1,
          1,
          1,
          1,
          1,
          1,
          1,
          1,
          1,
          1,
          1,
          1,
          1,
          1,
          1,
          1,
          1,
          1,
          1,
          1,
          1,
          1,
          1,
          1,
          1,
          1,
          1,
          1,
          1,
          1,
          1,
          1,
          1,
          1,
          1,
          1,
          1,
          1,
          2,
          1,
          1,
          1,
          1,
          1,
          1,
          1,
          1,
          1,
          1,
          1,
          3,
          1,
          1,
          1,
          1,
          1,
          1,
          1,
          1,
          1,
          1,
          1,
          2,
          3,
          4,
          10,
          8,
          1,
          6,
          12,
          4,
          3,
          1,
          10,
          36
         ]
        }
       ],
       "layout": {
        "legend": {
         "tracegroupgap": 0
        },
        "margin": {
         "t": 60
        },
        "template": {
         "data": {
          "bar": [
           {
            "error_x": {
             "color": "#2a3f5f"
            },
            "error_y": {
             "color": "#2a3f5f"
            },
            "marker": {
             "line": {
              "color": "#E5ECF6",
              "width": 0.5
             },
             "pattern": {
              "fillmode": "overlay",
              "size": 10,
              "solidity": 0.2
             }
            },
            "type": "bar"
           }
          ],
          "barpolar": [
           {
            "marker": {
             "line": {
              "color": "#E5ECF6",
              "width": 0.5
             },
             "pattern": {
              "fillmode": "overlay",
              "size": 10,
              "solidity": 0.2
             }
            },
            "type": "barpolar"
           }
          ],
          "carpet": [
           {
            "aaxis": {
             "endlinecolor": "#2a3f5f",
             "gridcolor": "white",
             "linecolor": "white",
             "minorgridcolor": "white",
             "startlinecolor": "#2a3f5f"
            },
            "baxis": {
             "endlinecolor": "#2a3f5f",
             "gridcolor": "white",
             "linecolor": "white",
             "minorgridcolor": "white",
             "startlinecolor": "#2a3f5f"
            },
            "type": "carpet"
           }
          ],
          "choropleth": [
           {
            "colorbar": {
             "outlinewidth": 0,
             "ticks": ""
            },
            "type": "choropleth"
           }
          ],
          "contour": [
           {
            "colorbar": {
             "outlinewidth": 0,
             "ticks": ""
            },
            "colorscale": [
             [
              0,
              "#0d0887"
             ],
             [
              0.1111111111111111,
              "#46039f"
             ],
             [
              0.2222222222222222,
              "#7201a8"
             ],
             [
              0.3333333333333333,
              "#9c179e"
             ],
             [
              0.4444444444444444,
              "#bd3786"
             ],
             [
              0.5555555555555556,
              "#d8576b"
             ],
             [
              0.6666666666666666,
              "#ed7953"
             ],
             [
              0.7777777777777778,
              "#fb9f3a"
             ],
             [
              0.8888888888888888,
              "#fdca26"
             ],
             [
              1,
              "#f0f921"
             ]
            ],
            "type": "contour"
           }
          ],
          "contourcarpet": [
           {
            "colorbar": {
             "outlinewidth": 0,
             "ticks": ""
            },
            "type": "contourcarpet"
           }
          ],
          "heatmap": [
           {
            "colorbar": {
             "outlinewidth": 0,
             "ticks": ""
            },
            "colorscale": [
             [
              0,
              "#0d0887"
             ],
             [
              0.1111111111111111,
              "#46039f"
             ],
             [
              0.2222222222222222,
              "#7201a8"
             ],
             [
              0.3333333333333333,
              "#9c179e"
             ],
             [
              0.4444444444444444,
              "#bd3786"
             ],
             [
              0.5555555555555556,
              "#d8576b"
             ],
             [
              0.6666666666666666,
              "#ed7953"
             ],
             [
              0.7777777777777778,
              "#fb9f3a"
             ],
             [
              0.8888888888888888,
              "#fdca26"
             ],
             [
              1,
              "#f0f921"
             ]
            ],
            "type": "heatmap"
           }
          ],
          "heatmapgl": [
           {
            "colorbar": {
             "outlinewidth": 0,
             "ticks": ""
            },
            "colorscale": [
             [
              0,
              "#0d0887"
             ],
             [
              0.1111111111111111,
              "#46039f"
             ],
             [
              0.2222222222222222,
              "#7201a8"
             ],
             [
              0.3333333333333333,
              "#9c179e"
             ],
             [
              0.4444444444444444,
              "#bd3786"
             ],
             [
              0.5555555555555556,
              "#d8576b"
             ],
             [
              0.6666666666666666,
              "#ed7953"
             ],
             [
              0.7777777777777778,
              "#fb9f3a"
             ],
             [
              0.8888888888888888,
              "#fdca26"
             ],
             [
              1,
              "#f0f921"
             ]
            ],
            "type": "heatmapgl"
           }
          ],
          "histogram": [
           {
            "marker": {
             "pattern": {
              "fillmode": "overlay",
              "size": 10,
              "solidity": 0.2
             }
            },
            "type": "histogram"
           }
          ],
          "histogram2d": [
           {
            "colorbar": {
             "outlinewidth": 0,
             "ticks": ""
            },
            "colorscale": [
             [
              0,
              "#0d0887"
             ],
             [
              0.1111111111111111,
              "#46039f"
             ],
             [
              0.2222222222222222,
              "#7201a8"
             ],
             [
              0.3333333333333333,
              "#9c179e"
             ],
             [
              0.4444444444444444,
              "#bd3786"
             ],
             [
              0.5555555555555556,
              "#d8576b"
             ],
             [
              0.6666666666666666,
              "#ed7953"
             ],
             [
              0.7777777777777778,
              "#fb9f3a"
             ],
             [
              0.8888888888888888,
              "#fdca26"
             ],
             [
              1,
              "#f0f921"
             ]
            ],
            "type": "histogram2d"
           }
          ],
          "histogram2dcontour": [
           {
            "colorbar": {
             "outlinewidth": 0,
             "ticks": ""
            },
            "colorscale": [
             [
              0,
              "#0d0887"
             ],
             [
              0.1111111111111111,
              "#46039f"
             ],
             [
              0.2222222222222222,
              "#7201a8"
             ],
             [
              0.3333333333333333,
              "#9c179e"
             ],
             [
              0.4444444444444444,
              "#bd3786"
             ],
             [
              0.5555555555555556,
              "#d8576b"
             ],
             [
              0.6666666666666666,
              "#ed7953"
             ],
             [
              0.7777777777777778,
              "#fb9f3a"
             ],
             [
              0.8888888888888888,
              "#fdca26"
             ],
             [
              1,
              "#f0f921"
             ]
            ],
            "type": "histogram2dcontour"
           }
          ],
          "mesh3d": [
           {
            "colorbar": {
             "outlinewidth": 0,
             "ticks": ""
            },
            "type": "mesh3d"
           }
          ],
          "parcoords": [
           {
            "line": {
             "colorbar": {
              "outlinewidth": 0,
              "ticks": ""
             }
            },
            "type": "parcoords"
           }
          ],
          "pie": [
           {
            "automargin": true,
            "type": "pie"
           }
          ],
          "scatter": [
           {
            "fillpattern": {
             "fillmode": "overlay",
             "size": 10,
             "solidity": 0.2
            },
            "type": "scatter"
           }
          ],
          "scatter3d": [
           {
            "line": {
             "colorbar": {
              "outlinewidth": 0,
              "ticks": ""
             }
            },
            "marker": {
             "colorbar": {
              "outlinewidth": 0,
              "ticks": ""
             }
            },
            "type": "scatter3d"
           }
          ],
          "scattercarpet": [
           {
            "marker": {
             "colorbar": {
              "outlinewidth": 0,
              "ticks": ""
             }
            },
            "type": "scattercarpet"
           }
          ],
          "scattergeo": [
           {
            "marker": {
             "colorbar": {
              "outlinewidth": 0,
              "ticks": ""
             }
            },
            "type": "scattergeo"
           }
          ],
          "scattergl": [
           {
            "marker": {
             "colorbar": {
              "outlinewidth": 0,
              "ticks": ""
             }
            },
            "type": "scattergl"
           }
          ],
          "scattermapbox": [
           {
            "marker": {
             "colorbar": {
              "outlinewidth": 0,
              "ticks": ""
             }
            },
            "type": "scattermapbox"
           }
          ],
          "scatterpolar": [
           {
            "marker": {
             "colorbar": {
              "outlinewidth": 0,
              "ticks": ""
             }
            },
            "type": "scatterpolar"
           }
          ],
          "scatterpolargl": [
           {
            "marker": {
             "colorbar": {
              "outlinewidth": 0,
              "ticks": ""
             }
            },
            "type": "scatterpolargl"
           }
          ],
          "scatterternary": [
           {
            "marker": {
             "colorbar": {
              "outlinewidth": 0,
              "ticks": ""
             }
            },
            "type": "scatterternary"
           }
          ],
          "surface": [
           {
            "colorbar": {
             "outlinewidth": 0,
             "ticks": ""
            },
            "colorscale": [
             [
              0,
              "#0d0887"
             ],
             [
              0.1111111111111111,
              "#46039f"
             ],
             [
              0.2222222222222222,
              "#7201a8"
             ],
             [
              0.3333333333333333,
              "#9c179e"
             ],
             [
              0.4444444444444444,
              "#bd3786"
             ],
             [
              0.5555555555555556,
              "#d8576b"
             ],
             [
              0.6666666666666666,
              "#ed7953"
             ],
             [
              0.7777777777777778,
              "#fb9f3a"
             ],
             [
              0.8888888888888888,
              "#fdca26"
             ],
             [
              1,
              "#f0f921"
             ]
            ],
            "type": "surface"
           }
          ],
          "table": [
           {
            "cells": {
             "fill": {
              "color": "#EBF0F8"
             },
             "line": {
              "color": "white"
             }
            },
            "header": {
             "fill": {
              "color": "#C8D4E3"
             },
             "line": {
              "color": "white"
             }
            },
            "type": "table"
           }
          ]
         },
         "layout": {
          "annotationdefaults": {
           "arrowcolor": "#2a3f5f",
           "arrowhead": 0,
           "arrowwidth": 1
          },
          "autotypenumbers": "strict",
          "coloraxis": {
           "colorbar": {
            "outlinewidth": 0,
            "ticks": ""
           }
          },
          "colorscale": {
           "diverging": [
            [
             0,
             "#8e0152"
            ],
            [
             0.1,
             "#c51b7d"
            ],
            [
             0.2,
             "#de77ae"
            ],
            [
             0.3,
             "#f1b6da"
            ],
            [
             0.4,
             "#fde0ef"
            ],
            [
             0.5,
             "#f7f7f7"
            ],
            [
             0.6,
             "#e6f5d0"
            ],
            [
             0.7,
             "#b8e186"
            ],
            [
             0.8,
             "#7fbc41"
            ],
            [
             0.9,
             "#4d9221"
            ],
            [
             1,
             "#276419"
            ]
           ],
           "sequential": [
            [
             0,
             "#0d0887"
            ],
            [
             0.1111111111111111,
             "#46039f"
            ],
            [
             0.2222222222222222,
             "#7201a8"
            ],
            [
             0.3333333333333333,
             "#9c179e"
            ],
            [
             0.4444444444444444,
             "#bd3786"
            ],
            [
             0.5555555555555556,
             "#d8576b"
            ],
            [
             0.6666666666666666,
             "#ed7953"
            ],
            [
             0.7777777777777778,
             "#fb9f3a"
            ],
            [
             0.8888888888888888,
             "#fdca26"
            ],
            [
             1,
             "#f0f921"
            ]
           ],
           "sequentialminus": [
            [
             0,
             "#0d0887"
            ],
            [
             0.1111111111111111,
             "#46039f"
            ],
            [
             0.2222222222222222,
             "#7201a8"
            ],
            [
             0.3333333333333333,
             "#9c179e"
            ],
            [
             0.4444444444444444,
             "#bd3786"
            ],
            [
             0.5555555555555556,
             "#d8576b"
            ],
            [
             0.6666666666666666,
             "#ed7953"
            ],
            [
             0.7777777777777778,
             "#fb9f3a"
            ],
            [
             0.8888888888888888,
             "#fdca26"
            ],
            [
             1,
             "#f0f921"
            ]
           ]
          },
          "colorway": [
           "#636efa",
           "#EF553B",
           "#00cc96",
           "#ab63fa",
           "#FFA15A",
           "#19d3f3",
           "#FF6692",
           "#B6E880",
           "#FF97FF",
           "#FECB52"
          ],
          "font": {
           "color": "#2a3f5f"
          },
          "geo": {
           "bgcolor": "white",
           "lakecolor": "white",
           "landcolor": "#E5ECF6",
           "showlakes": true,
           "showland": true,
           "subunitcolor": "white"
          },
          "hoverlabel": {
           "align": "left"
          },
          "hovermode": "closest",
          "mapbox": {
           "style": "light"
          },
          "paper_bgcolor": "white",
          "plot_bgcolor": "#E5ECF6",
          "polar": {
           "angularaxis": {
            "gridcolor": "white",
            "linecolor": "white",
            "ticks": ""
           },
           "bgcolor": "#E5ECF6",
           "radialaxis": {
            "gridcolor": "white",
            "linecolor": "white",
            "ticks": ""
           }
          },
          "scene": {
           "xaxis": {
            "backgroundcolor": "#E5ECF6",
            "gridcolor": "white",
            "gridwidth": 2,
            "linecolor": "white",
            "showbackground": true,
            "ticks": "",
            "zerolinecolor": "white"
           },
           "yaxis": {
            "backgroundcolor": "#E5ECF6",
            "gridcolor": "white",
            "gridwidth": 2,
            "linecolor": "white",
            "showbackground": true,
            "ticks": "",
            "zerolinecolor": "white"
           },
           "zaxis": {
            "backgroundcolor": "#E5ECF6",
            "gridcolor": "white",
            "gridwidth": 2,
            "linecolor": "white",
            "showbackground": true,
            "ticks": "",
            "zerolinecolor": "white"
           }
          },
          "shapedefaults": {
           "line": {
            "color": "#2a3f5f"
           }
          },
          "ternary": {
           "aaxis": {
            "gridcolor": "white",
            "linecolor": "white",
            "ticks": ""
           },
           "baxis": {
            "gridcolor": "white",
            "linecolor": "white",
            "ticks": ""
           },
           "bgcolor": "#E5ECF6",
           "caxis": {
            "gridcolor": "white",
            "linecolor": "white",
            "ticks": ""
           }
          },
          "title": {
           "x": 0.05
          },
          "xaxis": {
           "automargin": true,
           "gridcolor": "white",
           "linecolor": "white",
           "ticks": "",
           "title": {
            "standoff": 15
           },
           "zerolinecolor": "white",
           "zerolinewidth": 2
          },
          "yaxis": {
           "automargin": true,
           "gridcolor": "white",
           "linecolor": "white",
           "ticks": "",
           "title": {
            "standoff": 15
           },
           "zerolinecolor": "white",
           "zerolinewidth": 2
          }
         }
        }
       }
      },
      "text/html": [
       "<div>                            <div id=\"7b091ff2-0c28-4dc3-816f-7e9cc4cafc9a\" class=\"plotly-graph-div\" style=\"height:525px; width:100%;\"></div>            <script type=\"text/javascript\">                require([\"plotly\"], function(Plotly) {                    window.PLOTLYENV=window.PLOTLYENV || {};                                    if (document.getElementById(\"7b091ff2-0c28-4dc3-816f-7e9cc4cafc9a\")) {                    Plotly.newPlot(                        \"7b091ff2-0c28-4dc3-816f-7e9cc4cafc9a\",                        [{\"branchvalues\":\"total\",\"customdata\":[[220.0206875,301,\"US\"],[251.9249167,278,\"US\"],[187.2457143,311,\"US\"],[215.817875,359,\"US\"],[241.0133333,296,\"US\"],[267.5333333,293,\"US\"],[391.37625,381,\"US\"],[232.5710833,360,\"US\"],[228.345034,313,\"UK\"],[221.0075417,345,\"UK\"],[249.359093,304,\"Jamaica\"],[201.9207256,294,\"US\"],[175.078458,306,\"UK\"],[232.8613333,281,\"US\"],[195.5004167,360,\"US\"],[138.727625,355,\"US\"],[253.1787755,336,\"US\"],[216.1777778,360,\"US\"],[200.2953288,289,\"US\"],[267.1689792,323,\"US\"],[297.7959184,359,\"US\"],[198.8693333,318,\"US\"],[309.2549792,338,\"UK\"],[287.1118367,363,\"UK\"],[234.1035828,342,\"US\"],[177.5513958,354,\"US\"],[233.6653061,283,\"UK\"],[199.3549375,320,\"Canada\"],[295.938322,287,\"US\"],[254.1656236,342,\"US\"],[512.1393197,326,\"US\"],[229.9820417,287,\"Canada\"],[233.7552834,281,\"Canada\"],[241.1160208,302,\"US\"],[221.0075283,288,\"US\"],[260.8297708,282,\"UK\"],[354.0,318,\"UK\"],[260.76,318,\"US\"],[231.8860833,306,\"US\"],[193.3866667,328,\"US\"],[209.5833107,338,\"UK\"],[202.6637642,326,\"US\"],[215.2954195,328,\"US\"],[322.8386458,316,\"US\"],[213.0895238,287,\"US\"],[270.4428125,339,\"US\"],[245.481375,351,\"US\"],[236.4139792,350,\"US\"],[266.1466667,334,\"UK\"],[221.4603333,293,\"US\"],[287.1118367,363,\"UK\"],[322.8386458,316,\"US\"],[193.3866667,328,\"US\"],[213.0895238,287,\"US\"],[177.5513958,354,\"US\"],[249.359093,304,\"Jamaica\"],[198.8693333,318,\"US\"],[220.0206875,301,\"US\"],[251.9249167,278,\"US\"],[309.2549792,338,\"UK\"],[233.7552834,281,\"Canada\"],[187.2457143,311,\"US\"],[267.5333333,293,\"US\"],[512.1393197,326,\"US\"],[391.37625,381,\"US\"],[266.1466667,334,\"UK\"],[253.1787755,336,\"US\"],[241.0133333,296,\"US\"],[260.76,318,\"US\"],[236.4139792,350,\"US\"],[231.8860833,306,\"US\"],[245.481375,351,\"US\"],[195.5004167,360,\"US\"],[\"(?)\",\"(?)\",\"Canada\"],[221.0075283,288,\"US\"],[232.8613333,281,\"US\"],[215.817875,359,\"US\"],[260.8297708,282,\"UK\"],[138.727625,355,\"US\"],[267.1689792,323,\"US\"],[221.4603333,293,\"US\"],[200.2953288,289,\"US\"],[297.7959184,359,\"US\"],[254.1656236,342,\"US\"],[232.5710833,360,\"US\"],[\"(?)\",\"(?)\",\"UK\"],[241.1160208,302,\"US\"],[201.9207256,294,\"US\"],[221.0075417,345,\"UK\"],[175.078458,306,\"UK\"],[295.938322,287,\"US\"],[202.6637642,326,\"US\"],[234.1035828,342,\"US\"],[228.345034,313,\"UK\"],[215.2954195,328,\"US\"],[270.4428125,339,\"US\"],[216.1777778,360,\"US\"],[\"(?)\",\"(?)\",\"US\"],[\"(?)\",\"(?)\",\"Canada\"],[\"(?)\",\"(?)\",\"UK\"],[\"(?)\",\"(?)\",\"US\"],[\"(?)\",\"(?)\",\"US\"],[249.359093,304,\"Jamaica\"],[\"(?)\",\"(?)\",\"UK\"],[\"(?)\",\"(?)\",\"US\"],[\"(?)\",\"(?)\",\"US\"],[\"(?)\",\"(?)\",\"Canada\"],[249.359093,304,\"Jamaica\"],[\"(?)\",\"(?)\",\"UK\"],[\"(?)\",\"(?)\",\"US\"]],\"domain\":{\"x\":[0.0,1.0],\"y\":[0.0,1.0]},\"hovertemplate\":\"<b>%{hovertext}</b><br><br>labels=%{label}<br>count=%{value}<br>parent=%{parent}<br>id=%{id}<br>Length=%{customdata[0]}<br>Score=%{customdata[1]}<br>Origin=%{customdata[2]}<extra></extra>\",\"hovertext\":[\"Just the Way You Are\",\"With You\",\"This Is Me\",\"Shallow\",\"Nothing's Gonna Change My Love for You\",\"Say My Name\",\"Hotel California\",\"Hey There Delilah\",\"Every Breath You Take\",\"Chasing Cars\",\"Livin' On A Prayer\",\"All Star\",\"Wannabe\",\"Use Somebody\",\"Take Me Home, Country Roads\",\"What A Wonderful World\",\"Pumped Up Kicks\",\"Rewrite The Stars\",\"Sweet Caroline\",\"She Will Be Loved\",\"Smells Like Teen Spirit\",\"Toxic\",\"The Scientist\",\"Someone Like You\",\"Love Story\",\"Stand by Me\",\"Under Pressure\",\"Sorry\",\"Africa\",\"Let Her Go\",\"American Pie\",\"As Long As You Love Me\",\"Bad Day\",\"Beautiful Girls\",\"Because of You\",\"Bleeding Love\",\"Bohemian Rhapsody\",\"Boulevard of Broken Dreams\",\"Let It Go\",\"Can't Take My Eyes Off You\",\"Don't Stop Me Now\",\"Dynamite\",\"Hey, Soul Sister\",\"I Don't Want to Miss a Thing\",\"I Want It That Way\",\"I Will Always Love You\",\"I'm Yours\",\"Just the Two of Us\",\"Don't Go Breaking My Heart\",\"Wrecking Ball\",\"Someone Like You\",\"I Don't Want to Miss a Thing\",\"Can't Take My Eyes Off You\",\"I Want It That Way\",\"Stand by Me\",\"Livin' On A Prayer\",\"Toxic\",\"Just the Way You Are\",\"With You\",\"The Scientist\",\"Bad Day\",\"This Is Me\",\"Say My Name\",\"American Pie\",\"Hotel California\",\"Don't Go Breaking My Heart\",\"Pumped Up Kicks\",\"Nothing's Gonna Change My Love for You\",\"Boulevard of Broken Dreams\",\"Just the Two of Us\",\"Let It Go\",\"I'm Yours\",\"Take Me Home, Country Roads\",\"(?)\",\"Because of You\",\"Use Somebody\",\"Shallow\",\"Bleeding Love\",\"What A Wonderful World\",\"She Will Be Loved\",\"Wrecking Ball\",\"Sweet Caroline\",\"Smells Like Teen Spirit\",\"Let Her Go\",\"Hey There Delilah\",\"(?)\",\"Beautiful Girls\",\"All Star\",\"Chasing Cars\",\"Wannabe\",\"Africa\",\"Dynamite\",\"Love Story\",\"Every Breath You Take\",\"Hey, Soul Sister\",\"I Will Always Love You\",\"Rewrite The Stars\",\"(?)\",\"(?)\",\"(?)\",\"(?)\",\"(?)\",\"Livin' On A Prayer\",\"(?)\",\"(?)\",\"(?)\",\"(?)\",\"Livin' On A Prayer\",\"(?)\",\"(?)\"],\"ids\":[\"US/Pop/Bruno Mars/Just the Way You Are\",\"US/R&B/Chris Brown/With You\",\"US/Soundtrack/Demi Lovato/This Is Me\",\"US/Soundtrack/Lady Gaga/Shallow\",\"US/R&B/George Benson/Nothing's Gonna Change My Love for You\",\"US/R&B/Destiny's Child/Say My Name\",\"US/Rock/Eagles/Hotel California\",\"US/Pop/Plain White T's/Hey There Delilah\",\"UK/Rock/The Police/Every Breath You Take\",\"UK/Rock/Snow Patrol/Chasing Cars\",\"Jamaica/Rock/Bon Jovi/Livin' On A Prayer\",\"US/Rock/Smash Mouth/All Star\",\"UK/Pop/Spice Girls/Wannabe\",\"US/Rock/Kings of Leon/Use Somebody\",\"US/Country/John Denver/Take Me Home, Country Roads\",\"US/R&B/Louis Armstrong/What A Wonderful World\",\"US/Rock/Foster The People/Pumped Up Kicks\",\"US/Soundtrack/Zac Efron/Rewrite The Stars\",\"US/Rock/Neil Diamond/Sweet Caroline\",\"US/Rock/Maroon 5/She Will Be Loved\",\"US/Rock/Nirvana/Smells Like Teen Spirit\",\"US/Pop/Britney Spears/Toxic\",\"UK/Rock/Coldplay/The Scientist\",\"UK/Pop/Adele/Someone Like You\",\"US/Country/Taylor Swift/Love Story\",\"US/R&B/Ben E. King/Stand by Me\",\"UK/Rock/Queen/Under Pressure\",\"Canada/Pop/Justin Bieber/Sorry\",\"US/Rock/TOTO/Africa\",\"US/Rock/Passenger/Let Her Go\",\"US/Rock/Don McLean/American Pie\",\"Canada/Pop/Justin Bieber/As Long As You Love Me\",\"Canada/Pop/Daniel Powter/Bad Day\",\"US/R&B/Sean Kingston/Beautiful Girls\",\"US/Pop/Kelly Clarkson/Because of You\",\"UK/Pop/Leona Lewis/Bleeding Love\",\"UK/Rock/Queen/Bohemian Rhapsody\",\"US/Rock/Green Day/Boulevard of Broken Dreams\",\"US/Soundtrack/Idina Menzel/Let It Go\",\"US/Pop/Andy Williams/Can't Take My Eyes Off You\",\"UK/Rock/Queen/Don't Stop Me Now\",\"US/Pop/Taio Cruz/Dynamite\",\"US/Pop/Train/Hey, Soul Sister\",\"US/Rock/Aerosmith/I Don't Want to Miss a Thing\",\"US/Pop/Backstreet Boys/I Want It That Way\",\"US/R&B/Whitney Houston/I Will Always Love You\",\"US/Pop/Jason Mraz/I'm Yours\",\"US/R&B/Grover Washington Jr./Just the Two of Us\",\"UK/Pop/Elton John/Don't Go Breaking My Heart\",\"US/Pop/Miley Cyrus/Wrecking Ball\",\"UK/Pop/Adele\",\"US/Rock/Aerosmith\",\"US/Pop/Andy Williams\",\"US/Pop/Backstreet Boys\",\"US/R&B/Ben E. King\",\"Jamaica/Rock/Bon Jovi\",\"US/Pop/Britney Spears\",\"US/Pop/Bruno Mars\",\"US/R&B/Chris Brown\",\"UK/Rock/Coldplay\",\"Canada/Pop/Daniel Powter\",\"US/Soundtrack/Demi Lovato\",\"US/R&B/Destiny's Child\",\"US/Rock/Don McLean\",\"US/Rock/Eagles\",\"UK/Pop/Elton John\",\"US/Rock/Foster The People\",\"US/R&B/George Benson\",\"US/Rock/Green Day\",\"US/R&B/Grover Washington Jr.\",\"US/Soundtrack/Idina Menzel\",\"US/Pop/Jason Mraz\",\"US/Country/John Denver\",\"Canada/Pop/Justin Bieber\",\"US/Pop/Kelly Clarkson\",\"US/Rock/Kings of Leon\",\"US/Soundtrack/Lady Gaga\",\"UK/Pop/Leona Lewis\",\"US/R&B/Louis Armstrong\",\"US/Rock/Maroon 5\",\"US/Pop/Miley Cyrus\",\"US/Rock/Neil Diamond\",\"US/Rock/Nirvana\",\"US/Rock/Passenger\",\"US/Pop/Plain White T's\",\"UK/Rock/Queen\",\"US/R&B/Sean Kingston\",\"US/Rock/Smash Mouth\",\"UK/Rock/Snow Patrol\",\"UK/Pop/Spice Girls\",\"US/Rock/TOTO\",\"US/Pop/Taio Cruz\",\"US/Country/Taylor Swift\",\"UK/Rock/The Police\",\"US/Pop/Train\",\"US/R&B/Whitney Houston\",\"US/Soundtrack/Zac Efron\",\"US/Country\",\"Canada/Pop\",\"UK/Pop\",\"US/Pop\",\"US/R&B\",\"Jamaica/Rock\",\"UK/Rock\",\"US/Rock\",\"US/Soundtrack\",\"Canada\",\"Jamaica\",\"UK\",\"US\"],\"labels\":[\"Just the Way You Are\",\"With You\",\"This Is Me\",\"Shallow\",\"Nothing's Gonna Change My Love for You\",\"Say My Name\",\"Hotel California\",\"Hey There Delilah\",\"Every Breath You Take\",\"Chasing Cars\",\"Livin' On A Prayer\",\"All Star\",\"Wannabe\",\"Use Somebody\",\"Take Me Home, Country Roads\",\"What A Wonderful World\",\"Pumped Up Kicks\",\"Rewrite The Stars\",\"Sweet Caroline\",\"She Will Be Loved\",\"Smells Like Teen Spirit\",\"Toxic\",\"The Scientist\",\"Someone Like You\",\"Love Story\",\"Stand by Me\",\"Under Pressure\",\"Sorry\",\"Africa\",\"Let Her Go\",\"American Pie\",\"As Long As You Love Me\",\"Bad Day\",\"Beautiful Girls\",\"Because of You\",\"Bleeding Love\",\"Bohemian Rhapsody\",\"Boulevard of Broken Dreams\",\"Let It Go\",\"Can't Take My Eyes Off You\",\"Don't Stop Me Now\",\"Dynamite\",\"Hey, Soul Sister\",\"I Don't Want to Miss a Thing\",\"I Want It That Way\",\"I Will Always Love You\",\"I'm Yours\",\"Just the Two of Us\",\"Don't Go Breaking My Heart\",\"Wrecking Ball\",\"Adele\",\"Aerosmith\",\"Andy Williams\",\"Backstreet Boys\",\"Ben E. King\",\"Bon Jovi\",\"Britney Spears\",\"Bruno Mars\",\"Chris Brown\",\"Coldplay\",\"Daniel Powter\",\"Demi Lovato\",\"Destiny's Child\",\"Don McLean\",\"Eagles\",\"Elton John\",\"Foster The People\",\"George Benson\",\"Green Day\",\"Grover Washington Jr.\",\"Idina Menzel\",\"Jason Mraz\",\"John Denver\",\"Justin Bieber\",\"Kelly Clarkson\",\"Kings of Leon\",\"Lady Gaga\",\"Leona Lewis\",\"Louis Armstrong\",\"Maroon 5\",\"Miley Cyrus\",\"Neil Diamond\",\"Nirvana\",\"Passenger\",\"Plain White T's\",\"Queen\",\"Sean Kingston\",\"Smash Mouth\",\"Snow Patrol\",\"Spice Girls\",\"TOTO\",\"Taio Cruz\",\"Taylor Swift\",\"The Police\",\"Train\",\"Whitney Houston\",\"Zac Efron\",\"Country\",\"Pop\",\"Pop\",\"Pop\",\"R&B\",\"Rock\",\"Rock\",\"Rock\",\"Soundtrack\",\"Canada\",\"Jamaica\",\"UK\",\"US\"],\"marker\":{\"colors\":[\"#FF6692\",\"#FF6692\",\"#FF6692\",\"#FF6692\",\"#FF6692\",\"#FF6692\",\"#FF6692\",\"#FF6692\",\"#B6E880\",\"#B6E880\",\"#FF97FF\",\"#FF6692\",\"#B6E880\",\"#FF6692\",\"#FF6692\",\"#FF6692\",\"#FF6692\",\"#FF6692\",\"#FF6692\",\"#FF6692\",\"#FF6692\",\"#FF6692\",\"#B6E880\",\"#B6E880\",\"#FF6692\",\"#FF6692\",\"#B6E880\",\"#FECB52\",\"#FF6692\",\"#FF6692\",\"#FF6692\",\"#FECB52\",\"#FECB52\",\"#FF6692\",\"#FF6692\",\"#B6E880\",\"#B6E880\",\"#FF6692\",\"#FF6692\",\"#FF6692\",\"#B6E880\",\"#FF6692\",\"#FF6692\",\"#FF6692\",\"#FF6692\",\"#FF6692\",\"#FF6692\",\"#FF6692\",\"#B6E880\",\"#FF6692\",\"#B6E880\",\"#FF6692\",\"#FF6692\",\"#FF6692\",\"#FF6692\",\"#FF97FF\",\"#FF6692\",\"#FF6692\",\"#FF6692\",\"#B6E880\",\"#FECB52\",\"#FF6692\",\"#FF6692\",\"#FF6692\",\"#FF6692\",\"#B6E880\",\"#FF6692\",\"#FF6692\",\"#FF6692\",\"#FF6692\",\"#FF6692\",\"#FF6692\",\"#FF6692\",\"#FECB52\",\"#FF6692\",\"#FF6692\",\"#FF6692\",\"#B6E880\",\"#FF6692\",\"#FF6692\",\"#FF6692\",\"#FF6692\",\"#FF6692\",\"#FF6692\",\"#FF6692\",\"#B6E880\",\"#FF6692\",\"#FF6692\",\"#B6E880\",\"#B6E880\",\"#FF6692\",\"#FF6692\",\"#FF6692\",\"#B6E880\",\"#FF6692\",\"#FF6692\",\"#FF6692\",\"#FF6692\",\"#FECB52\",\"#B6E880\",\"#FF6692\",\"#FF6692\",\"#FF97FF\",\"#B6E880\",\"#FF6692\",\"#FF6692\",\"#FECB52\",\"#FF97FF\",\"#B6E880\",\"#FF6692\"]},\"name\":\"\",\"parents\":[\"US/Pop/Bruno Mars\",\"US/R&B/Chris Brown\",\"US/Soundtrack/Demi Lovato\",\"US/Soundtrack/Lady Gaga\",\"US/R&B/George Benson\",\"US/R&B/Destiny's Child\",\"US/Rock/Eagles\",\"US/Pop/Plain White T's\",\"UK/Rock/The Police\",\"UK/Rock/Snow Patrol\",\"Jamaica/Rock/Bon Jovi\",\"US/Rock/Smash Mouth\",\"UK/Pop/Spice Girls\",\"US/Rock/Kings of Leon\",\"US/Country/John Denver\",\"US/R&B/Louis Armstrong\",\"US/Rock/Foster The People\",\"US/Soundtrack/Zac Efron\",\"US/Rock/Neil Diamond\",\"US/Rock/Maroon 5\",\"US/Rock/Nirvana\",\"US/Pop/Britney Spears\",\"UK/Rock/Coldplay\",\"UK/Pop/Adele\",\"US/Country/Taylor Swift\",\"US/R&B/Ben E. King\",\"UK/Rock/Queen\",\"Canada/Pop/Justin Bieber\",\"US/Rock/TOTO\",\"US/Rock/Passenger\",\"US/Rock/Don McLean\",\"Canada/Pop/Justin Bieber\",\"Canada/Pop/Daniel Powter\",\"US/R&B/Sean Kingston\",\"US/Pop/Kelly Clarkson\",\"UK/Pop/Leona Lewis\",\"UK/Rock/Queen\",\"US/Rock/Green Day\",\"US/Soundtrack/Idina Menzel\",\"US/Pop/Andy Williams\",\"UK/Rock/Queen\",\"US/Pop/Taio Cruz\",\"US/Pop/Train\",\"US/Rock/Aerosmith\",\"US/Pop/Backstreet Boys\",\"US/R&B/Whitney Houston\",\"US/Pop/Jason Mraz\",\"US/R&B/Grover Washington Jr.\",\"UK/Pop/Elton John\",\"US/Pop/Miley Cyrus\",\"UK/Pop\",\"US/Rock\",\"US/Pop\",\"US/Pop\",\"US/R&B\",\"Jamaica/Rock\",\"US/Pop\",\"US/Pop\",\"US/R&B\",\"UK/Rock\",\"Canada/Pop\",\"US/Soundtrack\",\"US/R&B\",\"US/Rock\",\"US/Rock\",\"UK/Pop\",\"US/Rock\",\"US/R&B\",\"US/Rock\",\"US/R&B\",\"US/Soundtrack\",\"US/Pop\",\"US/Country\",\"Canada/Pop\",\"US/Pop\",\"US/Rock\",\"US/Soundtrack\",\"UK/Pop\",\"US/R&B\",\"US/Rock\",\"US/Pop\",\"US/Rock\",\"US/Rock\",\"US/Rock\",\"US/Pop\",\"UK/Rock\",\"US/R&B\",\"US/Rock\",\"UK/Rock\",\"UK/Pop\",\"US/Rock\",\"US/Pop\",\"US/Country\",\"UK/Rock\",\"US/Pop\",\"US/R&B\",\"US/Soundtrack\",\"US\",\"Canada\",\"UK\",\"US\",\"US\",\"Jamaica\",\"UK\",\"US\",\"US\",\"\",\"\",\"\",\"\"],\"values\":[1,1,1,1,1,1,1,1,1,1,1,1,1,1,1,1,1,1,1,1,1,1,1,1,1,1,1,1,1,1,1,1,1,1,1,1,1,1,1,1,1,1,1,1,1,1,1,1,1,1,1,1,1,1,1,1,1,1,1,1,1,1,1,1,1,1,1,1,1,1,1,1,1,2,1,1,1,1,1,1,1,1,1,1,1,3,1,1,1,1,1,1,1,1,1,1,1,2,3,4,10,8,1,6,12,4,3,1,10,36],\"type\":\"sunburst\"}],                        {\"template\":{\"data\":{\"histogram2dcontour\":[{\"type\":\"histogram2dcontour\",\"colorbar\":{\"outlinewidth\":0,\"ticks\":\"\"},\"colorscale\":[[0.0,\"#0d0887\"],[0.1111111111111111,\"#46039f\"],[0.2222222222222222,\"#7201a8\"],[0.3333333333333333,\"#9c179e\"],[0.4444444444444444,\"#bd3786\"],[0.5555555555555556,\"#d8576b\"],[0.6666666666666666,\"#ed7953\"],[0.7777777777777778,\"#fb9f3a\"],[0.8888888888888888,\"#fdca26\"],[1.0,\"#f0f921\"]]}],\"choropleth\":[{\"type\":\"choropleth\",\"colorbar\":{\"outlinewidth\":0,\"ticks\":\"\"}}],\"histogram2d\":[{\"type\":\"histogram2d\",\"colorbar\":{\"outlinewidth\":0,\"ticks\":\"\"},\"colorscale\":[[0.0,\"#0d0887\"],[0.1111111111111111,\"#46039f\"],[0.2222222222222222,\"#7201a8\"],[0.3333333333333333,\"#9c179e\"],[0.4444444444444444,\"#bd3786\"],[0.5555555555555556,\"#d8576b\"],[0.6666666666666666,\"#ed7953\"],[0.7777777777777778,\"#fb9f3a\"],[0.8888888888888888,\"#fdca26\"],[1.0,\"#f0f921\"]]}],\"heatmap\":[{\"type\":\"heatmap\",\"colorbar\":{\"outlinewidth\":0,\"ticks\":\"\"},\"colorscale\":[[0.0,\"#0d0887\"],[0.1111111111111111,\"#46039f\"],[0.2222222222222222,\"#7201a8\"],[0.3333333333333333,\"#9c179e\"],[0.4444444444444444,\"#bd3786\"],[0.5555555555555556,\"#d8576b\"],[0.6666666666666666,\"#ed7953\"],[0.7777777777777778,\"#fb9f3a\"],[0.8888888888888888,\"#fdca26\"],[1.0,\"#f0f921\"]]}],\"heatmapgl\":[{\"type\":\"heatmapgl\",\"colorbar\":{\"outlinewidth\":0,\"ticks\":\"\"},\"colorscale\":[[0.0,\"#0d0887\"],[0.1111111111111111,\"#46039f\"],[0.2222222222222222,\"#7201a8\"],[0.3333333333333333,\"#9c179e\"],[0.4444444444444444,\"#bd3786\"],[0.5555555555555556,\"#d8576b\"],[0.6666666666666666,\"#ed7953\"],[0.7777777777777778,\"#fb9f3a\"],[0.8888888888888888,\"#fdca26\"],[1.0,\"#f0f921\"]]}],\"contourcarpet\":[{\"type\":\"contourcarpet\",\"colorbar\":{\"outlinewidth\":0,\"ticks\":\"\"}}],\"contour\":[{\"type\":\"contour\",\"colorbar\":{\"outlinewidth\":0,\"ticks\":\"\"},\"colorscale\":[[0.0,\"#0d0887\"],[0.1111111111111111,\"#46039f\"],[0.2222222222222222,\"#7201a8\"],[0.3333333333333333,\"#9c179e\"],[0.4444444444444444,\"#bd3786\"],[0.5555555555555556,\"#d8576b\"],[0.6666666666666666,\"#ed7953\"],[0.7777777777777778,\"#fb9f3a\"],[0.8888888888888888,\"#fdca26\"],[1.0,\"#f0f921\"]]}],\"surface\":[{\"type\":\"surface\",\"colorbar\":{\"outlinewidth\":0,\"ticks\":\"\"},\"colorscale\":[[0.0,\"#0d0887\"],[0.1111111111111111,\"#46039f\"],[0.2222222222222222,\"#7201a8\"],[0.3333333333333333,\"#9c179e\"],[0.4444444444444444,\"#bd3786\"],[0.5555555555555556,\"#d8576b\"],[0.6666666666666666,\"#ed7953\"],[0.7777777777777778,\"#fb9f3a\"],[0.8888888888888888,\"#fdca26\"],[1.0,\"#f0f921\"]]}],\"mesh3d\":[{\"type\":\"mesh3d\",\"colorbar\":{\"outlinewidth\":0,\"ticks\":\"\"}}],\"scatter\":[{\"fillpattern\":{\"fillmode\":\"overlay\",\"size\":10,\"solidity\":0.2},\"type\":\"scatter\"}],\"parcoords\":[{\"type\":\"parcoords\",\"line\":{\"colorbar\":{\"outlinewidth\":0,\"ticks\":\"\"}}}],\"scatterpolargl\":[{\"type\":\"scatterpolargl\",\"marker\":{\"colorbar\":{\"outlinewidth\":0,\"ticks\":\"\"}}}],\"bar\":[{\"error_x\":{\"color\":\"#2a3f5f\"},\"error_y\":{\"color\":\"#2a3f5f\"},\"marker\":{\"line\":{\"color\":\"#E5ECF6\",\"width\":0.5},\"pattern\":{\"fillmode\":\"overlay\",\"size\":10,\"solidity\":0.2}},\"type\":\"bar\"}],\"scattergeo\":[{\"type\":\"scattergeo\",\"marker\":{\"colorbar\":{\"outlinewidth\":0,\"ticks\":\"\"}}}],\"scatterpolar\":[{\"type\":\"scatterpolar\",\"marker\":{\"colorbar\":{\"outlinewidth\":0,\"ticks\":\"\"}}}],\"histogram\":[{\"marker\":{\"pattern\":{\"fillmode\":\"overlay\",\"size\":10,\"solidity\":0.2}},\"type\":\"histogram\"}],\"scattergl\":[{\"type\":\"scattergl\",\"marker\":{\"colorbar\":{\"outlinewidth\":0,\"ticks\":\"\"}}}],\"scatter3d\":[{\"type\":\"scatter3d\",\"line\":{\"colorbar\":{\"outlinewidth\":0,\"ticks\":\"\"}},\"marker\":{\"colorbar\":{\"outlinewidth\":0,\"ticks\":\"\"}}}],\"scattermapbox\":[{\"type\":\"scattermapbox\",\"marker\":{\"colorbar\":{\"outlinewidth\":0,\"ticks\":\"\"}}}],\"scatterternary\":[{\"type\":\"scatterternary\",\"marker\":{\"colorbar\":{\"outlinewidth\":0,\"ticks\":\"\"}}}],\"scattercarpet\":[{\"type\":\"scattercarpet\",\"marker\":{\"colorbar\":{\"outlinewidth\":0,\"ticks\":\"\"}}}],\"carpet\":[{\"aaxis\":{\"endlinecolor\":\"#2a3f5f\",\"gridcolor\":\"white\",\"linecolor\":\"white\",\"minorgridcolor\":\"white\",\"startlinecolor\":\"#2a3f5f\"},\"baxis\":{\"endlinecolor\":\"#2a3f5f\",\"gridcolor\":\"white\",\"linecolor\":\"white\",\"minorgridcolor\":\"white\",\"startlinecolor\":\"#2a3f5f\"},\"type\":\"carpet\"}],\"table\":[{\"cells\":{\"fill\":{\"color\":\"#EBF0F8\"},\"line\":{\"color\":\"white\"}},\"header\":{\"fill\":{\"color\":\"#C8D4E3\"},\"line\":{\"color\":\"white\"}},\"type\":\"table\"}],\"barpolar\":[{\"marker\":{\"line\":{\"color\":\"#E5ECF6\",\"width\":0.5},\"pattern\":{\"fillmode\":\"overlay\",\"size\":10,\"solidity\":0.2}},\"type\":\"barpolar\"}],\"pie\":[{\"automargin\":true,\"type\":\"pie\"}]},\"layout\":{\"autotypenumbers\":\"strict\",\"colorway\":[\"#636efa\",\"#EF553B\",\"#00cc96\",\"#ab63fa\",\"#FFA15A\",\"#19d3f3\",\"#FF6692\",\"#B6E880\",\"#FF97FF\",\"#FECB52\"],\"font\":{\"color\":\"#2a3f5f\"},\"hovermode\":\"closest\",\"hoverlabel\":{\"align\":\"left\"},\"paper_bgcolor\":\"white\",\"plot_bgcolor\":\"#E5ECF6\",\"polar\":{\"bgcolor\":\"#E5ECF6\",\"angularaxis\":{\"gridcolor\":\"white\",\"linecolor\":\"white\",\"ticks\":\"\"},\"radialaxis\":{\"gridcolor\":\"white\",\"linecolor\":\"white\",\"ticks\":\"\"}},\"ternary\":{\"bgcolor\":\"#E5ECF6\",\"aaxis\":{\"gridcolor\":\"white\",\"linecolor\":\"white\",\"ticks\":\"\"},\"baxis\":{\"gridcolor\":\"white\",\"linecolor\":\"white\",\"ticks\":\"\"},\"caxis\":{\"gridcolor\":\"white\",\"linecolor\":\"white\",\"ticks\":\"\"}},\"coloraxis\":{\"colorbar\":{\"outlinewidth\":0,\"ticks\":\"\"}},\"colorscale\":{\"sequential\":[[0.0,\"#0d0887\"],[0.1111111111111111,\"#46039f\"],[0.2222222222222222,\"#7201a8\"],[0.3333333333333333,\"#9c179e\"],[0.4444444444444444,\"#bd3786\"],[0.5555555555555556,\"#d8576b\"],[0.6666666666666666,\"#ed7953\"],[0.7777777777777778,\"#fb9f3a\"],[0.8888888888888888,\"#fdca26\"],[1.0,\"#f0f921\"]],\"sequentialminus\":[[0.0,\"#0d0887\"],[0.1111111111111111,\"#46039f\"],[0.2222222222222222,\"#7201a8\"],[0.3333333333333333,\"#9c179e\"],[0.4444444444444444,\"#bd3786\"],[0.5555555555555556,\"#d8576b\"],[0.6666666666666666,\"#ed7953\"],[0.7777777777777778,\"#fb9f3a\"],[0.8888888888888888,\"#fdca26\"],[1.0,\"#f0f921\"]],\"diverging\":[[0,\"#8e0152\"],[0.1,\"#c51b7d\"],[0.2,\"#de77ae\"],[0.3,\"#f1b6da\"],[0.4,\"#fde0ef\"],[0.5,\"#f7f7f7\"],[0.6,\"#e6f5d0\"],[0.7,\"#b8e186\"],[0.8,\"#7fbc41\"],[0.9,\"#4d9221\"],[1,\"#276419\"]]},\"xaxis\":{\"gridcolor\":\"white\",\"linecolor\":\"white\",\"ticks\":\"\",\"title\":{\"standoff\":15},\"zerolinecolor\":\"white\",\"automargin\":true,\"zerolinewidth\":2},\"yaxis\":{\"gridcolor\":\"white\",\"linecolor\":\"white\",\"ticks\":\"\",\"title\":{\"standoff\":15},\"zerolinecolor\":\"white\",\"automargin\":true,\"zerolinewidth\":2},\"scene\":{\"xaxis\":{\"backgroundcolor\":\"#E5ECF6\",\"gridcolor\":\"white\",\"linecolor\":\"white\",\"showbackground\":true,\"ticks\":\"\",\"zerolinecolor\":\"white\",\"gridwidth\":2},\"yaxis\":{\"backgroundcolor\":\"#E5ECF6\",\"gridcolor\":\"white\",\"linecolor\":\"white\",\"showbackground\":true,\"ticks\":\"\",\"zerolinecolor\":\"white\",\"gridwidth\":2},\"zaxis\":{\"backgroundcolor\":\"#E5ECF6\",\"gridcolor\":\"white\",\"linecolor\":\"white\",\"showbackground\":true,\"ticks\":\"\",\"zerolinecolor\":\"white\",\"gridwidth\":2}},\"shapedefaults\":{\"line\":{\"color\":\"#2a3f5f\"}},\"annotationdefaults\":{\"arrowcolor\":\"#2a3f5f\",\"arrowhead\":0,\"arrowwidth\":1},\"geo\":{\"bgcolor\":\"white\",\"landcolor\":\"#E5ECF6\",\"subunitcolor\":\"white\",\"showland\":true,\"showlakes\":true,\"lakecolor\":\"white\"},\"title\":{\"x\":0.05},\"mapbox\":{\"style\":\"light\"}}},\"legend\":{\"tracegroupgap\":0},\"margin\":{\"t\":60}},                        {\"responsive\": true}                    ).then(function(){\n",
       "                            \n",
       "var gd = document.getElementById('7b091ff2-0c28-4dc3-816f-7e9cc4cafc9a');\n",
       "var x = new MutationObserver(function (mutations, observer) {{\n",
       "        var display = window.getComputedStyle(gd).display;\n",
       "        if (!display || display === 'none') {{\n",
       "            console.log([gd, 'removed!']);\n",
       "            Plotly.purge(gd);\n",
       "            observer.disconnect();\n",
       "        }}\n",
       "}});\n",
       "\n",
       "// Listen for the removal of the full notebook cells\n",
       "var notebookContainer = gd.closest('#notebook-container');\n",
       "if (notebookContainer) {{\n",
       "    x.observe(notebookContainer, {childList: true});\n",
       "}}\n",
       "\n",
       "// Listen for the clearing of the current output cell\n",
       "var outputEl = gd.closest('.output');\n",
       "if (outputEl) {{\n",
       "    x.observe(outputEl, {childList: true});\n",
       "}}\n",
       "\n",
       "                        })                };                });            </script>        </div>"
      ]
     },
     "metadata": {},
     "output_type": "display_data"
    }
   ],
   "source": [
    "fig = px.sunburst(karaoke_data, path=['Origin', 'Genre', 'Artist', 'Title'], color = 'Origin',\n",
    "                  color_discrete_map={'(?)':'black', 'Pop':'red', 'Rock':'gold', 'R&B':'darkblue', \n",
    "                                      'Soundtrack':'darkblue',  'Country':'orange'}, hover_name = 'Title',\n",
    "                  hover_data = ['Length', 'Score'] )\n",
    "fig.show()\n",
    "\n",
    "fig.write_html(\"sunburst.html\")"
   ]
  },
  {
   "cell_type": "code",
   "execution_count": null,
   "id": "a8d31b7b",
   "metadata": {},
   "outputs": [],
   "source": []
  },
  {
   "cell_type": "code",
   "execution_count": 9,
   "id": "06f06b72",
   "metadata": {},
   "outputs": [
    {
     "data": {
      "application/vnd.plotly.v1+json": {
       "config": {
        "plotlyServerURL": "https://plot.ly"
       },
       "data": [
        {
         "hovertemplate": "<b>%{hovertext}</b><br><br>Genre=Rock<br>Year=%{x}<br>Length (s)=%{y}<br>Score=%{z}<extra></extra>",
         "hovertext": [
          "Hotel California",
          "Smells Like Teen Spirit",
          "Chasing Cars",
          "Let Her Go",
          "The Scientist",
          "Don't Stop Me Now",
          "Pumped Up Kicks",
          "American Pie",
          "She Will Be Loved",
          "Boulevard of Broken Dreams",
          "Bohemian Rhapsody",
          "I Don't Want to Miss a Thing",
          "Every Breath You Take",
          "Livin' On A Prayer",
          "All Star",
          "Sweet Caroline",
          "Africa",
          "Under Pressure",
          "Use Somebody"
         ],
         "legendgroup": "Rock",
         "marker": {
          "color": "#636efa",
          "symbol": "circle"
         },
         "mode": "markers",
         "name": "Rock",
         "scene": "scene",
         "showlegend": true,
         "type": "scatter3d",
         "x": [
          1977,
          1991,
          2006,
          2012,
          2002,
          1979,
          2010,
          1971,
          2004,
          2004,
          1975,
          1998,
          1983,
          1986,
          1999,
          1967,
          1982,
          1981,
          2008
         ],
         "y": [
          391.37625,
          297.7959184,
          221.0075417,
          254.1656236,
          309.2549792,
          209.5833107,
          253.1787755,
          512.1393197,
          267.1689792,
          260.76,
          354,
          322.8386458,
          228.345034,
          249.359093,
          201.9207256,
          200.2953288,
          295.938322,
          233.6653061,
          232.8613333
         ],
         "z": [
          381,
          359,
          345,
          342,
          338,
          338,
          336,
          326,
          323,
          318,
          318,
          316,
          313,
          304,
          294,
          289,
          287,
          283,
          281
         ]
        },
        {
         "hovertemplate": "<b>%{hovertext}</b><br><br>Genre=Pop<br>Year=%{x}<br>Length (s)=%{y}<br>Score=%{z}<extra></extra>",
         "hovertext": [
          "Someone Like You",
          "Hey There Delilah",
          "I'm Yours",
          "Don't Go Breaking My Heart",
          "Hey, Soul Sister",
          "Can't Take My Eyes Off You",
          "Dynamite",
          "Sorry",
          "Toxic",
          "Wannabe",
          "Just the Way You Are",
          "Wrecking Ball",
          "Because of You",
          "As Long As You Love Me",
          "I Want It That Way",
          "Bleeding Love",
          "Bad Day"
         ],
         "legendgroup": "Pop",
         "marker": {
          "color": "#EF553B",
          "symbol": "circle"
         },
         "mode": "markers",
         "name": "Pop",
         "scene": "scene",
         "showlegend": true,
         "type": "scatter3d",
         "x": [
          2011,
          2006,
          2008,
          1976,
          2009,
          1968,
          2010,
          2015,
          2004,
          1996,
          2010,
          2013,
          2004,
          2012,
          1999,
          2007,
          2005
         ],
         "y": [
          287.1118367,
          232.5710833,
          245.481375,
          266.1466667,
          215.2954195,
          193.3866667,
          202.6637642,
          199.3549375,
          198.8693333,
          175.078458,
          220.0206875,
          221.4603333,
          221.0075283,
          229.9820417,
          213.0895238,
          260.8297708,
          233.7552834
         ],
         "z": [
          363,
          360,
          351,
          334,
          328,
          328,
          326,
          320,
          318,
          306,
          301,
          293,
          288,
          287,
          287,
          282,
          281
         ]
        },
        {
         "hovertemplate": "<b>%{hovertext}</b><br><br>Genre=Country<br>Year=%{x}<br>Length (s)=%{y}<br>Score=%{z}<extra></extra>",
         "hovertext": [
          "Take Me Home, Country Roads",
          "Love Story"
         ],
         "legendgroup": "Country",
         "marker": {
          "color": "#00cc96",
          "symbol": "circle"
         },
         "mode": "markers",
         "name": "Country",
         "scene": "scene",
         "showlegend": true,
         "type": "scatter3d",
         "x": [
          1971,
          2008
         ],
         "y": [
          195.5004167,
          234.1035828
         ],
         "z": [
          360,
          342
         ]
        },
        {
         "hovertemplate": "<b>%{hovertext}</b><br><br>Genre=Soundtrack<br>Year=%{x}<br>Length (s)=%{y}<br>Score=%{z}<extra></extra>",
         "hovertext": [
          "Rewrite The Stars",
          "Shallow",
          "This Is Me",
          "Let It Go"
         ],
         "legendgroup": "Soundtrack",
         "marker": {
          "color": "#ab63fa",
          "symbol": "circle"
         },
         "mode": "markers",
         "name": "Soundtrack",
         "scene": "scene",
         "showlegend": true,
         "type": "scatter3d",
         "x": [
          2018,
          2018,
          2008,
          2014
         ],
         "y": [
          216.1777778,
          215.817875,
          187.2457143,
          231.8860833
         ],
         "z": [
          360,
          359,
          311,
          306
         ]
        },
        {
         "hovertemplate": "<b>%{hovertext}</b><br><br>Genre=R&B<br>Year=%{x}<br>Length (s)=%{y}<br>Score=%{z}<extra></extra>",
         "hovertext": [
          "Just the Two of Us",
          "What A Wonderful World",
          "Stand by Me",
          "I Will Always Love You",
          "Beautiful Girls",
          "Nothing's Gonna Change My Love for You",
          "Say My Name",
          "With You"
         ],
         "legendgroup": "R&B",
         "marker": {
          "color": "#FFA15A",
          "symbol": "circle"
         },
         "mode": "markers",
         "name": "R&B",
         "scene": "scene",
         "showlegend": true,
         "type": "scatter3d",
         "x": [
          1981,
          1967,
          1961,
          1992,
          2007,
          1985,
          1999,
          2007
         ],
         "y": [
          236.4139792,
          138.727625,
          177.5513958,
          270.4428125,
          241.1160208,
          241.0133333,
          267.5333333,
          251.9249167
         ],
         "z": [
          350,
          355,
          354,
          339,
          302,
          296,
          293,
          278
         ]
        }
       ],
       "layout": {
        "legend": {
         "title": {
          "text": "Genre"
         },
         "tracegroupgap": 0
        },
        "margin": {
         "t": 60
        },
        "scene": {
         "domain": {
          "x": [
           0,
           1
          ],
          "y": [
           0,
           1
          ]
         },
         "xaxis": {
          "title": {
           "text": "Year"
          }
         },
         "yaxis": {
          "title": {
           "text": "Length (s)"
          }
         },
         "zaxis": {
          "title": {
           "text": "Score"
          }
         }
        },
        "template": {
         "data": {
          "bar": [
           {
            "error_x": {
             "color": "#2a3f5f"
            },
            "error_y": {
             "color": "#2a3f5f"
            },
            "marker": {
             "line": {
              "color": "#E5ECF6",
              "width": 0.5
             },
             "pattern": {
              "fillmode": "overlay",
              "size": 10,
              "solidity": 0.2
             }
            },
            "type": "bar"
           }
          ],
          "barpolar": [
           {
            "marker": {
             "line": {
              "color": "#E5ECF6",
              "width": 0.5
             },
             "pattern": {
              "fillmode": "overlay",
              "size": 10,
              "solidity": 0.2
             }
            },
            "type": "barpolar"
           }
          ],
          "carpet": [
           {
            "aaxis": {
             "endlinecolor": "#2a3f5f",
             "gridcolor": "white",
             "linecolor": "white",
             "minorgridcolor": "white",
             "startlinecolor": "#2a3f5f"
            },
            "baxis": {
             "endlinecolor": "#2a3f5f",
             "gridcolor": "white",
             "linecolor": "white",
             "minorgridcolor": "white",
             "startlinecolor": "#2a3f5f"
            },
            "type": "carpet"
           }
          ],
          "choropleth": [
           {
            "colorbar": {
             "outlinewidth": 0,
             "ticks": ""
            },
            "type": "choropleth"
           }
          ],
          "contour": [
           {
            "colorbar": {
             "outlinewidth": 0,
             "ticks": ""
            },
            "colorscale": [
             [
              0,
              "#0d0887"
             ],
             [
              0.1111111111111111,
              "#46039f"
             ],
             [
              0.2222222222222222,
              "#7201a8"
             ],
             [
              0.3333333333333333,
              "#9c179e"
             ],
             [
              0.4444444444444444,
              "#bd3786"
             ],
             [
              0.5555555555555556,
              "#d8576b"
             ],
             [
              0.6666666666666666,
              "#ed7953"
             ],
             [
              0.7777777777777778,
              "#fb9f3a"
             ],
             [
              0.8888888888888888,
              "#fdca26"
             ],
             [
              1,
              "#f0f921"
             ]
            ],
            "type": "contour"
           }
          ],
          "contourcarpet": [
           {
            "colorbar": {
             "outlinewidth": 0,
             "ticks": ""
            },
            "type": "contourcarpet"
           }
          ],
          "heatmap": [
           {
            "colorbar": {
             "outlinewidth": 0,
             "ticks": ""
            },
            "colorscale": [
             [
              0,
              "#0d0887"
             ],
             [
              0.1111111111111111,
              "#46039f"
             ],
             [
              0.2222222222222222,
              "#7201a8"
             ],
             [
              0.3333333333333333,
              "#9c179e"
             ],
             [
              0.4444444444444444,
              "#bd3786"
             ],
             [
              0.5555555555555556,
              "#d8576b"
             ],
             [
              0.6666666666666666,
              "#ed7953"
             ],
             [
              0.7777777777777778,
              "#fb9f3a"
             ],
             [
              0.8888888888888888,
              "#fdca26"
             ],
             [
              1,
              "#f0f921"
             ]
            ],
            "type": "heatmap"
           }
          ],
          "heatmapgl": [
           {
            "colorbar": {
             "outlinewidth": 0,
             "ticks": ""
            },
            "colorscale": [
             [
              0,
              "#0d0887"
             ],
             [
              0.1111111111111111,
              "#46039f"
             ],
             [
              0.2222222222222222,
              "#7201a8"
             ],
             [
              0.3333333333333333,
              "#9c179e"
             ],
             [
              0.4444444444444444,
              "#bd3786"
             ],
             [
              0.5555555555555556,
              "#d8576b"
             ],
             [
              0.6666666666666666,
              "#ed7953"
             ],
             [
              0.7777777777777778,
              "#fb9f3a"
             ],
             [
              0.8888888888888888,
              "#fdca26"
             ],
             [
              1,
              "#f0f921"
             ]
            ],
            "type": "heatmapgl"
           }
          ],
          "histogram": [
           {
            "marker": {
             "pattern": {
              "fillmode": "overlay",
              "size": 10,
              "solidity": 0.2
             }
            },
            "type": "histogram"
           }
          ],
          "histogram2d": [
           {
            "colorbar": {
             "outlinewidth": 0,
             "ticks": ""
            },
            "colorscale": [
             [
              0,
              "#0d0887"
             ],
             [
              0.1111111111111111,
              "#46039f"
             ],
             [
              0.2222222222222222,
              "#7201a8"
             ],
             [
              0.3333333333333333,
              "#9c179e"
             ],
             [
              0.4444444444444444,
              "#bd3786"
             ],
             [
              0.5555555555555556,
              "#d8576b"
             ],
             [
              0.6666666666666666,
              "#ed7953"
             ],
             [
              0.7777777777777778,
              "#fb9f3a"
             ],
             [
              0.8888888888888888,
              "#fdca26"
             ],
             [
              1,
              "#f0f921"
             ]
            ],
            "type": "histogram2d"
           }
          ],
          "histogram2dcontour": [
           {
            "colorbar": {
             "outlinewidth": 0,
             "ticks": ""
            },
            "colorscale": [
             [
              0,
              "#0d0887"
             ],
             [
              0.1111111111111111,
              "#46039f"
             ],
             [
              0.2222222222222222,
              "#7201a8"
             ],
             [
              0.3333333333333333,
              "#9c179e"
             ],
             [
              0.4444444444444444,
              "#bd3786"
             ],
             [
              0.5555555555555556,
              "#d8576b"
             ],
             [
              0.6666666666666666,
              "#ed7953"
             ],
             [
              0.7777777777777778,
              "#fb9f3a"
             ],
             [
              0.8888888888888888,
              "#fdca26"
             ],
             [
              1,
              "#f0f921"
             ]
            ],
            "type": "histogram2dcontour"
           }
          ],
          "mesh3d": [
           {
            "colorbar": {
             "outlinewidth": 0,
             "ticks": ""
            },
            "type": "mesh3d"
           }
          ],
          "parcoords": [
           {
            "line": {
             "colorbar": {
              "outlinewidth": 0,
              "ticks": ""
             }
            },
            "type": "parcoords"
           }
          ],
          "pie": [
           {
            "automargin": true,
            "type": "pie"
           }
          ],
          "scatter": [
           {
            "fillpattern": {
             "fillmode": "overlay",
             "size": 10,
             "solidity": 0.2
            },
            "type": "scatter"
           }
          ],
          "scatter3d": [
           {
            "line": {
             "colorbar": {
              "outlinewidth": 0,
              "ticks": ""
             }
            },
            "marker": {
             "colorbar": {
              "outlinewidth": 0,
              "ticks": ""
             }
            },
            "type": "scatter3d"
           }
          ],
          "scattercarpet": [
           {
            "marker": {
             "colorbar": {
              "outlinewidth": 0,
              "ticks": ""
             }
            },
            "type": "scattercarpet"
           }
          ],
          "scattergeo": [
           {
            "marker": {
             "colorbar": {
              "outlinewidth": 0,
              "ticks": ""
             }
            },
            "type": "scattergeo"
           }
          ],
          "scattergl": [
           {
            "marker": {
             "colorbar": {
              "outlinewidth": 0,
              "ticks": ""
             }
            },
            "type": "scattergl"
           }
          ],
          "scattermapbox": [
           {
            "marker": {
             "colorbar": {
              "outlinewidth": 0,
              "ticks": ""
             }
            },
            "type": "scattermapbox"
           }
          ],
          "scatterpolar": [
           {
            "marker": {
             "colorbar": {
              "outlinewidth": 0,
              "ticks": ""
             }
            },
            "type": "scatterpolar"
           }
          ],
          "scatterpolargl": [
           {
            "marker": {
             "colorbar": {
              "outlinewidth": 0,
              "ticks": ""
             }
            },
            "type": "scatterpolargl"
           }
          ],
          "scatterternary": [
           {
            "marker": {
             "colorbar": {
              "outlinewidth": 0,
              "ticks": ""
             }
            },
            "type": "scatterternary"
           }
          ],
          "surface": [
           {
            "colorbar": {
             "outlinewidth": 0,
             "ticks": ""
            },
            "colorscale": [
             [
              0,
              "#0d0887"
             ],
             [
              0.1111111111111111,
              "#46039f"
             ],
             [
              0.2222222222222222,
              "#7201a8"
             ],
             [
              0.3333333333333333,
              "#9c179e"
             ],
             [
              0.4444444444444444,
              "#bd3786"
             ],
             [
              0.5555555555555556,
              "#d8576b"
             ],
             [
              0.6666666666666666,
              "#ed7953"
             ],
             [
              0.7777777777777778,
              "#fb9f3a"
             ],
             [
              0.8888888888888888,
              "#fdca26"
             ],
             [
              1,
              "#f0f921"
             ]
            ],
            "type": "surface"
           }
          ],
          "table": [
           {
            "cells": {
             "fill": {
              "color": "#EBF0F8"
             },
             "line": {
              "color": "white"
             }
            },
            "header": {
             "fill": {
              "color": "#C8D4E3"
             },
             "line": {
              "color": "white"
             }
            },
            "type": "table"
           }
          ]
         },
         "layout": {
          "annotationdefaults": {
           "arrowcolor": "#2a3f5f",
           "arrowhead": 0,
           "arrowwidth": 1
          },
          "autotypenumbers": "strict",
          "coloraxis": {
           "colorbar": {
            "outlinewidth": 0,
            "ticks": ""
           }
          },
          "colorscale": {
           "diverging": [
            [
             0,
             "#8e0152"
            ],
            [
             0.1,
             "#c51b7d"
            ],
            [
             0.2,
             "#de77ae"
            ],
            [
             0.3,
             "#f1b6da"
            ],
            [
             0.4,
             "#fde0ef"
            ],
            [
             0.5,
             "#f7f7f7"
            ],
            [
             0.6,
             "#e6f5d0"
            ],
            [
             0.7,
             "#b8e186"
            ],
            [
             0.8,
             "#7fbc41"
            ],
            [
             0.9,
             "#4d9221"
            ],
            [
             1,
             "#276419"
            ]
           ],
           "sequential": [
            [
             0,
             "#0d0887"
            ],
            [
             0.1111111111111111,
             "#46039f"
            ],
            [
             0.2222222222222222,
             "#7201a8"
            ],
            [
             0.3333333333333333,
             "#9c179e"
            ],
            [
             0.4444444444444444,
             "#bd3786"
            ],
            [
             0.5555555555555556,
             "#d8576b"
            ],
            [
             0.6666666666666666,
             "#ed7953"
            ],
            [
             0.7777777777777778,
             "#fb9f3a"
            ],
            [
             0.8888888888888888,
             "#fdca26"
            ],
            [
             1,
             "#f0f921"
            ]
           ],
           "sequentialminus": [
            [
             0,
             "#0d0887"
            ],
            [
             0.1111111111111111,
             "#46039f"
            ],
            [
             0.2222222222222222,
             "#7201a8"
            ],
            [
             0.3333333333333333,
             "#9c179e"
            ],
            [
             0.4444444444444444,
             "#bd3786"
            ],
            [
             0.5555555555555556,
             "#d8576b"
            ],
            [
             0.6666666666666666,
             "#ed7953"
            ],
            [
             0.7777777777777778,
             "#fb9f3a"
            ],
            [
             0.8888888888888888,
             "#fdca26"
            ],
            [
             1,
             "#f0f921"
            ]
           ]
          },
          "colorway": [
           "#636efa",
           "#EF553B",
           "#00cc96",
           "#ab63fa",
           "#FFA15A",
           "#19d3f3",
           "#FF6692",
           "#B6E880",
           "#FF97FF",
           "#FECB52"
          ],
          "font": {
           "color": "#2a3f5f"
          },
          "geo": {
           "bgcolor": "white",
           "lakecolor": "white",
           "landcolor": "#E5ECF6",
           "showlakes": true,
           "showland": true,
           "subunitcolor": "white"
          },
          "hoverlabel": {
           "align": "left"
          },
          "hovermode": "closest",
          "mapbox": {
           "style": "light"
          },
          "paper_bgcolor": "white",
          "plot_bgcolor": "#E5ECF6",
          "polar": {
           "angularaxis": {
            "gridcolor": "white",
            "linecolor": "white",
            "ticks": ""
           },
           "bgcolor": "#E5ECF6",
           "radialaxis": {
            "gridcolor": "white",
            "linecolor": "white",
            "ticks": ""
           }
          },
          "scene": {
           "xaxis": {
            "backgroundcolor": "#E5ECF6",
            "gridcolor": "white",
            "gridwidth": 2,
            "linecolor": "white",
            "showbackground": true,
            "ticks": "",
            "zerolinecolor": "white"
           },
           "yaxis": {
            "backgroundcolor": "#E5ECF6",
            "gridcolor": "white",
            "gridwidth": 2,
            "linecolor": "white",
            "showbackground": true,
            "ticks": "",
            "zerolinecolor": "white"
           },
           "zaxis": {
            "backgroundcolor": "#E5ECF6",
            "gridcolor": "white",
            "gridwidth": 2,
            "linecolor": "white",
            "showbackground": true,
            "ticks": "",
            "zerolinecolor": "white"
           }
          },
          "shapedefaults": {
           "line": {
            "color": "#2a3f5f"
           }
          },
          "ternary": {
           "aaxis": {
            "gridcolor": "white",
            "linecolor": "white",
            "ticks": ""
           },
           "baxis": {
            "gridcolor": "white",
            "linecolor": "white",
            "ticks": ""
           },
           "bgcolor": "#E5ECF6",
           "caxis": {
            "gridcolor": "white",
            "linecolor": "white",
            "ticks": ""
           }
          },
          "title": {
           "x": 0.05
          },
          "xaxis": {
           "automargin": true,
           "gridcolor": "white",
           "linecolor": "white",
           "ticks": "",
           "title": {
            "standoff": 15
           },
           "zerolinecolor": "white",
           "zerolinewidth": 2
          },
          "yaxis": {
           "automargin": true,
           "gridcolor": "white",
           "linecolor": "white",
           "ticks": "",
           "title": {
            "standoff": 15
           },
           "zerolinecolor": "white",
           "zerolinewidth": 2
          }
         }
        }
       }
      },
      "text/html": [
       "<div>                            <div id=\"84cdbb99-29b1-4207-8fad-07333908f2fe\" class=\"plotly-graph-div\" style=\"height:525px; width:100%;\"></div>            <script type=\"text/javascript\">                require([\"plotly\"], function(Plotly) {                    window.PLOTLYENV=window.PLOTLYENV || {};                                    if (document.getElementById(\"84cdbb99-29b1-4207-8fad-07333908f2fe\")) {                    Plotly.newPlot(                        \"84cdbb99-29b1-4207-8fad-07333908f2fe\",                        [{\"hovertemplate\":\"<b>%{hovertext}</b><br><br>Genre=Rock<br>Year=%{x}<br>Length (s)=%{y}<br>Score=%{z}<extra></extra>\",\"hovertext\":[\"Hotel California\",\"Smells Like Teen Spirit\",\"Chasing Cars\",\"Let Her Go\",\"The Scientist\",\"Don't Stop Me Now\",\"Pumped Up Kicks\",\"American Pie\",\"She Will Be Loved\",\"Boulevard of Broken Dreams\",\"Bohemian Rhapsody\",\"I Don't Want to Miss a Thing\",\"Every Breath You Take\",\"Livin' On A Prayer\",\"All Star\",\"Sweet Caroline\",\"Africa\",\"Under Pressure\",\"Use Somebody\"],\"legendgroup\":\"Rock\",\"marker\":{\"color\":\"#636efa\",\"symbol\":\"circle\"},\"mode\":\"markers\",\"name\":\"Rock\",\"scene\":\"scene\",\"showlegend\":true,\"x\":[1977,1991,2006,2012,2002,1979,2010,1971,2004,2004,1975,1998,1983,1986,1999,1967,1982,1981,2008],\"y\":[391.37625,297.7959184,221.0075417,254.1656236,309.2549792,209.5833107,253.1787755,512.1393197,267.1689792,260.76,354.0,322.8386458,228.345034,249.359093,201.9207256,200.2953288,295.938322,233.6653061,232.8613333],\"z\":[381,359,345,342,338,338,336,326,323,318,318,316,313,304,294,289,287,283,281],\"type\":\"scatter3d\"},{\"hovertemplate\":\"<b>%{hovertext}</b><br><br>Genre=Pop<br>Year=%{x}<br>Length (s)=%{y}<br>Score=%{z}<extra></extra>\",\"hovertext\":[\"Someone Like You\",\"Hey There Delilah\",\"I'm Yours\",\"Don't Go Breaking My Heart\",\"Hey, Soul Sister\",\"Can't Take My Eyes Off You\",\"Dynamite\",\"Sorry\",\"Toxic\",\"Wannabe\",\"Just the Way You Are\",\"Wrecking Ball\",\"Because of You\",\"As Long As You Love Me\",\"I Want It That Way\",\"Bleeding Love\",\"Bad Day\"],\"legendgroup\":\"Pop\",\"marker\":{\"color\":\"#EF553B\",\"symbol\":\"circle\"},\"mode\":\"markers\",\"name\":\"Pop\",\"scene\":\"scene\",\"showlegend\":true,\"x\":[2011,2006,2008,1976,2009,1968,2010,2015,2004,1996,2010,2013,2004,2012,1999,2007,2005],\"y\":[287.1118367,232.5710833,245.481375,266.1466667,215.2954195,193.3866667,202.6637642,199.3549375,198.8693333,175.078458,220.0206875,221.4603333,221.0075283,229.9820417,213.0895238,260.8297708,233.7552834],\"z\":[363,360,351,334,328,328,326,320,318,306,301,293,288,287,287,282,281],\"type\":\"scatter3d\"},{\"hovertemplate\":\"<b>%{hovertext}</b><br><br>Genre=Country<br>Year=%{x}<br>Length (s)=%{y}<br>Score=%{z}<extra></extra>\",\"hovertext\":[\"Take Me Home, Country Roads\",\"Love Story\"],\"legendgroup\":\"Country\",\"marker\":{\"color\":\"#00cc96\",\"symbol\":\"circle\"},\"mode\":\"markers\",\"name\":\"Country\",\"scene\":\"scene\",\"showlegend\":true,\"x\":[1971,2008],\"y\":[195.5004167,234.1035828],\"z\":[360,342],\"type\":\"scatter3d\"},{\"hovertemplate\":\"<b>%{hovertext}</b><br><br>Genre=Soundtrack<br>Year=%{x}<br>Length (s)=%{y}<br>Score=%{z}<extra></extra>\",\"hovertext\":[\"Rewrite The Stars\",\"Shallow\",\"This Is Me\",\"Let It Go\"],\"legendgroup\":\"Soundtrack\",\"marker\":{\"color\":\"#ab63fa\",\"symbol\":\"circle\"},\"mode\":\"markers\",\"name\":\"Soundtrack\",\"scene\":\"scene\",\"showlegend\":true,\"x\":[2018,2018,2008,2014],\"y\":[216.1777778,215.817875,187.2457143,231.8860833],\"z\":[360,359,311,306],\"type\":\"scatter3d\"},{\"hovertemplate\":\"<b>%{hovertext}</b><br><br>Genre=R&B<br>Year=%{x}<br>Length (s)=%{y}<br>Score=%{z}<extra></extra>\",\"hovertext\":[\"Just the Two of Us\",\"What A Wonderful World\",\"Stand by Me\",\"I Will Always Love You\",\"Beautiful Girls\",\"Nothing's Gonna Change My Love for You\",\"Say My Name\",\"With You\"],\"legendgroup\":\"R&B\",\"marker\":{\"color\":\"#FFA15A\",\"symbol\":\"circle\"},\"mode\":\"markers\",\"name\":\"R&B\",\"scene\":\"scene\",\"showlegend\":true,\"x\":[1981,1967,1961,1992,2007,1985,1999,2007],\"y\":[236.4139792,138.727625,177.5513958,270.4428125,241.1160208,241.0133333,267.5333333,251.9249167],\"z\":[350,355,354,339,302,296,293,278],\"type\":\"scatter3d\"}],                        {\"template\":{\"data\":{\"histogram2dcontour\":[{\"type\":\"histogram2dcontour\",\"colorbar\":{\"outlinewidth\":0,\"ticks\":\"\"},\"colorscale\":[[0.0,\"#0d0887\"],[0.1111111111111111,\"#46039f\"],[0.2222222222222222,\"#7201a8\"],[0.3333333333333333,\"#9c179e\"],[0.4444444444444444,\"#bd3786\"],[0.5555555555555556,\"#d8576b\"],[0.6666666666666666,\"#ed7953\"],[0.7777777777777778,\"#fb9f3a\"],[0.8888888888888888,\"#fdca26\"],[1.0,\"#f0f921\"]]}],\"choropleth\":[{\"type\":\"choropleth\",\"colorbar\":{\"outlinewidth\":0,\"ticks\":\"\"}}],\"histogram2d\":[{\"type\":\"histogram2d\",\"colorbar\":{\"outlinewidth\":0,\"ticks\":\"\"},\"colorscale\":[[0.0,\"#0d0887\"],[0.1111111111111111,\"#46039f\"],[0.2222222222222222,\"#7201a8\"],[0.3333333333333333,\"#9c179e\"],[0.4444444444444444,\"#bd3786\"],[0.5555555555555556,\"#d8576b\"],[0.6666666666666666,\"#ed7953\"],[0.7777777777777778,\"#fb9f3a\"],[0.8888888888888888,\"#fdca26\"],[1.0,\"#f0f921\"]]}],\"heatmap\":[{\"type\":\"heatmap\",\"colorbar\":{\"outlinewidth\":0,\"ticks\":\"\"},\"colorscale\":[[0.0,\"#0d0887\"],[0.1111111111111111,\"#46039f\"],[0.2222222222222222,\"#7201a8\"],[0.3333333333333333,\"#9c179e\"],[0.4444444444444444,\"#bd3786\"],[0.5555555555555556,\"#d8576b\"],[0.6666666666666666,\"#ed7953\"],[0.7777777777777778,\"#fb9f3a\"],[0.8888888888888888,\"#fdca26\"],[1.0,\"#f0f921\"]]}],\"heatmapgl\":[{\"type\":\"heatmapgl\",\"colorbar\":{\"outlinewidth\":0,\"ticks\":\"\"},\"colorscale\":[[0.0,\"#0d0887\"],[0.1111111111111111,\"#46039f\"],[0.2222222222222222,\"#7201a8\"],[0.3333333333333333,\"#9c179e\"],[0.4444444444444444,\"#bd3786\"],[0.5555555555555556,\"#d8576b\"],[0.6666666666666666,\"#ed7953\"],[0.7777777777777778,\"#fb9f3a\"],[0.8888888888888888,\"#fdca26\"],[1.0,\"#f0f921\"]]}],\"contourcarpet\":[{\"type\":\"contourcarpet\",\"colorbar\":{\"outlinewidth\":0,\"ticks\":\"\"}}],\"contour\":[{\"type\":\"contour\",\"colorbar\":{\"outlinewidth\":0,\"ticks\":\"\"},\"colorscale\":[[0.0,\"#0d0887\"],[0.1111111111111111,\"#46039f\"],[0.2222222222222222,\"#7201a8\"],[0.3333333333333333,\"#9c179e\"],[0.4444444444444444,\"#bd3786\"],[0.5555555555555556,\"#d8576b\"],[0.6666666666666666,\"#ed7953\"],[0.7777777777777778,\"#fb9f3a\"],[0.8888888888888888,\"#fdca26\"],[1.0,\"#f0f921\"]]}],\"surface\":[{\"type\":\"surface\",\"colorbar\":{\"outlinewidth\":0,\"ticks\":\"\"},\"colorscale\":[[0.0,\"#0d0887\"],[0.1111111111111111,\"#46039f\"],[0.2222222222222222,\"#7201a8\"],[0.3333333333333333,\"#9c179e\"],[0.4444444444444444,\"#bd3786\"],[0.5555555555555556,\"#d8576b\"],[0.6666666666666666,\"#ed7953\"],[0.7777777777777778,\"#fb9f3a\"],[0.8888888888888888,\"#fdca26\"],[1.0,\"#f0f921\"]]}],\"mesh3d\":[{\"type\":\"mesh3d\",\"colorbar\":{\"outlinewidth\":0,\"ticks\":\"\"}}],\"scatter\":[{\"fillpattern\":{\"fillmode\":\"overlay\",\"size\":10,\"solidity\":0.2},\"type\":\"scatter\"}],\"parcoords\":[{\"type\":\"parcoords\",\"line\":{\"colorbar\":{\"outlinewidth\":0,\"ticks\":\"\"}}}],\"scatterpolargl\":[{\"type\":\"scatterpolargl\",\"marker\":{\"colorbar\":{\"outlinewidth\":0,\"ticks\":\"\"}}}],\"bar\":[{\"error_x\":{\"color\":\"#2a3f5f\"},\"error_y\":{\"color\":\"#2a3f5f\"},\"marker\":{\"line\":{\"color\":\"#E5ECF6\",\"width\":0.5},\"pattern\":{\"fillmode\":\"overlay\",\"size\":10,\"solidity\":0.2}},\"type\":\"bar\"}],\"scattergeo\":[{\"type\":\"scattergeo\",\"marker\":{\"colorbar\":{\"outlinewidth\":0,\"ticks\":\"\"}}}],\"scatterpolar\":[{\"type\":\"scatterpolar\",\"marker\":{\"colorbar\":{\"outlinewidth\":0,\"ticks\":\"\"}}}],\"histogram\":[{\"marker\":{\"pattern\":{\"fillmode\":\"overlay\",\"size\":10,\"solidity\":0.2}},\"type\":\"histogram\"}],\"scattergl\":[{\"type\":\"scattergl\",\"marker\":{\"colorbar\":{\"outlinewidth\":0,\"ticks\":\"\"}}}],\"scatter3d\":[{\"type\":\"scatter3d\",\"line\":{\"colorbar\":{\"outlinewidth\":0,\"ticks\":\"\"}},\"marker\":{\"colorbar\":{\"outlinewidth\":0,\"ticks\":\"\"}}}],\"scattermapbox\":[{\"type\":\"scattermapbox\",\"marker\":{\"colorbar\":{\"outlinewidth\":0,\"ticks\":\"\"}}}],\"scatterternary\":[{\"type\":\"scatterternary\",\"marker\":{\"colorbar\":{\"outlinewidth\":0,\"ticks\":\"\"}}}],\"scattercarpet\":[{\"type\":\"scattercarpet\",\"marker\":{\"colorbar\":{\"outlinewidth\":0,\"ticks\":\"\"}}}],\"carpet\":[{\"aaxis\":{\"endlinecolor\":\"#2a3f5f\",\"gridcolor\":\"white\",\"linecolor\":\"white\",\"minorgridcolor\":\"white\",\"startlinecolor\":\"#2a3f5f\"},\"baxis\":{\"endlinecolor\":\"#2a3f5f\",\"gridcolor\":\"white\",\"linecolor\":\"white\",\"minorgridcolor\":\"white\",\"startlinecolor\":\"#2a3f5f\"},\"type\":\"carpet\"}],\"table\":[{\"cells\":{\"fill\":{\"color\":\"#EBF0F8\"},\"line\":{\"color\":\"white\"}},\"header\":{\"fill\":{\"color\":\"#C8D4E3\"},\"line\":{\"color\":\"white\"}},\"type\":\"table\"}],\"barpolar\":[{\"marker\":{\"line\":{\"color\":\"#E5ECF6\",\"width\":0.5},\"pattern\":{\"fillmode\":\"overlay\",\"size\":10,\"solidity\":0.2}},\"type\":\"barpolar\"}],\"pie\":[{\"automargin\":true,\"type\":\"pie\"}]},\"layout\":{\"autotypenumbers\":\"strict\",\"colorway\":[\"#636efa\",\"#EF553B\",\"#00cc96\",\"#ab63fa\",\"#FFA15A\",\"#19d3f3\",\"#FF6692\",\"#B6E880\",\"#FF97FF\",\"#FECB52\"],\"font\":{\"color\":\"#2a3f5f\"},\"hovermode\":\"closest\",\"hoverlabel\":{\"align\":\"left\"},\"paper_bgcolor\":\"white\",\"plot_bgcolor\":\"#E5ECF6\",\"polar\":{\"bgcolor\":\"#E5ECF6\",\"angularaxis\":{\"gridcolor\":\"white\",\"linecolor\":\"white\",\"ticks\":\"\"},\"radialaxis\":{\"gridcolor\":\"white\",\"linecolor\":\"white\",\"ticks\":\"\"}},\"ternary\":{\"bgcolor\":\"#E5ECF6\",\"aaxis\":{\"gridcolor\":\"white\",\"linecolor\":\"white\",\"ticks\":\"\"},\"baxis\":{\"gridcolor\":\"white\",\"linecolor\":\"white\",\"ticks\":\"\"},\"caxis\":{\"gridcolor\":\"white\",\"linecolor\":\"white\",\"ticks\":\"\"}},\"coloraxis\":{\"colorbar\":{\"outlinewidth\":0,\"ticks\":\"\"}},\"colorscale\":{\"sequential\":[[0.0,\"#0d0887\"],[0.1111111111111111,\"#46039f\"],[0.2222222222222222,\"#7201a8\"],[0.3333333333333333,\"#9c179e\"],[0.4444444444444444,\"#bd3786\"],[0.5555555555555556,\"#d8576b\"],[0.6666666666666666,\"#ed7953\"],[0.7777777777777778,\"#fb9f3a\"],[0.8888888888888888,\"#fdca26\"],[1.0,\"#f0f921\"]],\"sequentialminus\":[[0.0,\"#0d0887\"],[0.1111111111111111,\"#46039f\"],[0.2222222222222222,\"#7201a8\"],[0.3333333333333333,\"#9c179e\"],[0.4444444444444444,\"#bd3786\"],[0.5555555555555556,\"#d8576b\"],[0.6666666666666666,\"#ed7953\"],[0.7777777777777778,\"#fb9f3a\"],[0.8888888888888888,\"#fdca26\"],[1.0,\"#f0f921\"]],\"diverging\":[[0,\"#8e0152\"],[0.1,\"#c51b7d\"],[0.2,\"#de77ae\"],[0.3,\"#f1b6da\"],[0.4,\"#fde0ef\"],[0.5,\"#f7f7f7\"],[0.6,\"#e6f5d0\"],[0.7,\"#b8e186\"],[0.8,\"#7fbc41\"],[0.9,\"#4d9221\"],[1,\"#276419\"]]},\"xaxis\":{\"gridcolor\":\"white\",\"linecolor\":\"white\",\"ticks\":\"\",\"title\":{\"standoff\":15},\"zerolinecolor\":\"white\",\"automargin\":true,\"zerolinewidth\":2},\"yaxis\":{\"gridcolor\":\"white\",\"linecolor\":\"white\",\"ticks\":\"\",\"title\":{\"standoff\":15},\"zerolinecolor\":\"white\",\"automargin\":true,\"zerolinewidth\":2},\"scene\":{\"xaxis\":{\"backgroundcolor\":\"#E5ECF6\",\"gridcolor\":\"white\",\"linecolor\":\"white\",\"showbackground\":true,\"ticks\":\"\",\"zerolinecolor\":\"white\",\"gridwidth\":2},\"yaxis\":{\"backgroundcolor\":\"#E5ECF6\",\"gridcolor\":\"white\",\"linecolor\":\"white\",\"showbackground\":true,\"ticks\":\"\",\"zerolinecolor\":\"white\",\"gridwidth\":2},\"zaxis\":{\"backgroundcolor\":\"#E5ECF6\",\"gridcolor\":\"white\",\"linecolor\":\"white\",\"showbackground\":true,\"ticks\":\"\",\"zerolinecolor\":\"white\",\"gridwidth\":2}},\"shapedefaults\":{\"line\":{\"color\":\"#2a3f5f\"}},\"annotationdefaults\":{\"arrowcolor\":\"#2a3f5f\",\"arrowhead\":0,\"arrowwidth\":1},\"geo\":{\"bgcolor\":\"white\",\"landcolor\":\"#E5ECF6\",\"subunitcolor\":\"white\",\"showland\":true,\"showlakes\":true,\"lakecolor\":\"white\"},\"title\":{\"x\":0.05},\"mapbox\":{\"style\":\"light\"}}},\"scene\":{\"domain\":{\"x\":[0.0,1.0],\"y\":[0.0,1.0]},\"xaxis\":{\"title\":{\"text\":\"Year\"}},\"yaxis\":{\"title\":{\"text\":\"Length (s)\"}},\"zaxis\":{\"title\":{\"text\":\"Score\"}}},\"legend\":{\"title\":{\"text\":\"Genre\"},\"tracegroupgap\":0},\"margin\":{\"t\":60}},                        {\"responsive\": true}                    ).then(function(){\n",
       "                            \n",
       "var gd = document.getElementById('84cdbb99-29b1-4207-8fad-07333908f2fe');\n",
       "var x = new MutationObserver(function (mutations, observer) {{\n",
       "        var display = window.getComputedStyle(gd).display;\n",
       "        if (!display || display === 'none') {{\n",
       "            console.log([gd, 'removed!']);\n",
       "            Plotly.purge(gd);\n",
       "            observer.disconnect();\n",
       "        }}\n",
       "}});\n",
       "\n",
       "// Listen for the removal of the full notebook cells\n",
       "var notebookContainer = gd.closest('#notebook-container');\n",
       "if (notebookContainer) {{\n",
       "    x.observe(notebookContainer, {childList: true});\n",
       "}}\n",
       "\n",
       "// Listen for the clearing of the current output cell\n",
       "var outputEl = gd.closest('.output');\n",
       "if (outputEl) {{\n",
       "    x.observe(outputEl, {childList: true});\n",
       "}}\n",
       "\n",
       "                        })                };                });            </script>        </div>"
      ]
     },
     "metadata": {},
     "output_type": "display_data"
    }
   ],
   "source": [
    "fig = px.scatter_3d(karaoke_data, x = 'Year', y = 'Length', z='Score', color='Genre', hover_name = 'Title', \n",
    "                    labels={'Length':'Length (s)'})\n",
    "fig.show()\n",
    "fig.write_html(\"3D.html\")"
   ]
  },
  {
   "cell_type": "code",
   "execution_count": null,
   "id": "7f1a7134",
   "metadata": {},
   "outputs": [],
   "source": []
  }
 ],
 "metadata": {
  "kernelspec": {
   "display_name": "Python 3 (ipykernel)",
   "language": "python",
   "name": "python3"
  },
  "language_info": {
   "codemirror_mode": {
    "name": "ipython",
    "version": 3
   },
   "file_extension": ".py",
   "mimetype": "text/x-python",
   "name": "python",
   "nbconvert_exporter": "python",
   "pygments_lexer": "ipython3",
   "version": "3.8.16"
  }
 },
 "nbformat": 4,
 "nbformat_minor": 5
}
